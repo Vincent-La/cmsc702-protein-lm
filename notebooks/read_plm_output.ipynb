{
 "cells": [
  {
   "cell_type": "code",
   "execution_count": 1,
   "metadata": {},
   "outputs": [],
   "source": [
    "import numpy as np\n",
    "import os\n",
    "import pandas as pd"
   ]
  },
  {
   "cell_type": "code",
   "execution_count": 37,
   "metadata": {},
   "outputs": [],
   "source": [
    "esm_results_old_path = os.path.join('..', 'results/cadherin/esmfold/results.zip')\n",
    "esm_results_old = np.load(esm_results_old_path)\n",
    "job_name = 'cadherin'\n",
    "\n",
    "esm_results_path = '../results/cadherin/esmfold_test/cadherin.npz'\n",
    "esm_results = np.load(esm_results_path)\n",
    "\n",
    "#number of sequences in Cadherin MSA\n",
    "num_seqs = 55\n",
    "#esm_results.keys()\n",
    "esm_dfs = []\n",
    "for i in range(num_seqs):\n",
    "    # index into NPzFile object with file name\n",
    "    contact_matrix_test = esm_results_old[f'{i}_{job_name}']\n",
    "    \n",
    "    \n",
    "    assert np.all(contact_matrix_test == esm_results[f'arr_{i}'])\n",
    "\n"
   ]
  }
 ],
 "metadata": {
  "kernelspec": {
   "display_name": "protein-lm",
   "language": "python",
   "name": "protein-lm"
  },
  "language_info": {
   "codemirror_mode": {
    "name": "ipython",
    "version": 3
   },
   "file_extension": ".py",
   "mimetype": "text/x-python",
   "name": "python",
   "nbconvert_exporter": "python",
   "pygments_lexer": "ipython3",
   "version": "3.10.0"
  }
 },
 "nbformat": 4,
 "nbformat_minor": 2
}
