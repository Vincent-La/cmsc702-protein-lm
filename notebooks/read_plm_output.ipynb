{
 "cells": [
  {
   "cell_type": "code",
   "execution_count": 1,
   "metadata": {},
   "outputs": [],
   "source": [
    "import numpy as np\n",
    "import os\n",
    "import pandas as pd"
   ]
  },
  {
   "cell_type": "code",
   "execution_count": null,
   "metadata": {},
   "outputs": [],
   "source": [
    "# just sanity checking that results are the same after changing formats\n",
    "esm_results_old_path = os.path.join('..', 'results/cadherin/esmfold/results.zip')\n",
    "esm_results_old = np.load(esm_results_old_path)\n",
    "job_name = 'cadherin'\n",
    "\n",
    "esm_results_path = '../results/cadherin/esmfold_test/cadherin.npz'\n",
    "esm_results = np.load(esm_results_path)\n",
    "\n",
    "#number of sequences in Cadherin MSA\n",
    "num_seqs = 55\n",
    "#esm_results.keys()\n",
    "esm_dfs = []\n",
    "for i in range(num_seqs):\n",
    "    # index into NPzFile object with file name\n",
    "    contact_matrix_test = esm_results_old[f'{i}_{job_name}']\n",
    "    \n",
    "    \n",
    "    assert np.all(contact_matrix_test == esm_results[f'arr_{i}'])\n",
    "\n"
   ]
  },
  {
   "cell_type": "code",
   "execution_count": 18,
   "metadata": {},
   "outputs": [
    {
     "data": {
      "text/plain": [
       "NpzFile '../results/cadherin/esmfold_test/cadherin_contacthead.npz' with keys: arr_0, arr_1, arr_2, arr_3, arr_4..."
      ]
     },
     "execution_count": 18,
     "metadata": {},
     "output_type": "execute_result"
    }
   ],
   "source": [
    "# ESMFOLD output\n",
    "esmfold_results_path = '../results/cadherin/esmfold_test/cadherin.npz'\n",
    "esmfold_results = np.load(esmfold_results_path)\n",
    "\n",
    "# contact head output\n",
    "esm_contacthead_path = os.path.join('..', 'results/cadherin/esmfold_test/cadherin_contacthead.npz')\n",
    "esm_contacthead_results = np.load(esm_contacthead_path)\n",
    "esm_contacthead_results"
   ]
  },
  {
   "cell_type": "code",
   "execution_count": 25,
   "metadata": {},
   "outputs": [
    {
     "data": {
      "text/plain": [
       "['arr_0',\n",
       " 'arr_1',\n",
       " 'arr_2',\n",
       " 'arr_3',\n",
       " 'arr_4',\n",
       " 'arr_5',\n",
       " 'arr_6',\n",
       " 'arr_7',\n",
       " 'arr_8',\n",
       " 'arr_9',\n",
       " 'arr_10',\n",
       " 'arr_11',\n",
       " 'arr_12',\n",
       " 'arr_13',\n",
       " 'arr_14',\n",
       " 'arr_15',\n",
       " 'arr_16',\n",
       " 'arr_17',\n",
       " 'arr_18',\n",
       " 'arr_19',\n",
       " 'arr_20',\n",
       " 'arr_21',\n",
       " 'arr_22',\n",
       " 'arr_23',\n",
       " 'arr_24',\n",
       " 'arr_25',\n",
       " 'arr_26',\n",
       " 'arr_27',\n",
       " 'arr_28',\n",
       " 'arr_29',\n",
       " 'arr_30',\n",
       " 'arr_31',\n",
       " 'arr_32',\n",
       " 'arr_33',\n",
       " 'arr_34',\n",
       " 'arr_35',\n",
       " 'arr_36',\n",
       " 'arr_37',\n",
       " 'arr_38',\n",
       " 'arr_39',\n",
       " 'arr_40',\n",
       " 'arr_41',\n",
       " 'arr_42',\n",
       " 'arr_43',\n",
       " 'arr_44',\n",
       " 'arr_45',\n",
       " 'arr_46',\n",
       " 'arr_47',\n",
       " 'arr_48',\n",
       " 'arr_49',\n",
       " 'arr_50',\n",
       " 'arr_51',\n",
       " 'arr_52',\n",
       " 'arr_53',\n",
       " 'arr_54']"
      ]
     },
     "execution_count": 25,
     "metadata": {},
     "output_type": "execute_result"
    }
   ],
   "source": [
    "list(esm_contacthead_results.keys())"
   ]
  },
  {
   "cell_type": "code",
   "execution_count": null,
   "metadata": {},
   "outputs": [],
   "source": [
    "# all shpaes match up\n",
    "for i in range(54):\n",
    "    assert esmfold_results[f'arr_{i}'].shape == esm_contacthead_results[f'arr_{i}'].shape\n"
   ]
  }
 ],
 "metadata": {
  "kernelspec": {
   "display_name": "Python 3",
   "language": "python",
   "name": "python3"
  },
  "language_info": {
   "codemirror_mode": {
    "name": "ipython",
    "version": 3
   },
   "file_extension": ".py",
   "mimetype": "text/x-python",
   "name": "python",
   "nbconvert_exporter": "python",
   "pygments_lexer": "ipython3",
   "version": "3.10.0"
  }
 },
 "nbformat": 4,
 "nbformat_minor": 2
}
