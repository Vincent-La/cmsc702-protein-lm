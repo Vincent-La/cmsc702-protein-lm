{
 "cells": [
  {
   "cell_type": "code",
   "execution_count": 22,
   "id": "223211ac-c6e5-4c11-a8f7-fdc4a94af533",
   "metadata": {},
   "outputs": [
    {
     "name": "stdout",
     "output_type": "stream",
     "text": [
      "current dir:  /home/neko/fall2024/CMSC702/cmsc702-protein-lm\n",
      "current dir:  /home/neko/fall2024/CMSC702/cmsc702-protein-lm/notebooks\n"
     ]
    }
   ],
   "source": [
    "from dca.dca_class import dca\n",
    "from Bio import AlignIO\n",
    "from Bio import SeqIO\n",
    "import os"
   ]
  },
  {
   "cell_type": "code",
   "execution_count": 24,
   "id": "4b122515-44f9-4a68-a5f3-9dc8f8c25829",
   "metadata": {},
   "outputs": [],
   "source": [
    "# get the cadherin data\n",
    "cadherin_msa_path = os.path.join('..', 'data', 'cadherin', 'PF00028.alignment.seed')\n",
    "alignment = AlignIO.read(cadherin_msa_path, 'stockholm')\n",
    "\n",
    "# convert to fasta file\n",
    "with open(\"../data/cadherin/PF00028_alignment.faa\", \"w\") as handle:\n",
    "    count = SeqIO.write(alignment, handle, \"fasta\")\n",
    "handle.close()"
   ]
  },
  {
   "cell_type": "code",
   "execution_count": null,
   "id": "6c699fb7-031e-4011-9e06-aebdd646c653",
   "metadata": {},
   "outputs": [
    {
     "name": "stderr",
     "output_type": "stream",
     "text": [
      "/home/neko/miniconda3/envs/dca/lib/python3.10/site-packages/numba/np/ufunc/parallel.py:371: NumbaWarning: The TBB threading layer requires TBB version 2021 update 6 or later i.e., TBB_INTERFACE_VERSION >= 12060. Found TBB_INTERFACE_VERSION = 12050. The TBB threading layer is disabled.\n",
      "  warnings.warn(problem)\n"
     ]
    }
   ],
   "source": [
    "# DCA script\n",
    "protein_family = dca(\"../data/cadherin/PF00028_alignment.faa\")\n",
    "protein_family.mean_field()\n",
    "protein_family.DI # contains DI scores for each pair\n",
    "protein_family.couplings # NxNxqxq matrix of couplings (eij)\n",
    "protein_family.localfields # Nxq matrix of localfields (h)\n",
    "protein_family.compute_Hamiltonian('sequence_file') # returns (Hamiltonians,sequence_headers) for input sequences\n"
   ]
  },
  {
   "cell_type": "code",
   "execution_count": null,
   "id": "93a0923e-390f-4204-9de5-9b4df3cec1e9",
   "metadata": {},
   "outputs": [],
   "source": []
  }
 ],
 "metadata": {
  "kernelspec": {
   "display_name": "dca",
   "language": "python",
   "name": "dca"
  },
  "language_info": {
   "codemirror_mode": {
    "name": "ipython",
    "version": 3
   },
   "file_extension": ".py",
   "mimetype": "text/x-python",
   "name": "python",
   "nbconvert_exporter": "python",
   "pygments_lexer": "ipython3",
   "version": "3.10.15"
  }
 },
 "nbformat": 4,
 "nbformat_minor": 5
}
