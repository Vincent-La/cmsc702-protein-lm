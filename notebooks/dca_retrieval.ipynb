{
 "cells": [
  {
   "cell_type": "code",
   "execution_count": 1,
   "id": "223211ac-c6e5-4c11-a8f7-fdc4a94af533",
   "metadata": {},
   "outputs": [],
   "source": [
    "from dca.dca_class import dca\n",
    "from Bio import AlignIO\n",
    "from Bio import SeqIO\n",
    "import os"
   ]
  },
  {
   "cell_type": "code",
   "execution_count": 8,
   "id": "4b122515-44f9-4a68-a5f3-9dc8f8c25829",
   "metadata": {},
   "outputs": [],
   "source": [
    "# get the cadherin data\n",
    "cadherin_msa_path = os.path.join('..', 'data', 'cadherin', 'PF00028.alignment.seed')\n",
    "alignment = AlignIO.read(cadherin_msa_path, 'stockholm')\n",
    "\n",
    "# convert to fasta file\n",
    "with open(\"../data/cadherin/PF00028_alignment.faa\", \"w\") as handle:\n",
    "    count = SeqIO.write(alignment, handle, \"fasta\")\n",
    "handle.close()"
   ]
  },
  {
   "cell_type": "code",
   "execution_count": 2,
   "id": "6c699fb7-031e-4011-9e06-aebdd646c653",
   "metadata": {},
   "outputs": [
    {
     "data": {
      "text/plain": [
       "(array([-2629.10539788, -2627.3196091 , -2626.3319366 , -2664.58132671,\n",
       "        -2667.03541237, -2732.60960059, -2588.65284948, -2611.18541307,\n",
       "        -2666.81413517, -2623.62902005, -2619.69366526, -2656.70080545,\n",
       "        -2598.91989454, -2679.69199594, -2739.8594398 , -2673.63406216,\n",
       "        -2514.33869638, -2669.51342692, -2710.57342476, -2669.33900692,\n",
       "        -2623.00985682, -2704.80197912, -2670.63597231, -2631.4979147 ,\n",
       "        -2699.20976436, -2664.92812767, -2735.00697928, -2699.05056595,\n",
       "        -2638.72219056, -2667.65222307, -2704.91988389, -2622.57734652,\n",
       "        -2655.50237214, -2659.20497795, -2583.62955203, -2661.51389239,\n",
       "        -2627.43829877, -2593.82348628, -2559.94527149, -2671.89209198,\n",
       "        -2710.46803696, -2782.3575076 , -2716.39438892, -2718.96653974,\n",
       "        -2714.63900403, -2593.87111178, -2634.64226355, -2525.89177271,\n",
       "        -2510.3486053 , -2666.68382242, -2657.73117005, -2581.02441118,\n",
       "        -2656.92101959, -2656.09234155, -2657.69271663]),\n",
       " ['DSC2_BOVIN/428-517',\n",
       "  'DSC1_BOVIN/475-567',\n",
       "  'CADH2_BOVIN/502-596',\n",
       "  'CAD15_MOUSE/379-473',\n",
       "  'CADHK_CHICK/344-438',\n",
       "  'FAT_DROME/1494-1592',\n",
       "  'FAT_DROME/2389-2482',\n",
       "  'FAT_DROME/275-373',\n",
       "  'FAT_DROME/499-590',\n",
       "  'FAT_DROME/161-261',\n",
       "  'FAT_DROME/1719-1814',\n",
       "  'CADH5_HUMAN/156-249',\n",
       "  'CADH5_HUMAN/377-470',\n",
       "  'CADH5_HUMAN/52-142',\n",
       "  'CAD13_CHICK/143-236',\n",
       "  'CADHK_CHICK/11-105',\n",
       "  'DSC1_BOVIN/137-231',\n",
       "  'DSG1_BOVIN/54-148',\n",
       "  'RET_HUMAN/172-261',\n",
       "  'FAT_DROME/837-931',\n",
       "  'FAT_DROME/3444-3537',\n",
       "  'FAT_DROME/2917-3004',\n",
       "  'FAT_DROME/2709-2801',\n",
       "  'FAT_DROME/1828-1913',\n",
       "  'FAT_DROME/2496-2587',\n",
       "  'FAT_DROME/1283-1375',\n",
       "  'FAT_DROME/392-485',\n",
       "  'FAT_DROME/604-699',\n",
       "  'FAT_DROME/2815-2904',\n",
       "  'FAT_DROME/3550-3642',\n",
       "  'DSC1_BOVIN/245-343',\n",
       "  'CAD13_CHICK/250-354',\n",
       "  'CADHK_CHICK/119-218',\n",
       "  'DSG1_BOVIN/162-260',\n",
       "  'FAT_DROME/3018-3115',\n",
       "  'FAT_DROME/950-1040',\n",
       "  'FAT_DROME/1389-1480',\n",
       "  'FAT_DROME/1054-1144',\n",
       "  'FAT_DROME/1927-2018',\n",
       "  'FAT_DROME/3129-3220',\n",
       "  'CADH2_BOVIN/608-701',\n",
       "  'CAD15_MOUSE/486-579',\n",
       "  'CADH1_HUMAN/598-686',\n",
       "  'CADH1_CHICK/604-690',\n",
       "  'CADHK_CHICK/450-537',\n",
       "  'FAT_DROME/3234-3325',\n",
       "  'FAT_DROME/2283-2375',\n",
       "  'FAT_DROME/3339-3430',\n",
       "  'CADH5_HUMAN/263-364',\n",
       "  'CADHK_CHICK/232-331',\n",
       "  'DSC1_BOVIN/357-462',\n",
       "  'DSG3_HUMAN/272-375',\n",
       "  'CAD15_MOUSE/264-366',\n",
       "  'CADH2_BOVIN/387-489',\n",
       "  'CAD13_CHICK/368-469'])"
      ]
     },
     "execution_count": 2,
     "metadata": {},
     "output_type": "execute_result"
    }
   ],
   "source": [
    "# DCA script\n",
    "sequence_file = '../data/cadherin/PF00028_alignment.faa'\n",
    "protein_family = dca(sequence_file)\n",
    "protein_family.mean_field()\n",
    "protein_family.DI # contains DI scores for each pair\n",
    "protein_family.couplings # NxNxqxq matrix of couplings (eij)\n",
    "protein_family.localfields # Nxq matrix of localfields (h)\n",
    "protein_family.compute_Hamiltonian(sequence_file) # returns (Hamiltonians,sequence_headers) for input sequences\n"
   ]
  },
  {
   "cell_type": "code",
   "execution_count": 3,
   "id": "93a0923e-390f-4204-9de5-9b4df3cec1e9",
   "metadata": {},
   "outputs": [
    {
     "data": {
      "text/plain": [
       "<dca.dca_class.dca at 0x7f2bb404c8e0>"
      ]
     },
     "execution_count": 3,
     "metadata": {},
     "output_type": "execute_result"
    }
   ],
   "source": [
    "protein_family"
   ]
  },
  {
   "cell_type": "code",
   "execution_count": 22,
   "id": "fef55e21-da3a-4ba0-b771-db94dcfdcb33",
   "metadata": {},
   "outputs": [
    {
     "data": {
      "text/plain": [
       "array([[0.00000000e+00, 1.00000000e+00, 2.85042052e-02],\n",
       "       [0.00000000e+00, 2.00000000e+00, 5.93692797e-02],\n",
       "       [0.00000000e+00, 3.00000000e+00, 3.46213130e-02],\n",
       "       ...,\n",
       "       [1.26000000e+02, 1.27000000e+02, 1.39619498e-02],\n",
       "       [1.26000000e+02, 1.28000000e+02, 2.78907484e-02],\n",
       "       [1.27000000e+02, 1.28000000e+02, 3.15820666e-02]])"
      ]
     },
     "execution_count": 22,
     "metadata": {},
     "output_type": "execute_result"
    }
   ],
   "source": [
    "protein_family.DI"
   ]
  },
  {
   "cell_type": "code",
   "execution_count": null,
   "id": "415ccf27-db23-49f5-9087-74cf2e215ba8",
   "metadata": {},
   "outputs": [],
   "source": []
  }
 ],
 "metadata": {
  "kernelspec": {
   "display_name": "dca",
   "language": "python",
   "name": "dca"
  },
  "language_info": {
   "codemirror_mode": {
    "name": "ipython",
    "version": 3
   },
   "file_extension": ".py",
   "mimetype": "text/x-python",
   "name": "python",
   "nbconvert_exporter": "python",
   "pygments_lexer": "ipython3",
   "version": "3.10.15"
  }
 },
 "nbformat": 4,
 "nbformat_minor": 5
}
