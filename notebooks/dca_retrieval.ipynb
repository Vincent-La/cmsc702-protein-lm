{
 "cells": [
  {
   "cell_type": "code",
   "execution_count": 1,
   "id": "223211ac-c6e5-4c11-a8f7-fdc4a94af533",
   "metadata": {},
   "outputs": [],
   "source": [
    "from Bio import AlignIO\n",
    "from Bio import SeqIO\n",
    "import random\n",
    "import sys\n",
    "import argparse\n",
    "import numpy as np\n",
    "from difflib import SequenceMatcher"
   ]
  },
  {
   "cell_type": "code",
   "execution_count": 2,
   "id": "a47f0fe4-996a-4544-9a0b-5f09abcaa1dc",
   "metadata": {},
   "outputs": [],
   "source": [
    "def similar(a, b):\n",
    "    return SequenceMatcher(None, a, b).ratio()"
   ]
  },
  {
   "cell_type": "code",
   "execution_count": 3,
   "id": "42f7c8f4-f26e-4a28-a9f8-396d7e396b02",
   "metadata": {},
   "outputs": [],
   "source": [
    "file_path = '../data/rna/PF00076_full_alignment.faa'\n",
    "#file_path = 'data/cadherin/PF00028_full_alignment_2o72_uniprot.faa'\n",
    "N = 2000\n",
    "L = 491\n",
    "R = 585\n",
    "L = None\n",
    "flag = True\n",
    "#267–366\n",
    "#491, 585\n",
    "#output_name = args.output_path"
   ]
  },
  {
   "cell_type": "code",
   "execution_count": 4,
   "id": "b4b5b810-71f0-4c26-b19c-050e4d7dd67e",
   "metadata": {},
   "outputs": [],
   "source": [
    "seen = set()\n",
    "records = []\n",
    "ratios = []\n",
    "\n",
    "def gap_ratio(seq):\n",
    "    return len(seq.replace('-',''))/len(seq)\n",
    "\n",
    "if L==None or R==None:\n",
    "    flag = False\n",
    "for record in SeqIO.parse(file_path, 'fasta'): \n",
    "    if flag and record[L:R].seq not in seen:\n",
    "        ratios.append(gap_ratio(record[L:R].seq))\n",
    "        seen.add(record[L:R].seq)\n",
    "        records.append(record[L:R])\n",
    "    elif not flag and record.seq not in seen:\n",
    "        ratios.append(gap_ratio(record.seq))\n",
    "        if gap_ratio(record.seq) >= 0:\n",
    "            seen.add(record.seq)\n",
    "            records.append(record)"
   ]
  },
  {
   "cell_type": "code",
   "execution_count": 5,
   "id": "a8705161-fd99-434d-8512-8603a9cbf787",
   "metadata": {},
   "outputs": [
    {
     "data": {
      "text/plain": [
       "240258"
      ]
     },
     "execution_count": 5,
     "metadata": {},
     "output_type": "execute_result"
    }
   ],
   "source": [
    "len(ratios)"
   ]
  },
  {
   "cell_type": "code",
   "execution_count": 6,
   "id": "30be7871-aa21-4604-9469-0318cff9e08f",
   "metadata": {},
   "outputs": [
    {
     "data": {
      "text/plain": [
       "Text(0.5, 0, 'percentage of non-gaps')"
      ]
     },
     "execution_count": 6,
     "metadata": {},
     "output_type": "execute_result"
    },
    {
     "data": {
      "image/png": "[encoded data removed]",
      "text/plain": [
       "<Figure size 640x480 with 1 Axes>"
      ]
     },
     "metadata": {},
     "output_type": "display_data"
    }
   ],
   "source": [
    "import matplotlib.pyplot as plt\n",
    "plt.hist(ratios)\n",
    "plt.xlabel('percentage of non-gaps')"
   ]
  },
  {
   "cell_type": "code",
   "execution_count": 8,
   "id": "0ef0ec02-8a37-4a8e-910d-d66104c716f7",
   "metadata": {},
   "outputs": [],
   "source": [
    "random.shuffle(records)"
   ]
  },
  {
   "cell_type": "code",
   "execution_count": 6,
   "id": "1a331745-0db7-4b75-a0da-65a775345e7d",
   "metadata": {},
   "outputs": [],
   "source": [
    "records = records[0:N]"
   ]
  },
  {
   "cell_type": "code",
   "execution_count": null,
   "id": "05374377-f809-4132-8d9f-e08e00be395a",
   "metadata": {},
   "outputs": [],
   "source": [
    "def custom(item):\n",
    "    return str(item.seq)\n",
    "sorted(records, key=custom)"
   ]
  },
  {
   "cell_type": "code",
   "execution_count": 30,
   "id": "2618881c-d183-4cb0-9e2e-35e358575baa",
   "metadata": {},
   "outputs": [
    {
     "data": {
      "text/plain": [
       "[SeqRecord(seq=Seq('------------------------------------------------------...---'), id='A0A674ME89_TAKRU/132-227', name='A0A674ME89_TAKRU/132-227', description='A0A674ME89_TAKRU/132-227', dbxrefs=[]),\n",
       " SeqRecord(seq=Seq('------------------------------------------------------...---'), id='G3SSV2_LOXAF/379-470', name='G3SSV2_LOXAF/379-470', description='G3SSV2_LOXAF/379-470', dbxrefs=[]),\n",
       " SeqRecord(seq=Seq('------------------------I-------Q---------V----------T...--D'), id='A0A7L0TFL3_PODPO/1-80', name='A0A7L0TFL3_PODPO/1-80', description='A0A7L0TFL3_PODPO/1-80', dbxrefs=[])]"
      ]
     },
     "execution_count": 30,
     "metadata": {},
     "output_type": "execute_result"
    }
   ],
   "source": [
    "records[0:3]"
   ]
  },
  {
   "cell_type": "code",
   "execution_count": 10,
   "id": "ffc23da3-a76a-4533-a3f6-18fc7e7c4ee8",
   "metadata": {},
   "outputs": [
    {
     "data": {
      "text/plain": [
       "2000"
      ]
     },
     "execution_count": 10,
     "metadata": {},
     "output_type": "execute_result"
    }
   ],
   "source": [
    "len(records)"
   ]
  },
  {
   "cell_type": "code",
   "execution_count": null,
   "id": "029b6a17-cd1d-481a-9e75-29093c2db958",
   "metadata": {},
   "outputs": [],
   "source": [
    "flag = False\n",
    "for i in range(len(records)):\n",
    "    if flag:\n",
    "        break\n",
    "    for j in range(len(records)):\n",
    "        if i != j:\n",
    "            a = records[i]\n",
    "            b = records[j]\n",
    "            v = similar(a,b)\n",
    "            if v >= 0.9:\n",
    "                records.pop(i)\n",
    "                flag = True\n",
    "                print(v)\n",
    "                break "
   ]
  },
  {
   "cell_type": "code",
   "execution_count": null,
   "id": "f2afa25f-f7c0-4664-904e-597825340c71",
   "metadata": {},
   "outputs": [],
   "source": [
    "dp = np.full((len(records),len(records)),-1,dtype=float)\n",
    "for i in range(len(records)):\n",
    "    for j in range(len(records)):\n",
    "        # get similarity between site i and site j\n",
    "        if dp[j,i] != -1:\n",
    "            dp[i,j] = dp[j][i]\n",
    "        elif i != j:\n",
    "            a = records[i]\n",
    "            b = records[j]\n",
    "            v = similar(a,b)\n",
    "            dp[i,j] = v\n",
    "        else:\n",
    "            dp[i,j] = 1"
   ]
  },
  {
   "cell_type": "code",
   "execution_count": 75,
   "id": "7268e067-fb49-4f26-99e2-6f6fccd54b94",
   "metadata": {},
   "outputs": [
    {
     "data": {
      "text/plain": [
       "119"
      ]
     },
     "execution_count": 75,
     "metadata": {},
     "output_type": "execute_result"
    }
   ],
   "source": [
    "len(records)"
   ]
  },
  {
   "cell_type": "code",
   "execution_count": 40,
   "id": "b1a59b8f-de89-4739-9157-80ff7f9558a7",
   "metadata": {},
   "outputs": [],
   "source": [
    "csv_path = 'results/cadherin/mfdca/PF00028_8000_sequences_2o72_uniprot_mfdca.csv'\n",
    "import pandas as pd\n",
    "df = pd.read_csv(csv_path)"
   ]
  },
  {
   "cell_type": "code",
   "execution_count": 47,
   "id": "944da92a-3ce3-42f5-ad2d-e81c7a4d6739",
   "metadata": {},
   "outputs": [
    {
     "data": {
      "text/plain": [
       "0.00032672270714853005"
      ]
     },
     "execution_count": 47,
     "metadata": {},
     "output_type": "execute_result"
    }
   ],
   "source": [
    "df['mf_dca'].mean()"
   ]
  },
  {
   "cell_type": "code",
   "execution_count": null,
   "id": "3daa3f14-5711-4e49-8d5c-9c8472d31f22",
   "metadata": {},
   "outputs": [],
   "source": []
  }
 ],
 "metadata": {
  "kernelspec": {
   "display_name": "dca",
   "language": "python",
   "name": "dca"
  },
  "language_info": {
   "codemirror_mode": {
    "name": "ipython",
    "version": 3
   },
   "file_extension": ".py",
   "mimetype": "text/x-python",
   "name": "python",
   "nbconvert_exporter": "python",
   "pygments_lexer": "ipython3",
   "version": "3.10.15"
  }
 },
 "nbformat": 4,
 "nbformat_minor": 5
}
