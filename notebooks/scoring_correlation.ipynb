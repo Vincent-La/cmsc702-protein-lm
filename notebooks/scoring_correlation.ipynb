{
 "cells": [
  {
   "cell_type": "code",
   "execution_count": 19,
   "metadata": {},
   "outputs": [],
   "source": [
    "import numpy as np\n",
    "import os\n",
    "import pandas as pd"
   ]
  },
  {
   "cell_type": "code",
   "execution_count": null,
   "metadata": {},
   "outputs": [],
   "source": [
    "# create dataframe of ranked pairs from ESM contact matrix\n",
    "def df_from_esm_contact_matrix(contact_matrix):\n",
    "    \n",
    "    gather = []\n",
    "    \n",
    "    # traverse over upper right triangle, exlucding main diagonal\n",
    "    for i in range(contact_matrix.shape[0]):\n",
    "        for j in range(i+1, contact_matrix.shape[1]):\n",
    "            # SANITY check the matrix should be symmetric\n",
    "            assert contact_matrix[i][j] == contact_matrix[j][i]\n",
    "            row_dict = dict(\n",
    "                i = i,\n",
    "                j = j,\n",
    "                prob = contact_matrix[i,j]\n",
    "            )\n",
    "            \n",
    "            gather.append(row_dict)\n",
    "\n",
    "    return pd.DataFrame(gather).sort_values(by='prob', ascending = False)"
   ]
  },
  {
   "cell_type": "code",
   "execution_count": 39,
   "metadata": {},
   "outputs": [],
   "source": [
    "# Load esm results\n",
    "esm_results_path = os.path.join('..', 'results/cadherin/esmfold/results.zip')\n",
    "esm_results = np.load(esm_results_path)\n",
    "job_name = 'cadherin'"
   ]
  },
  {
   "cell_type": "code",
   "execution_count": 40,
   "metadata": {},
   "outputs": [
    {
     "data": {
      "text/plain": [
       "KeysView(NpzFile '../results/cadherin/esmfold/results.zip' with keys: 0_cadherin, 10_cadherin, 11_cadherin, 12_cadherin, 13_cadherin...)"
      ]
     },
     "execution_count": 40,
     "metadata": {},
     "output_type": "execute_result"
    }
   ],
   "source": [
    "esm_results.keys()"
   ]
  },
  {
   "cell_type": "code",
   "execution_count": 45,
   "metadata": {},
   "outputs": [],
   "source": [
    "#number of sequences in Cadherin MSA\n",
    "num_seqs = 55\n",
    "\n",
    "dataframes = []\n",
    "for i in range(num_seqs):\n",
    "    # index into NPzFile object with file name\n",
    "    contact_matrix = esm_results[f'{i}_{job_name}']\n",
    "    df = df_from_esm_contact_matrix(contact_matrix)\n",
    "    dataframes.append(df)\n",
    "    "
   ]
  },
  {
   "cell_type": "code",
   "execution_count": null,
   "metadata": {},
   "outputs": [
    {
     "data": {
      "text/html": [
       "<div>\n",
       "<style scoped>\n",
       "    .dataframe tbody tr th:only-of-type {\n",
       "        vertical-align: middle;\n",
       "    }\n",
       "\n",
       "    .dataframe tbody tr th {\n",
       "        vertical-align: top;\n",
       "    }\n",
       "\n",
       "    .dataframe thead th {\n",
       "        text-align: right;\n",
       "    }\n",
       "</style>\n",
       "<table border=\"1\" class=\"dataframe\">\n",
       "  <thead>\n",
       "    <tr style=\"text-align: right;\">\n",
       "      <th></th>\n",
       "      <th>i</th>\n",
       "      <th>j</th>\n",
       "      <th>prob</th>\n",
       "    </tr>\n",
       "  </thead>\n",
       "  <tbody>\n",
       "    <tr>\n",
       "      <th>2175</th>\n",
       "      <td>29</td>\n",
       "      <td>30</td>\n",
       "      <td>1.000000</td>\n",
       "    </tr>\n",
       "    <tr>\n",
       "      <th>3185</th>\n",
       "      <td>49</td>\n",
       "      <td>50</td>\n",
       "      <td>1.000000</td>\n",
       "    </tr>\n",
       "    <tr>\n",
       "      <th>3144</th>\n",
       "      <td>48</td>\n",
       "      <td>49</td>\n",
       "      <td>1.000000</td>\n",
       "    </tr>\n",
       "    <tr>\n",
       "      <th>3225</th>\n",
       "      <td>50</td>\n",
       "      <td>51</td>\n",
       "      <td>1.000000</td>\n",
       "    </tr>\n",
       "    <tr>\n",
       "      <th>3102</th>\n",
       "      <td>47</td>\n",
       "      <td>48</td>\n",
       "      <td>1.000000</td>\n",
       "    </tr>\n",
       "    <tr>\n",
       "      <th>...</th>\n",
       "      <td>...</td>\n",
       "      <td>...</td>\n",
       "      <td>...</td>\n",
       "    </tr>\n",
       "    <tr>\n",
       "      <th>1377</th>\n",
       "      <td>17</td>\n",
       "      <td>18</td>\n",
       "      <td>0.999882</td>\n",
       "    </tr>\n",
       "    <tr>\n",
       "      <th>3996</th>\n",
       "      <td>85</td>\n",
       "      <td>87</td>\n",
       "      <td>0.999866</td>\n",
       "    </tr>\n",
       "    <tr>\n",
       "      <th>2114</th>\n",
       "      <td>28</td>\n",
       "      <td>29</td>\n",
       "      <td>0.999850</td>\n",
       "    </tr>\n",
       "    <tr>\n",
       "      <th>4004</th>\n",
       "      <td>88</td>\n",
       "      <td>89</td>\n",
       "      <td>0.999835</td>\n",
       "    </tr>\n",
       "    <tr>\n",
       "      <th>3816</th>\n",
       "      <td>70</td>\n",
       "      <td>72</td>\n",
       "      <td>0.999819</td>\n",
       "    </tr>\n",
       "  </tbody>\n",
       "</table>\n",
       "<p>90 rows × 3 columns</p>\n",
       "</div>"
      ],
      "text/plain": [
       "       i   j      prob\n",
       "2175  29  30  1.000000\n",
       "3185  49  50  1.000000\n",
       "3144  48  49  1.000000\n",
       "3225  50  51  1.000000\n",
       "3102  47  48  1.000000\n",
       "...   ..  ..       ...\n",
       "1377  17  18  0.999882\n",
       "3996  85  87  0.999866\n",
       "2114  28  29  0.999850\n",
       "4004  88  89  0.999835\n",
       "3816  70  72  0.999819\n",
       "\n",
       "[90 rows x 3 columns]"
      ]
     },
     "execution_count": 46,
     "metadata": {},
     "output_type": "execute_result"
    }
   ],
   "source": [
    "# replace with whatever L (length of true structure file protein) should actually be\n",
    "# for the precision@L calculations\n",
    "\n",
    "# NOTE: these indices are relative to the sequence, not MSA\n",
    "# NOTE: only include unique pairs if i,j exists then j,i does not and i != j\n",
    "L = 90\n",
    "dataframes[0][:L]"
   ]
  }
 ],
 "metadata": {
  "kernelspec": {
   "display_name": "protein-lm",
   "language": "python",
   "name": "protein-lm"
  },
  "language_info": {
   "codemirror_mode": {
    "name": "ipython",
    "version": 3
   },
   "file_extension": ".py",
   "mimetype": "text/x-python",
   "name": "python",
   "nbconvert_exporter": "python",
   "pygments_lexer": "ipython3",
   "version": "3.10.0"
  }
 },
 "nbformat": 4,
 "nbformat_minor": 2
}
