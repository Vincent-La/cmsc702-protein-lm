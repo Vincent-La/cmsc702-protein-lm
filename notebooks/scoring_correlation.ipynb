{
 "cells": [
  {
   "cell_type": "markdown",
   "metadata": {},
   "source": [
    "## Imports"
   ]
  },
  {
   "cell_type": "code",
   "execution_count": null,
   "metadata": {},
   "outputs": [],
   "source": [
    "import numpy as np\n",
    "import os\n",
    "import pandas as pd\n",
    "import matplotlib.pyplot as plt"
   ]
  },
  {
   "cell_type": "code",
   "execution_count": 29,
   "metadata": {},
   "outputs": [],
   "source": [
    "# create dataframe of ranked pairs from ESM contact matrix\n",
    "def df_from_esm_contact_matrix(contact_matrix):\n",
    "    \n",
    "    gather = []\n",
    "    \n",
    "    # traverse over upper right triangle, exlucding main diagonal\n",
    "    for i in range(contact_matrix.shape[0]):\n",
    "        for j in range(i+1, contact_matrix.shape[1]):\n",
    "            # SANITY check the matrix should be symmetric\n",
    "            assert contact_matrix[i][j] == contact_matrix[j][i]\n",
    "            row_dict = dict(\n",
    "                i = i,\n",
    "                j = j,\n",
    "                prob = contact_matrix[i,j]\n",
    "            )\n",
    "            \n",
    "            gather.append(row_dict)\n",
    "\n",
    "    return pd.DataFrame(gather).sort_values(by='prob', ascending = False)"
   ]
  },
  {
   "cell_type": "markdown",
   "metadata": {},
   "source": [
    "## Load data"
   ]
  },
  {
   "cell_type": "markdown",
   "metadata": {},
   "source": [
    "### Load ESM data"
   ]
  },
  {
   "cell_type": "code",
   "execution_count": null,
   "metadata": {},
   "outputs": [],
   "source": [
    "esm_results_path = os.path.join('..', 'results/cadherin/esmfold/results.zip')\n",
    "esm_results = np.load(esm_results_path)\n",
    "job_name = 'cadherin'\n",
    "\n",
    "#number of sequences in Cadherin MSA\n",
    "num_seqs = 55\n",
    "#esm_results.keys()\n",
    "esm_dfs = []\n",
    "for i in range(num_seqs):\n",
    "    # index into NPzFile object with file name\n",
    "    contact_matrix = esm_results[f'{i}_{job_name}']\n",
    "    df = df_from_esm_contact_matrix(contact_matrix)\n",
    "    esm_dfs.append(df)\n",
    "    \n",
    "for i in range(len(esm_dfs)):\n",
    "    esm_dfs[i] = df.sort_values(by=\"prob\", ascending=False).reset_index(drop=True)"
   ]
  },
  {
   "cell_type": "markdown",
   "metadata": {},
   "source": [
    "### Load True Contacts"
   ]
  },
  {
   "cell_type": "code",
   "execution_count": null,
   "metadata": {},
   "outputs": [],
   "source": [
    "real_contacts_path = os.path.join('..', 'data', 'cadherin', 'PF00028_real_contacts.csv')\n",
    "real_contacts = np.genfromtxt(real_contacts_path,delimiter=',') # import\n",
    "real_contacts_df = pd.DataFrame(real_contacts).astype(int)"
   ]
  },
  {
   "cell_type": "markdown",
   "metadata": {},
   "source": [
    "### Load DCA data"
   ]
  },
  {
   "cell_type": "code",
   "execution_count": 32,
   "metadata": {},
   "outputs": [],
   "source": [
    "# Load Motherfuckin DCA results \n",
    "mfdca_results_path = os.path.join('..', 'data', 'cadherin', 'PF00028_mfdca.csv')\n",
    "mfdca_results = np.genfromtxt(mfdca_results_path,delimiter=',') # import\n",
    "mfdca_df = pd.DataFrame(mfdca_results).iloc[1:,1:] # drop empty columns and header row\n",
    "for i in [1,2]:\n",
    "    mfdca_df[\"i\" if i==1 else \"j\"] = mfdca_df[i].astype(int) # convert to ints\n",
    "mfdca_df[\"prob\"] = mfdca_df[3] # rename columns\n",
    "mfdca_df = mfdca_df[[\"i\", \"j\", \"prob\"]] # take only reformatted, renamed columns\n",
    "mfdca_df = mfdca_df.sort_values(by=\"prob\", ascending=False).reset_index(drop=True) # sort by descending score and reset index\n",
    "# Load PLM DCA results TODO: CURRENTLY A STAND-IN\n",
    "plmdca_results_path = os.path.join('..', 'data', 'cadherin', 'PF00028_mfdca.csv')\n",
    "plmdca_results = np.genfromtxt(mfdca_results_path,delimiter=',')\n",
    "plmdca_df = pd.DataFrame(plmdca_results).iloc[1:,1:]\n",
    "for i in [1,2]:\n",
    "    plmdca_df[\"i\" if i==1 else \"j\"] = plmdca_df[i].astype(int) # convert to ints\n",
    "plmdca_df[\"prob\"] = plmdca_df[3] # rename columns\n",
    "plmdca_df = plmdca_df[[\"i\", \"j\", \"prob\"]] # take only reformatted, renamed columns\n",
    "plmdca_df = plmdca_df.sort_values(by=\"prob\", ascending=False).reset_index(drop=True) # sort by descending score and reset index"
   ]
  },
  {
   "cell_type": "markdown",
   "metadata": {},
   "source": [
    "## Process Data"
   ]
  },
  {
   "cell_type": "code",
   "execution_count": null,
   "metadata": {},
   "outputs": [],
   "source": [
    "# replace with whatever L (length of true structure file protein) should actually be\n",
    "# for the precision@L calculations\n",
    "\n",
    "# NOTE: these indices are relative to the sequence, not MSA\n",
    "# NOTE: only include unique pairs if i,j exists then j,i does not and i != j\n",
    "L = 90\n",
    "top_L_esm = esm_dfs[0][:L]\n",
    "top_L_mf = mfdca_df[:L]\n",
    "top_L_plm = plmdca_df[:L]\n",
    "real_contacts_df"
   ]
  },
  {
   "cell_type": "code",
   "execution_count": 47,
   "metadata": {},
   "outputs": [
    {
     "data": {
      "text/html": [
       "<div>\n",
       "<style scoped>\n",
       "    .dataframe tbody tr th:only-of-type {\n",
       "        vertical-align: middle;\n",
       "    }\n",
       "\n",
       "    .dataframe tbody tr th {\n",
       "        vertical-align: top;\n",
       "    }\n",
       "\n",
       "    .dataframe thead th {\n",
       "        text-align: right;\n",
       "    }\n",
       "</style>\n",
       "<table border=\"1\" class=\"dataframe\">\n",
       "  <thead>\n",
       "    <tr style=\"text-align: right;\">\n",
       "      <th></th>\n",
       "      <th>i</th>\n",
       "      <th>j</th>\n",
       "      <th>prob</th>\n",
       "    </tr>\n",
       "  </thead>\n",
       "  <tbody>\n",
       "    <tr>\n",
       "      <th>0</th>\n",
       "      <td>45</td>\n",
       "      <td>48</td>\n",
       "      <td>0.299342</td>\n",
       "    </tr>\n",
       "    <tr>\n",
       "      <th>1</th>\n",
       "      <td>45</td>\n",
       "      <td>47</td>\n",
       "      <td>0.277358</td>\n",
       "    </tr>\n",
       "    <tr>\n",
       "      <th>2</th>\n",
       "      <td>112</td>\n",
       "      <td>113</td>\n",
       "      <td>0.243650</td>\n",
       "    </tr>\n",
       "    <tr>\n",
       "      <th>3</th>\n",
       "      <td>47</td>\n",
       "      <td>48</td>\n",
       "      <td>0.235820</td>\n",
       "    </tr>\n",
       "    <tr>\n",
       "      <th>4</th>\n",
       "      <td>46</td>\n",
       "      <td>47</td>\n",
       "      <td>0.216699</td>\n",
       "    </tr>\n",
       "    <tr>\n",
       "      <th>...</th>\n",
       "      <td>...</td>\n",
       "      <td>...</td>\n",
       "      <td>...</td>\n",
       "    </tr>\n",
       "    <tr>\n",
       "      <th>85</th>\n",
       "      <td>70</td>\n",
       "      <td>122</td>\n",
       "      <td>0.085898</td>\n",
       "    </tr>\n",
       "    <tr>\n",
       "      <th>86</th>\n",
       "      <td>4</td>\n",
       "      <td>54</td>\n",
       "      <td>0.085510</td>\n",
       "    </tr>\n",
       "    <tr>\n",
       "      <th>87</th>\n",
       "      <td>21</td>\n",
       "      <td>59</td>\n",
       "      <td>0.084957</td>\n",
       "    </tr>\n",
       "    <tr>\n",
       "      <th>88</th>\n",
       "      <td>14</td>\n",
       "      <td>117</td>\n",
       "      <td>0.084368</td>\n",
       "    </tr>\n",
       "    <tr>\n",
       "      <th>89</th>\n",
       "      <td>33</td>\n",
       "      <td>35</td>\n",
       "      <td>0.083617</td>\n",
       "    </tr>\n",
       "  </tbody>\n",
       "</table>\n",
       "<p>90 rows × 3 columns</p>\n",
       "</div>"
      ],
      "text/plain": [
       "      i    j      prob\n",
       "0    45   48  0.299342\n",
       "1    45   47  0.277358\n",
       "2   112  113  0.243650\n",
       "3    47   48  0.235820\n",
       "4    46   47  0.216699\n",
       "..  ...  ...       ...\n",
       "85   70  122  0.085898\n",
       "86    4   54  0.085510\n",
       "87   21   59  0.084957\n",
       "88   14  117  0.084368\n",
       "89   33   35  0.083617\n",
       "\n",
       "[90 rows x 3 columns]"
      ]
     },
     "execution_count": 47,
     "metadata": {},
     "output_type": "execute_result"
    }
   ],
   "source": [
    "top_L_mf"
   ]
  },
  {
   "cell_type": "code",
   "execution_count": null,
   "metadata": {},
   "outputs": [],
   "source": []
  }
 ],
 "metadata": {
  "kernelspec": {
   "display_name": "base",
   "language": "python",
   "name": "python3"
  },
  "language_info": {
   "codemirror_mode": {
    "name": "ipython",
    "version": 3
   },
   "file_extension": ".py",
   "mimetype": "text/x-python",
   "name": "python",
   "nbconvert_exporter": "python",
   "pygments_lexer": "ipython3",
   "version": "3.12.7"
  }
 },
 "nbformat": 4,
 "nbformat_minor": 2
}
