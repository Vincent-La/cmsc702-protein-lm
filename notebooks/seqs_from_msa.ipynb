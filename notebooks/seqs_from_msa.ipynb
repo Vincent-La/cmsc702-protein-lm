{
 "cells": [
  {
   "cell_type": "code",
   "execution_count": 1,
   "metadata": {},
   "outputs": [],
   "source": [
    "from Bio import AlignIO\n",
    "import os"
   ]
  },
  {
   "cell_type": "code",
   "execution_count": 2,
   "metadata": {},
   "outputs": [],
   "source": [
    "cadherin_msa_path = os.path.join('..', 'data', 'cadherin', 'PF00028.alignment.seed')\n",
    "alignment = AlignIO.read(cadherin_msa_path, 'stockholm')"
   ]
  },
  {
   "cell_type": "code",
   "execution_count": 3,
   "metadata": {},
   "outputs": [],
   "source": [
    "seqs = []\n",
    "\n",
    "for record in alignment:\n",
    "    seqs.append(str(record.seq).replace('-', ''))\n",
    "    # seqs.append(record.seq)\n"
   ]
  },
  {
   "cell_type": "code",
   "execution_count": 4,
   "metadata": {},
   "outputs": [
    {
     "data": {
      "text/plain": [
       "'QTVRIKENVPVGTKTIGYKAYDPETGSSSGIRYKKSSDPEGWVDVDKNSGVITILKRLDREARSGVYNISIIASDKDGRTCNGVLGIVLE'"
      ]
     },
     "execution_count": 4,
     "metadata": {},
     "output_type": "execute_result"
    }
   ],
   "source": [
    "seqs[0]"
   ]
  },
  {
   "cell_type": "code",
   "execution_count": 5,
   "metadata": {},
   "outputs": [
    {
     "data": {
      "text/plain": [
       "['QTVRIKENVPVGTKTIGYKAYDPETGSSSGIRYKKSSDPEGWVDVDKNSGVITILKRLDREARSGVYNISIIASDKDGRTCNGVLGIVLE',\n",
       " 'KVIQSEDCLPTGTELLGYKAVDPERGTGEGLRYKKIQDEDNWFEINEYTGDLKTVKVLDRESTFVKNNQYNVSVIAFDADGRSCTGTLVVFLE',\n",
       " 'KIIRQEEGLHAGTVLTTFTAQDPDRYMQQNIRYTKLSDPANWLKIDSVNGQITTIAVLDRESPNVKANIYNATFLASDNGIPPMSGTGTLQIYLL',\n",
       " 'LRTSIAEGAPPGTSVATFSARDPDTEQLQRISYSKDYDPEDWLQVDGATGRIQTQRVLSPASPFLKDGWYRAIILALDNAIPPSTATGTLSIEIL',\n",
       " 'RLAQVPEDVPLGQPLASYTAQDPDRAQQQRIKYVMGSDPAGWLAVHPENGLITAREQLDRESPFTKNSTYMAVLLAVDDGLPPATGTGTLLLTLL',\n",
       " 'IVRQIKEGIPLKTPIVTVTADDPDSGLNGKVSYAISKQEPQLPQGRHFGINTETGVIHTLREIDRESIDTFRLTVVATDRAQPSERQLSTEKLVTVIVE',\n",
       " 'YLARVMENTVPPNGGYVLTVNAYDADTPPLNSQVRYFLKEGDSDLFRINASSGDIALLKPLDREQQSEYTLTLVAMDTGSPPLTGTGIVRVEVQ',\n",
       " 'YNVSLNETALPGTPVVTVMASDNDLGDNSKITYYLAETEHQFTVNPETGVISTTERVNCPQQTNVKSSASQKSCVFTVFARDHGSPRQDGRTYVTVNLL',\n",
       " 'YSAVLSELAPTGSFVASITATDEDTGVNAQVHYDILSGNELKWFSMDPLTGLIVTTGPLDREIRDTVELSISARDGGPNPKFAYTQLKVIIL',\n",
       " 'IAISFSESATSGTRLLLDAATDADVGENGVTDQYEIVAGNVDNKFRLVTTANPSGDTSYLHLETTGNLDRESRGSYQLNISARDGGSPPRFGYLQVNVTIL',\n",
       " 'LSGSVYENEPIGTSILTVTAHLASAEIEYFVTNVTATGSRGQVDRLFDIDAKLGILSTAAELDREAGPEEYEVEVYAIALGGQPRTSRTKVRVTVL',\n",
       " 'FNASVPESSAVGTSVISVTAVDADDPTVGDHASVMYQILKGKEYFAIDNSGRIITITKSLDREKQARYEIVVEARDAQGLRGDSGTATVLVTLQ',\n",
       " 'YHFQLKENQKKPLIGTVLAMDPDAARHSIGYSIRRTSDKGQFFRVTKKGDIYNEKELDREVYPWYNLTVEAKELDSTGTPTGKESIVQVHIEVL',\n",
       " 'NQMHIDEEKNTSLPHHVGKIKSSVSRKNAKYLLKGEYVGKVFRVDAETGDVFAIERLDRENISEYHLTAVIVDKDTGENLETPSSFTIKVH',\n",
       " 'TPILIPENQRPPFPRSVGKVIRSEGTEGAKFRLSGKGVDQDPKGIFRINEISGDVSVTRPLDREAIANYELEVEVTDLSGKIIDGPVRLDISVI',\n",
       " 'PPIKVPENERGPFPKNLVQIKSNRDREAKIFYSITGQGADAPPEGIFTIEKETGWMKVTQPLDREHINKYHLYSHAVSENGKPVEEPMEIIVTVT',\n",
       " 'IPCSLMENSLGPFPQHVQQVQSDAAQNYTIFYSISGPGVDKEPFNLFFIEKDTGDIFCTRSIDREQYQEFPIYAYATTADGYAPEYPLPLVFKVE',\n",
       " 'FAAACREGEDNSKRNPIAKIHSDCAANQQVTYRISGVGIDQPPYGIFVINQKTGEINITSIVDREVTPFFIIYCRALNSLGQDLEKPLELRVRVL',\n",
       " 'PSFRIRENRPPGTFHQFRLLPVQFLCPNISVAYRLLEGEGLPFRCAPDSLEVSTRWALDREQREKYELVAVCTVHAGAREEVVMVPFPVT',\n",
       " 'DHEQQRNSQPNREVGIVQVKSTNGKANSHIEYDIIQGDRAQNFRIDTRSGRITTARPLDREEQANYRLTILASSSSSSSAAASSVSYGQCIVNIA',\n",
       " 'FHFDVSETSAVGTRVGAVQATDKDSGEDGRVYYLLVGSSNDKGFRIDTNTGLIYVARHLDRETQNRVVLTVMAKNYGSIRGNDTDEAQVIISIQ',\n",
       " 'FSLNVTENAEIGSFVIRVTSSDLDLGANANASYSFSENPGEKFRIEPQSGNITVAGHLDREQQDEYILKVVASDGAWRAETPITITIQ',\n",
       " 'SHFAMSEDVRPGKMITKVSATSPKKGLVGKIRYAIAGGIMGDSLRVDPNSGLLSVGQDGLDYELTHLYEIWIEAADGDTPSLRSVTLITLNVT',\n",
       " 'FVYNVSEDLQIGHTISTLRAHDPDTLGSVTFLLMDGHDGKFLLEPSTGKLILNDTLDRETKSKYELRIRVSDGVQYTEAYATIQVS',\n",
       " 'YHATVRENLPSGTHVLTPRATDKDEGLNAKLRFNLLGEHMHRFHIDSETGEISTATTLDREETSVYHLTLMAQDSSITEPRASSVNLTISVS',\n",
       " 'YHVTISEGASEGTHITHVFTQDADEGLNGDVYYSLAKGNEAGQFNLDSATGQLSLGRRLDRESQEIHHLIVVAKDAALKHPLSSNASITIVVL',\n",
       " 'KVATVDENAVNGTVVAAVAVKDSDSGLNGRTSVRIVSGNELGHFRLEEAADLHIVRVNGVLDREEIGKYNLTVVAMDQGTPARTTTAHLIIDVN',\n",
       " 'QNVTLGEDAPPQTIVALMTATDHDQGTNGSVTFALAPSVERLYPLQFALDALTGQLTTRRPLDREKMSQYEISVIARDQGAPTPQSATATVWLNVA',\n",
       " 'YNAEVLEEESPPQLIAVVKASDRDSGDNGNVIYRLQNDFDGTFEITESGEIYTRMRLDREEIGDYAFVVEAVDQGVPHMTGTASVLLHLL',\n",
       " 'YTSTISEAAPVGTKVTTVKAIDKDVRTQNNQFSYSIINGNLKQSFKIDVQTGEISTASRLDREETSTYNLVIGAIDTGLPPQTGSATVHIELE',\n",
       " 'TVFTVPENCRTGTSVGKVTAIDLDEPDTLHTRLKYKILQQIPNNPRHFTVHPDTGVITTTTPLLDREKCDTYKLIMEVRDMGGQPFGLFNTGTITISLE',\n",
       " 'YVGHVMEGSPTGTTVMRMTAFDADDPSTDNALLRYNILKQTPTKPSPNMFYIDPEKGDIVTVVSPVLLDRETMETPKYELVIEAKDMGGHDVGLTGTATATILID',\n",
       " 'FRGSVPEGALPGTSVMRVNATDADDDVETYNGVIAYSILSQEPREPHPHMFTVNRATGTLSVIASGLDRERVREYTLTMQAADLDGQGLTTTALAVIEIT',\n",
       " 'FVGEIEENSNANTLVMVLNATDADEPNNLNSKIAFKIIRQEPSDSPMFIINRYTGEIRTMNNFLDREQYGQYSLAVRGSDRDGGADGMSAECECNIKIL',\n",
       " 'YSFSFPELQQSIALVGQIIATDRDKQGPNSVISYSLQQPSPMFSIDPATGEVFSKKAVRFKHSQYVRSPENMYALTVLATDNGKPPLYSECLVNINIV',\n",
       " 'PTISLPENAAVGQEIYLSRVRDRDAGVNSRISYSLTNNPNQQFRIGPVTGVLYLQRPIRAEPGSLIHVELMATDAGSPPLSSKLSLSVLIA',\n",
       " 'SEVSVLETSPTGTELMRFRASDADQGVNSQVVFSISAGNRRDTFHIDSITGSLYLHKPLDYEDITSYTLNITASDCGTPSLSTTVLYNVLVV',\n",
       " 'YETSLPETTKVNTRFFALAATDIDLGDNGRISYEIIEGNTERMFGVFPDGYLFVRAPLDREERDYYALTVSCRDAGQPSRSSVVPVVIHVI',\n",
       " 'YSFDIPENAQRGYQVGQIVARDADLGQNAQLSYGVVSDWANDVFSLNPQTGMLTLTARLDYEEVQHYILIVQAQDNGQPSLSTTITVYCNVL',\n",
       " 'YLAPLPQDAVRGQRIVRVHANDKQDLGTNEMDYSLMTFNLSSIFSVGRHDGWITLVKPIQVPPNTRYELVVRATDRGVPPQSDETRVVIVVT',\n",
       " 'QEAEICETPDPNSINITALDYDIDPNAGPFAFDLPLSPVTIKRNWTITRLNGDFAQLNLKIKFLEAGIYEVPIIITDSGNPPKSNISILRVKVC',\n",
       " 'PSGSLCSEPDQGPGLLLGATDEDLPPHGAPFHFQLNPRVPDLGRNWSVSQINVSHARLRLRHQVSEGLHRLSLLLQDSGEPPQQREQTLNVTVC',\n",
       " 'RTIFFCERNPKPQVINIIDADLPPNTSPFTAELTHGASANWTIQYNDPTQESIILKPKMALEVGDYKINLKLMDNQNKDQVTTLEVSVC',\n",
       " 'RSFEICSRQPEKQILSIVDKDLPPHTYPFKAALEHGSSNNWTVEIRGQDELAMGLKKELEPGEYNIFVKLTDSQGKAQVTQVKAQVC',\n",
       " 'RDIVICNRSPVPQVLTITDRDLPPNTGPFRAELSHGSGDSWAVEVGNGGDTVALWLTEPLEQNLYSVYLRLFDRQGKDQVTVIRAQVC',\n",
       " 'YQVIVPENEPVGSTILTVGATDDDTGPNGMLRYSISGGNERQDFSVDERTGGIVIQQQLDYDLIQEYHLNITVQDLGYHPLSSVAMLTIILT',\n",
       " 'YSASVAENASIGAMVLQVSATDVDEGANGRIRYSIVLGDQNHDFSISEDTGVVRVAKNLNYERLSRYSLTVRAEDCALENPAGDTAELTINIL',\n",
       " 'YHCYIPENKPVGTFVFQAHAADKDSPKNAIIHYAFLPSGPDRHFFIMNQSNGTISSAVSFDYEERRIYTLQIKAKNPDSSMESYANLYVHVL',\n",
       " 'YTFVVPEDTRVGTSVGSLFVEDPDEPQNRMTKYSILRGDYQDAFTIETNPAHNEGIIKPMKPLDYEYIQQYSFIVEATDPTIDLRYMSPPAGNRAQVIINIT',\n",
       " 'YEAAVPENEAELEVARLATTDLDEPHTPAWRAVYSIVRGNEGGAFTITTDPASNEGVLRTAKGLDYEAKRQFVLHVAVVNEAPFAIKLPTATATVMVSVE',\n",
       " 'YTVEVEENRIDVEILRMAVHDHDLPNTPHSRAVYQILQGNENGTFKISTDPNTNEAVLCVVKPLNYEVNRQVVLQIGVLNEAQFAKAVNSKTTTTMCTTVVTVKVK',\n",
       " 'YSARIEENILSSELLRFQVTDLDEEYTDNWLAVYFFTSGNEGNWFEIQTDPRTNEGILKVVKALDYEQLQSVKLSIAVKNKAEFHQSVISRYRVQSTPVTIQVI',\n",
       " 'FFMEAAEAVSGVDVGRLEVEDKDLPGSPNWVARFTILEGDPDGQFKIYTDPKTNEGVLSVVKPLDYESREQYELRVSVQNEAPLQAAAPRARRGQTRVSVWVQ',\n",
       " 'FYGEVPENRVDVIVANLTVTDKDQPHTPAWNAIYRISGGDPAGRFAIQTDPNSNDGLVTVVKPIDFETNRMYVLTVAAENQVPLAKGIQHPPQSTATVSVTVI',\n",
       " 'FQATVKEGVTGVIVNLTVGDRDDPATGAWRAVYTIINGNPGQSFEIHTNPQTNEGMLSVVKPLDYEISAFHTLLIKVENEDPLIPDIAYGPSSTATVQITVE']"
      ]
     },
     "execution_count": 5,
     "metadata": {},
     "output_type": "execute_result"
    }
   ],
   "source": [
    "seqs"
   ]
  },
  {
   "cell_type": "code",
   "execution_count": 6,
   "metadata": {},
   "outputs": [
    {
     "name": "stderr",
     "output_type": "stream",
     "text": [
      "/nfshomes/vla/scratch/micromamba/envs/protein-lm/lib/python3.10/site-packages/tqdm/auto.py:21: TqdmWarning: IProgress not found. Please update jupyter and ipywidgets. See https://ipywidgets.readthedocs.io/en/stable/user_install.html\n",
      "  from .autonotebook import tqdm as notebook_tqdm\n",
      "Loading checkpoint shards: 100%|██████████| 2/2 [00:00<00:00,  6.53it/s]\n",
      "Some weights of EsmModel were not initialized from the model checkpoint at facebook/esm2_t36_3B_UR50D and are newly initialized: ['esm.pooler.dense.bias', 'esm.pooler.dense.weight']\n",
      "You should probably TRAIN this model on a down-stream task to be able to use it for predictions and inference.\n"
     ]
    }
   ],
   "source": [
    "from transformers import AutoTokenizer, EsmModel\n",
    "\n",
    "tokenizer = AutoTokenizer.from_pretrained(\"facebook/esm2_t36_3B_UR50D\")\n",
    "model = EsmModel.from_pretrained(\"facebook/esm2_t36_3B_UR50D\")\n",
    "model = model.to('cuda')"
   ]
  },
  {
   "cell_type": "code",
   "execution_count": 8,
   "metadata": {},
   "outputs": [],
   "source": [
    "inputs = tokenizer([seqs[0], seqs[1]], padding=True, add_special_tokens=True,return_tensors = 'pt').to('cuda')"
   ]
  },
  {
   "cell_type": "code",
   "execution_count": 10,
   "metadata": {},
   "outputs": [
    {
     "data": {
      "text/plain": [
       "torch.Size([2, 95])"
      ]
     },
     "execution_count": 10,
     "metadata": {},
     "output_type": "execute_result"
    }
   ],
   "source": [
    "inputs['input_ids'].shape"
   ]
  },
  {
   "cell_type": "code",
   "execution_count": 30,
   "metadata": {},
   "outputs": [],
   "source": [
    "import torch\n",
    "with torch.no_grad():\n",
    "    predicted_contacts = model.predict_contacts(inputs['input_ids'], inputs['attention_mask']).cpu().numpy()"
   ]
  },
  {
   "cell_type": "code",
   "execution_count": 31,
   "metadata": {},
   "outputs": [
    {
     "data": {
      "text/plain": [
       "(2, 93, 93)"
      ]
     },
     "execution_count": 31,
     "metadata": {},
     "output_type": "execute_result"
    }
   ],
   "source": [
    "predicted_contacts.shape"
   ]
  },
  {
   "cell_type": "code",
   "execution_count": 32,
   "metadata": {},
   "outputs": [
    {
     "data": {
      "text/plain": [
       "(90, 90)"
      ]
     },
     "execution_count": 32,
     "metadata": {},
     "output_type": "execute_result"
    }
   ],
   "source": [
    "predicted_contacts[0, :len(seqs[0]), :len(seqs[0])].shape"
   ]
  },
  {
   "cell_type": "code",
   "execution_count": 33,
   "metadata": {},
   "outputs": [
    {
     "data": {
      "text/plain": [
       "(93, 93)"
      ]
     },
     "execution_count": 33,
     "metadata": {},
     "output_type": "execute_result"
    }
   ],
   "source": [
    "predicted_contacts[1, :len(seqs[1]), :len(seqs[1])].shape"
   ]
  },
  {
   "cell_type": "code",
   "execution_count": 25,
   "metadata": {},
   "outputs": [
    {
     "data": {
      "text/plain": [
       "tensor(1.0000, device='cuda:0', grad_fn=<MaxBackward1>)"
      ]
     },
     "execution_count": 25,
     "metadata": {},
     "output_type": "execute_result"
    }
   ],
   "source": [
    "predicted_contacts.max()"
   ]
  },
  {
   "cell_type": "code",
   "execution_count": 26,
   "metadata": {},
   "outputs": [
    {
     "data": {
      "text/plain": [
       "tensor(1.3161e-21, device='cuda:0', grad_fn=<MinBackward1>)"
      ]
     },
     "execution_count": 26,
     "metadata": {},
     "output_type": "execute_result"
    }
   ],
   "source": [
    "predicted_contacts.min()"
   ]
  },
  {
   "cell_type": "code",
   "execution_count": 19,
   "metadata": {},
   "outputs": [],
   "source": [
    "import sys\n",
    "sys.path.append('..')\n",
    "\n",
    "from scripts.esm_inference import SequenceDataset"
   ]
  },
  {
   "cell_type": "code",
   "execution_count": 21,
   "metadata": {},
   "outputs": [],
   "source": [
    "dataset = SequenceDataset(cadherin_msa_path)"
   ]
  },
  {
   "cell_type": "code",
   "execution_count": 22,
   "metadata": {},
   "outputs": [],
   "source": [
    "from torch.utils.data import DataLoader\n",
    "eval_dataloader = DataLoader(dataset, batch_size =16)"
   ]
  },
  {
   "cell_type": "code",
   "execution_count": 24,
   "metadata": {},
   "outputs": [],
   "source": [
    "for batch in eval_dataloader:\n",
    "    b = batch\n",
    "    break"
   ]
  },
  {
   "cell_type": "code",
   "execution_count": 27,
   "metadata": {},
   "outputs": [
    {
     "name": "stdout",
     "output_type": "stream",
     "text": [
      "90\n",
      "93\n",
      "95\n",
      "95\n",
      "95\n",
      "99\n",
      "94\n",
      "99\n",
      "92\n",
      "101\n",
      "96\n",
      "94\n",
      "94\n",
      "91\n",
      "94\n",
      "95\n"
     ]
    }
   ],
   "source": [
    "for i,seq in enumerate(b):\n",
    "    print(len(seq))"
   ]
  }
 ],
 "metadata": {
  "kernelspec": {
   "display_name": "base",
   "language": "python",
   "name": "python3"
  },
  "language_info": {
   "codemirror_mode": {
    "name": "ipython",
    "version": 3
   },
   "file_extension": ".py",
   "mimetype": "text/x-python",
   "name": "python",
   "nbconvert_exporter": "python",
   "pygments_lexer": "ipython3",
   "version": "3.12.7"
  }
 },
 "nbformat": 4,
 "nbformat_minor": 2
}
