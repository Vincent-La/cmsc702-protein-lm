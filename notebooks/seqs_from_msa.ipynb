{
 "cells": [
  {
   "cell_type": "code",
   "execution_count": 1,
   "metadata": {},
   "outputs": [],
   "source": [
    "from Bio import AlignIO\n",
    "import os"
   ]
  },
  {
   "cell_type": "code",
   "execution_count": 2,
   "metadata": {},
   "outputs": [],
   "source": [
    "cadherin_msa_path = os.path.join('..', 'data', 'cadherin', 'PF00028.alignment.seed')\n",
    "alignment = AlignIO.read(cadherin_msa_path, 'stockholm')"
   ]
  },
  {
   "cell_type": "code",
   "execution_count": 3,
   "metadata": {},
   "outputs": [],
   "source": [
    "seqs = []\n",
    "\n",
    "for record in alignment:\n",
    "    seqs.append(str(record.seq).replace('-', ''))\n",
    "    # seqs.append(record.seq)\n"
   ]
  },
  {
   "cell_type": "code",
   "execution_count": 4,
   "metadata": {},
   "outputs": [
    {
     "data": {
      "text/plain": [
       "'QTVRIKENVPVGTKTIGYKAYDPETGSSSGIRYKKSSDPEGWVDVDKNSGVITILKRLDREARSGVYNISIIASDKDGRTCNGVLGIVLE'"
      ]
     },
     "execution_count": 4,
     "metadata": {},
     "output_type": "execute_result"
    }
   ],
   "source": [
    "seqs[0]"
   ]
  },
  {
   "cell_type": "code",
   "execution_count": 5,
   "metadata": {},
   "outputs": [
    {
     "data": {
      "text/plain": [
       "['QTVRIKENVPVGTKTIGYKAYDPETGSSSGIRYKKSSDPEGWVDVDKNSGVITILKRLDREARSGVYNISIIASDKDGRTCNGVLGIVLE',\n",
       " 'KVIQSEDCLPTGTELLGYKAVDPERGTGEGLRYKKIQDEDNWFEINEYTGDLKTVKVLDRESTFVKNNQYNVSVIAFDADGRSCTGTLVVFLE',\n",
       " 'KIIRQEEGLHAGTVLTTFTAQDPDRYMQQNIRYTKLSDPANWLKIDSVNGQITTIAVLDRESPNVKANIYNATFLASDNGIPPMSGTGTLQIYLL',\n",
       " 'LRTSIAEGAPPGTSVATFSARDPDTEQLQRISYSKDYDPEDWLQVDGATGRIQTQRVLSPASPFLKDGWYRAIILALDNAIPPSTATGTLSIEIL',\n",
       " 'RLAQVPEDVPLGQPLASYTAQDPDRAQQQRIKYVMGSDPAGWLAVHPENGLITAREQLDRESPFTKNSTYMAVLLAVDDGLPPATGTGTLLLTLL',\n",
       " 'IVRQIKEGIPLKTPIVTVTADDPDSGLNGKVSYAISKQEPQLPQGRHFGINTETGVIHTLREIDRESIDTFRLTVVATDRAQPSERQLSTEKLVTVIVE',\n",
       " 'YLARVMENTVPPNGGYVLTVNAYDADTPPLNSQVRYFLKEGDSDLFRINASSGDIALLKPLDREQQSEYTLTLVAMDTGSPPLTGTGIVRVEVQ',\n",
       " 'YNVSLNETALPGTPVVTVMASDNDLGDNSKITYYLAETEHQFTVNPETGVISTTERVNCPQQTNVKSSASQKSCVFTVFARDHGSPRQDGRTYVTVNLL',\n",
       " 'YSAVLSELAPTGSFVASITATDEDTGVNAQVHYDILSGNELKWFSMDPLTGLIVTTGPLDREIRDTVELSISARDGGPNPKFAYTQLKVIIL',\n",
       " 'IAISFSESATSGTRLLLDAATDADVGENGVTDQYEIVAGNVDNKFRLVTTANPSGDTSYLHLETTGNLDRESRGSYQLNISARDGGSPPRFGYLQVNVTIL',\n",
       " 'LSGSVYENEPIGTSILTVTAHLASAEIEYFVTNVTATGSRGQVDRLFDIDAKLGILSTAAELDREAGPEEYEVEVYAIALGGQPRTSRTKVRVTVL',\n",
       " 'FNASVPESSAVGTSVISVTAVDADDPTVGDHASVMYQILKGKEYFAIDNSGRIITITKSLDREKQARYEIVVEARDAQGLRGDSGTATVLVTLQ',\n",
       " 'YHFQLKENQKKPLIGTVLAMDPDAARHSIGYSIRRTSDKGQFFRVTKKGDIYNEKELDREVYPWYNLTVEAKELDSTGTPTGKESIVQVHIEVL',\n",
       " 'NQMHIDEEKNTSLPHHVGKIKSSVSRKNAKYLLKGEYVGKVFRVDAETGDVFAIERLDRENISEYHLTAVIVDKDTGENLETPSSFTIKVH',\n",
       " 'TPILIPENQRPPFPRSVGKVIRSEGTEGAKFRLSGKGVDQDPKGIFRINEISGDVSVTRPLDREAIANYELEVEVTDLSGKIIDGPVRLDISVI',\n",
       " 'PPIKVPENERGPFPKNLVQIKSNRDREAKIFYSITGQGADAPPEGIFTIEKETGWMKVTQPLDREHINKYHLYSHAVSENGKPVEEPMEIIVTVT',\n",
       " 'IPCSLMENSLGPFPQHVQQVQSDAAQNYTIFYSISGPGVDKEPFNLFFIEKDTGDIFCTRSIDREQYQEFPIYAYATTADGYAPEYPLPLVFKVE',\n",
       " 'FAAACREGEDNSKRNPIAKIHSDCAANQQVTYRISGVGIDQPPYGIFVINQKTGEINITSIVDREVTPFFIIYCRALNSLGQDLEKPLELRVRVL',\n",
       " 'PSFRIRENRPPGTFHQFRLLPVQFLCPNISVAYRLLEGEGLPFRCAPDSLEVSTRWALDREQREKYELVAVCTVHAGAREEVVMVPFPVT',\n",
       " 'DHEQQRNSQPNREVGIVQVKSTNGKANSHIEYDIIQGDRAQNFRIDTRSGRITTARPLDREEQANYRLTILASSSSSSSAAASSVSYGQCIVNIA',\n",
       " 'FHFDVSETSAVGTRVGAVQATDKDSGEDGRVYYLLVGSSNDKGFRIDTNTGLIYVARHLDRETQNRVVLTVMAKNYGSIRGNDTDEAQVIISIQ',\n",
       " 'FSLNVTENAEIGSFVIRVTSSDLDLGANANASYSFSENPGEKFRIEPQSGNITVAGHLDREQQDEYILKVVASDGAWRAETPITITIQ',\n",
       " 'SHFAMSEDVRPGKMITKVSATSPKKGLVGKIRYAIAGGIMGDSLRVDPNSGLLSVGQDGLDYELTHLYEIWIEAADGDTPSLRSVTLITLNVT',\n",
       " 'FVYNVSEDLQIGHTISTLRAHDPDTLGSVTFLLMDGHDGKFLLEPSTGKLILNDTLDRETKSKYELRIRVSDGVQYTEAYATIQVS',\n",
       " 'YHATVRENLPSGTHVLTPRATDKDEGLNAKLRFNLLGEHMHRFHIDSETGEISTATTLDREETSVYHLTLMAQDSSITEPRASSVNLTISVS',\n",
       " 'YHVTISEGASEGTHITHVFTQDADEGLNGDVYYSLAKGNEAGQFNLDSATGQLSLGRRLDRESQEIHHLIVVAKDAALKHPLSSNASITIVVL',\n",
       " 'KVATVDENAVNGTVVAAVAVKDSDSGLNGRTSVRIVSGNELGHFRLEEAADLHIVRVNGVLDREEIGKYNLTVVAMDQGTPARTTTAHLIIDVN',\n",
       " 'QNVTLGEDAPPQTIVALMTATDHDQGTNGSVTFALAPSVERLYPLQFALDALTGQLTTRRPLDREKMSQYEISVIARDQGAPTPQSATATVWLNVA',\n",
       " 'YNAEVLEEESPPQLIAVVKASDRDSGDNGNVIYRLQNDFDGTFEITESGEIYTRMRLDREEIGDYAFVVEAVDQGVPHMTGTASVLLHLL',\n",
       " 'YTSTISEAAPVGTKVTTVKAIDKDVRTQNNQFSYSIINGNLKQSFKIDVQTGEISTASRLDREETSTYNLVIGAIDTGLPPQTGSATVHIELE',\n",
       " 'TVFTVPENCRTGTSVGKVTAIDLDEPDTLHTRLKYKILQQIPNNPRHFTVHPDTGVITTTTPLLDREKCDTYKLIMEVRDMGGQPFGLFNTGTITISLE',\n",
       " 'YVGHVMEGSPTGTTVMRMTAFDADDPSTDNALLRYNILKQTPTKPSPNMFYIDPEKGDIVTVVSPVLLDRETMETPKYELVIEAKDMGGHDVGLTGTATATILID',\n",
       " 'FRGSVPEGALPGTSVMRVNATDADDDVETYNGVIAYSILSQEPREPHPHMFTVNRATGTLSVIASGLDRERVREYTLTMQAADLDGQGLTTTALAVIEIT',\n",
       " 'FVGEIEENSNANTLVMVLNATDADEPNNLNSKIAFKIIRQEPSDSPMFIINRYTGEIRTMNNFLDREQYGQYSLAVRGSDRDGGADGMSAECECNIKIL',\n",
       " 'YSFSFPELQQSIALVGQIIATDRDKQGPNSVISYSLQQPSPMFSIDPATGEVFSKKAVRFKHSQYVRSPENMYALTVLATDNGKPPLYSECLVNINIV',\n",
       " 'PTISLPENAAVGQEIYLSRVRDRDAGVNSRISYSLTNNPNQQFRIGPVTGVLYLQRPIRAEPGSLIHVELMATDAGSPPLSSKLSLSVLIA',\n",
       " 'SEVSVLETSPTGTELMRFRASDADQGVNSQVVFSISAGNRRDTFHIDSITGSLYLHKPLDYEDITSYTLNITASDCGTPSLSTTVLYNVLVV',\n",
       " 'YETSLPETTKVNTRFFALAATDIDLGDNGRISYEIIEGNTERMFGVFPDGYLFVRAPLDREERDYYALTVSCRDAGQPSRSSVVPVVIHVI',\n",
       " 'YSFDIPENAQRGYQVGQIVARDADLGQNAQLSYGVVSDWANDVFSLNPQTGMLTLTARLDYEEVQHYILIVQAQDNGQPSLSTTITVYCNVL',\n",
       " 'YLAPLPQDAVRGQRIVRVHANDKQDLGTNEMDYSLMTFNLSSIFSVGRHDGWITLVKPIQVPPNTRYELVVRATDRGVPPQSDETRVVIVVT',\n",
       " 'QEAEICETPDPNSINITALDYDIDPNAGPFAFDLPLSPVTIKRNWTITRLNGDFAQLNLKIKFLEAGIYEVPIIITDSGNPPKSNISILRVKVC',\n",
       " 'PSGSLCSEPDQGPGLLLGATDEDLPPHGAPFHFQLNPRVPDLGRNWSVSQINVSHARLRLRHQVSEGLHRLSLLLQDSGEPPQQREQTLNVTVC',\n",
       " 'RTIFFCERNPKPQVINIIDADLPPNTSPFTAELTHGASANWTIQYNDPTQESIILKPKMALEVGDYKINLKLMDNQNKDQVTTLEVSVC',\n",
       " 'RSFEICSRQPEKQILSIVDKDLPPHTYPFKAALEHGSSNNWTVEIRGQDELAMGLKKELEPGEYNIFVKLTDSQGKAQVTQVKAQVC',\n",
       " 'RDIVICNRSPVPQVLTITDRDLPPNTGPFRAELSHGSGDSWAVEVGNGGDTVALWLTEPLEQNLYSVYLRLFDRQGKDQVTVIRAQVC',\n",
       " 'YQVIVPENEPVGSTILTVGATDDDTGPNGMLRYSISGGNERQDFSVDERTGGIVIQQQLDYDLIQEYHLNITVQDLGYHPLSSVAMLTIILT',\n",
       " 'YSASVAENASIGAMVLQVSATDVDEGANGRIRYSIVLGDQNHDFSISEDTGVVRVAKNLNYERLSRYSLTVRAEDCALENPAGDTAELTINIL',\n",
       " 'YHCYIPENKPVGTFVFQAHAADKDSPKNAIIHYAFLPSGPDRHFFIMNQSNGTISSAVSFDYEERRIYTLQIKAKNPDSSMESYANLYVHVL',\n",
       " 'YTFVVPEDTRVGTSVGSLFVEDPDEPQNRMTKYSILRGDYQDAFTIETNPAHNEGIIKPMKPLDYEYIQQYSFIVEATDPTIDLRYMSPPAGNRAQVIINIT',\n",
       " 'YEAAVPENEAELEVARLATTDLDEPHTPAWRAVYSIVRGNEGGAFTITTDPASNEGVLRTAKGLDYEAKRQFVLHVAVVNEAPFAIKLPTATATVMVSVE',\n",
       " 'YTVEVEENRIDVEILRMAVHDHDLPNTPHSRAVYQILQGNENGTFKISTDPNTNEAVLCVVKPLNYEVNRQVVLQIGVLNEAQFAKAVNSKTTTTMCTTVVTVKVK',\n",
       " 'YSARIEENILSSELLRFQVTDLDEEYTDNWLAVYFFTSGNEGNWFEIQTDPRTNEGILKVVKALDYEQLQSVKLSIAVKNKAEFHQSVISRYRVQSTPVTIQVI',\n",
       " 'FFMEAAEAVSGVDVGRLEVEDKDLPGSPNWVARFTILEGDPDGQFKIYTDPKTNEGVLSVVKPLDYESREQYELRVSVQNEAPLQAAAPRARRGQTRVSVWVQ',\n",
       " 'FYGEVPENRVDVIVANLTVTDKDQPHTPAWNAIYRISGGDPAGRFAIQTDPNSNDGLVTVVKPIDFETNRMYVLTVAAENQVPLAKGIQHPPQSTATVSVTVI',\n",
       " 'FQATVKEGVTGVIVNLTVGDRDDPATGAWRAVYTIINGNPGQSFEIHTNPQTNEGMLSVVKPLDYEISAFHTLLIKVENEDPLIPDIAYGPSSTATVQITVE']"
      ]
     },
     "execution_count": 5,
     "metadata": {},
     "output_type": "execute_result"
    }
   ],
   "source": [
    "seqs"
   ]
  },
  {
   "cell_type": "code",
   "execution_count": 16,
   "metadata": {},
   "outputs": [
    {
     "name": "stderr",
     "output_type": "stream",
     "text": [
      "Loading checkpoint shards: 100%|██████████| 2/2 [00:00<00:00,  3.80it/s]\n",
      "Some weights of EsmModel were not initialized from the model checkpoint at facebook/esm2_t36_3B_UR50D and are newly initialized: ['esm.pooler.dense.bias', 'esm.pooler.dense.weight']\n",
      "You should probably TRAIN this model on a down-stream task to be able to use it for predictions and inference.\n"
     ]
    }
   ],
   "source": [
    "from transformers import AutoTokenizer, EsmModel\n",
    "\n",
    "tokenizer = AutoTokenizer.from_pretrained(\"facebook/esm2_t36_3B_UR50D\")\n",
    "model = EsmModel.from_pretrained(\"facebook/esm2_t36_3B_UR50D\")\n",
    "model = model.to('cuda')"
   ]
  },
  {
   "cell_type": "code",
   "execution_count": 20,
   "metadata": {},
   "outputs": [],
   "source": [
    "inputs = tokenizer(seqs[0], return_tensors = 'pt').to('cuda')"
   ]
  },
  {
   "cell_type": "code",
   "execution_count": 21,
   "metadata": {},
   "outputs": [
    {
     "data": {
      "text/plain": [
       "{'input_ids': tensor([[ 0, 16, 11,  7, 10, 12, 15,  9, 17,  7, 14,  7,  6, 11, 15, 11, 12,  6,\n",
       "         19, 15,  5, 19, 13, 14,  9, 11,  6,  8,  8,  8,  6, 12, 10, 19, 15, 15,\n",
       "          8,  8, 13, 14,  9,  6, 22,  7, 13,  7, 13, 15, 17,  8,  6,  7, 12, 11,\n",
       "         12,  4, 15, 10,  4, 13, 10,  9,  5, 10,  8,  6,  7, 19, 17, 12,  8, 12,\n",
       "         12,  5,  8, 13, 15, 13,  6, 10, 11, 23, 17,  6,  7,  4,  6, 12,  7,  4,\n",
       "          9,  2]], device='cuda:0'), 'attention_mask': tensor([[1, 1, 1, 1, 1, 1, 1, 1, 1, 1, 1, 1, 1, 1, 1, 1, 1, 1, 1, 1, 1, 1, 1, 1,\n",
       "         1, 1, 1, 1, 1, 1, 1, 1, 1, 1, 1, 1, 1, 1, 1, 1, 1, 1, 1, 1, 1, 1, 1, 1,\n",
       "         1, 1, 1, 1, 1, 1, 1, 1, 1, 1, 1, 1, 1, 1, 1, 1, 1, 1, 1, 1, 1, 1, 1, 1,\n",
       "         1, 1, 1, 1, 1, 1, 1, 1, 1, 1, 1, 1, 1, 1, 1, 1, 1, 1, 1, 1]],\n",
       "       device='cuda:0')}"
      ]
     },
     "execution_count": 21,
     "metadata": {},
     "output_type": "execute_result"
    }
   ],
   "source": [
    "inputs"
   ]
  },
  {
   "cell_type": "code",
   "execution_count": 22,
   "metadata": {},
   "outputs": [],
   "source": [
    "predicted_contacts = model.predict_contacts(inputs['input_ids'], inputs['attention_mask'])"
   ]
  },
  {
   "cell_type": "code",
   "execution_count": 24,
   "metadata": {},
   "outputs": [
    {
     "data": {
      "text/plain": [
       "torch.Size([1, 90, 90])"
      ]
     },
     "execution_count": 24,
     "metadata": {},
     "output_type": "execute_result"
    }
   ],
   "source": [
    "predicted_contacts.shape"
   ]
  },
  {
   "cell_type": "code",
   "execution_count": 25,
   "metadata": {},
   "outputs": [
    {
     "data": {
      "text/plain": [
       "tensor(1.0000, device='cuda:0', grad_fn=<MaxBackward1>)"
      ]
     },
     "execution_count": 25,
     "metadata": {},
     "output_type": "execute_result"
    }
   ],
   "source": [
    "predicted_contacts.max()"
   ]
  },
  {
   "cell_type": "code",
   "execution_count": 26,
   "metadata": {},
   "outputs": [
    {
     "data": {
      "text/plain": [
       "tensor(1.3161e-21, device='cuda:0', grad_fn=<MinBackward1>)"
      ]
     },
     "execution_count": 26,
     "metadata": {},
     "output_type": "execute_result"
    }
   ],
   "source": [
    "predicted_contacts.min()"
   ]
  }
 ],
 "metadata": {
  "kernelspec": {
   "display_name": "protein-lm",
   "language": "python",
   "name": "protein-lm"
  },
  "language_info": {
   "codemirror_mode": {
    "name": "ipython",
    "version": 3
   },
   "file_extension": ".py",
   "mimetype": "text/x-python",
   "name": "python",
   "nbconvert_exporter": "python",
   "pygments_lexer": "ipython3",
   "version": "3.10.0"
  }
 },
 "nbformat": 4,
 "nbformat_minor": 2
}
