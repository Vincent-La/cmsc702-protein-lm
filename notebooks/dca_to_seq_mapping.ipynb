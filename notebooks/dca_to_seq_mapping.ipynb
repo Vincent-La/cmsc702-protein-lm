{
 "cells": [
  {
   "cell_type": "code",
   "execution_count": 43,
   "metadata": {},
   "outputs": [],
   "source": [
    "# read in csv with dca mappings\n",
    "# read in MSA\n",
    "# for each seq in the MSA, \n",
    "# index, seqid, MSA_i, MSA_j, seq_i, seq_j, score\n",
    "\n",
    "#a--b-c--de\n",
    "#abcde\n",
    "# seq_i = MSA_i - num_gaps_before\n",
    "# MSA_i = seq_i + num_gaps_before"
   ]
  },
  {
   "cell_type": "code",
   "execution_count": 2,
   "metadata": {},
   "outputs": [],
   "source": [
    "from Bio import AlignIO"
   ]
  },
  {
   "cell_type": "code",
<<<<<<< Updated upstream
   "execution_count": 3,
   "metadata": {},
   "outputs": [],
   "source": [
    "# msa: MSA\n",
    "# idx: idx in MSA\n",
    "# couplings: list([i, j, score])\n",
    "# type: PLM | MF\n",
    "def dca_to_msa_single_seq(msa, idx, couplings, mapping_file, type='PLM'):\n",
    "    n = 0\n",
    "    num_gaps = []\n",
    "    record_str = str(msa[idx].seq)\n",
    "\n",
    "    for c in record_str:\n",
    "        if c == '-':\n",
    "            n += 1\n",
    "            num_gaps.append(-1)\n",
    "        else:\n",
    "            num_gaps.append(n)\n",
    "    \n",
    "    for coupling in couplings:\n",
    "\n",
    "        # coupling indices are 1-indexed\n",
    "        if type == 'PLM':\n",
    "            MSA_i = int(coupling[0]) - 1\n",
    "            MSA_j = int(coupling[1]) - 1\n",
    "        elif type == 'MF':\n",
    "            MSA_i = int(coupling[0])\n",
    "            MSA_j = int(coupling[1])\n",
    "\n",
    "        DCA_score = coupling[2]\n",
    "\n",
    "        if num_gaps[MSA_i] == -1 or num_gaps[MSA_j] == -1:\n",
    "            continue\n",
    "\n",
    "        seq_i = MSA_i - num_gaps[MSA_i]\n",
    "        seq_j = MSA_j - num_gaps[MSA_j]\n",
    "\n",
    "        csv_datapt_str = \"{},{},{},{},{},{},{}\\n\".format(idx, msa[idx].id, MSA_i, MSA_j, seq_i, seq_j, DCA_score)\n",
    "        mapping_file.write(csv_datapt_str)"
   ]
  },
  {
   "cell_type": "code",
   "execution_count": 4,
=======
   "execution_count": 2,
>>>>>>> Stashed changes
   "metadata": {},
   "outputs": [],
   "source": [
    "def dca_to_msa(msa, dca_output_file, mapped_output_file, type = 'PLM'):\n",
    "\n",
    "    # read coupling data from csv\n",
    "    coupling_data = []\n",
    "\n",
    "    for line in dca_output_file:\n",
    "        # really scuffed check to ignore first line but ez\n",
    "        if line[0].isdigit():\n",
    "            if type == 'PLM':\n",
    "                datapt = line.split()\n",
    "            else:\n",
    "                datapt = line.split(',')\n",
    "\n",
    "            coupling_data.append(datapt)\n",
    "\n",
    "    dca_to_msa_single_seq(msa, 0, coupling_data, mapped_output_file, type)"
   ]
  },
  {
   "cell_type": "markdown",
   "metadata": {},
   "source": [
    "## PLM-DCA"
   ]
  },
  {
   "cell_type": "code",
   "execution_count": 11,
   "metadata": {},
   "outputs": [],
   "source": [
<<<<<<< Updated upstream
    "cadherin_msa_path = \"../results/rrm/PF00076_10000_msa_trimmed.faa\"\n",
    "cadherin_csv_path = \"../results/rrm/mfdca_rrm_output.csv\"\n",
    "cadherin_mapped_csv_path = \"../results/rrm/mfdca_rrm_mapped.csv\"\n",
=======
    "code = \"PF00028\"\n",
    "name = \"cadherin\"\n",
    "cadherin_msa_path = f\"../results/{name}/{code}_10000_msa_trimmed.faa\"\n",
    "cadherin_csv_path = f\"../results/{name}/plmdca_{name}_output.csv\"\n",
    "cadherin_mapped_csv_path = f\"../results/{name}/{code}_plmdca_mapped.csv\"\n",
>>>>>>> Stashed changes
    "\n",
    "cadherin_msa = AlignIO.read(cadherin_msa_path, 'fasta')\n",
    "cadherin_csv_file = open(cadherin_csv_path, 'r')\n",
    "cadherin_mapped_csv_file = open(cadherin_mapped_csv_path, 'w')\n",
    "\n",
    "dca_to_msa(cadherin_msa, cadherin_csv_file, cadherin_mapped_csv_file, type = 'MF')"
   ]
  },
  {
   "cell_type": "markdown",
   "metadata": {},
   "source": [
    "## MF-DCA"
   ]
  },
  {
   "cell_type": "code",
   "execution_count": 10,
   "metadata": {},
   "outputs": [],
   "source": [
<<<<<<< Updated upstream
=======
    "cadherin_msa_path = f\"../results/{name}/{code}_10000_msa_trimmed.faa\"\n",
    "cadherin_csv_path = f\"../results/{name}/mfdca_{name}_output.csv\"\n",
    "cadherin_mapped_csv_path = f'../results/{name}/{code}_mfdca_mapped.csv'\n",
    "\n",
    "cadherin_msa = AlignIO.read(cadherin_msa_path, 'fasta')\n",
    "cadherin_csv_file = open(cadherin_csv_path, 'r')\n",
    "cadherin_mapped_csv_file = open(cadherin_mapped_csv_path, 'w')\n",
    "\n",
    "dca_to_msa(cadherin_msa, cadherin_csv_file, cadherin_mapped_csv_file, type = 'MF')"
   ]
  },
  {
   "cell_type": "code",
   "execution_count": 5,
   "metadata": {},
   "outputs": [],
   "source": [
>>>>>>> Stashed changes
    "import pandas as pd\n",
    "\n",
    "df = pd.read_csv(cadherin_csv_path)\n",
    "df['first_site'] = df['first_site'].astype(int)\n",
    "df['second_site'] = df['second_site'].astype(int)"
   ]
  },
  {
   "cell_type": "code",
   "execution_count": 6,
   "metadata": {},
   "outputs": [
    {
     "data": {
      "text/html": [
       "<div>\n",
       "<style scoped>\n",
       "    .dataframe tbody tr th:only-of-type {\n",
       "        vertical-align: middle;\n",
       "    }\n",
       "\n",
       "    .dataframe tbody tr th {\n",
       "        vertical-align: top;\n",
       "    }\n",
       "\n",
       "    .dataframe thead th {\n",
       "        text-align: right;\n",
       "    }\n",
       "</style>\n",
       "<table border=\"1\" class=\"dataframe\">\n",
       "  <thead>\n",
       "    <tr style=\"text-align: right;\">\n",
       "      <th></th>\n",
       "      <th>first_site</th>\n",
       "      <th>second_site</th>\n",
       "      <th>mf_dca</th>\n",
       "    </tr>\n",
       "  </thead>\n",
       "  <tbody>\n",
       "    <tr>\n",
       "      <th>0</th>\n",
       "      <td>0</td>\n",
       "      <td>1</td>\n",
       "      <td>0.000153</td>\n",
       "    </tr>\n",
       "    <tr>\n",
       "      <th>1</th>\n",
       "      <td>0</td>\n",
       "      <td>2</td>\n",
       "      <td>0.000042</td>\n",
       "    </tr>\n",
       "    <tr>\n",
       "      <th>2</th>\n",
       "      <td>0</td>\n",
       "      <td>3</td>\n",
       "      <td>0.000012</td>\n",
       "    </tr>\n",
       "    <tr>\n",
       "      <th>3</th>\n",
       "      <td>0</td>\n",
       "      <td>4</td>\n",
       "      <td>0.000012</td>\n",
       "    </tr>\n",
       "    <tr>\n",
       "      <th>4</th>\n",
       "      <td>0</td>\n",
       "      <td>5</td>\n",
       "      <td>0.000007</td>\n",
       "    </tr>\n",
       "    <tr>\n",
       "      <th>...</th>\n",
       "      <td>...</td>\n",
       "      <td>...</td>\n",
       "      <td>...</td>\n",
       "    </tr>\n",
       "    <tr>\n",
       "      <th>90520</th>\n",
       "      <td>422</td>\n",
       "      <td>424</td>\n",
       "      <td>0.053482</td>\n",
       "    </tr>\n",
       "    <tr>\n",
       "      <th>90521</th>\n",
       "      <td>422</td>\n",
       "      <td>425</td>\n",
       "      <td>0.000018</td>\n",
       "    </tr>\n",
       "    <tr>\n",
       "      <th>90522</th>\n",
       "      <td>423</td>\n",
       "      <td>424</td>\n",
       "      <td>0.061898</td>\n",
       "    </tr>\n",
       "    <tr>\n",
       "      <th>90523</th>\n",
       "      <td>423</td>\n",
       "      <td>425</td>\n",
       "      <td>0.000064</td>\n",
       "    </tr>\n",
       "    <tr>\n",
       "      <th>90524</th>\n",
       "      <td>424</td>\n",
       "      <td>425</td>\n",
       "      <td>0.000051</td>\n",
       "    </tr>\n",
       "  </tbody>\n",
       "</table>\n",
       "<p>90525 rows × 3 columns</p>\n",
       "</div>"
      ],
      "text/plain": [
       "       first_site  second_site    mf_dca\n",
       "0               0            1  0.000153\n",
       "1               0            2  0.000042\n",
       "2               0            3  0.000012\n",
       "3               0            4  0.000012\n",
       "4               0            5  0.000007\n",
       "...           ...          ...       ...\n",
       "90520         422          424  0.053482\n",
       "90521         422          425  0.000018\n",
       "90522         423          424  0.061898\n",
       "90523         423          425  0.000064\n",
       "90524         424          425  0.000051\n",
       "\n",
       "[90525 rows x 3 columns]"
      ]
     },
     "execution_count": 6,
     "metadata": {},
     "output_type": "execute_result"
    }
   ],
   "source": [
    "df"
   ]
  },
  {
   "cell_type": "code",
   "execution_count": 25,
   "metadata": {},
   "outputs": [],
   "source": [
    "df.to_csv(cadherin_csv_path, index=False)"
   ]
  }
 ],
 "metadata": {
  "kernelspec": {
   "display_name": "base",
   "language": "python",
   "name": "python3"
  },
  "language_info": {
   "codemirror_mode": {
    "name": "ipython",
    "version": 3
   },
   "file_extension": ".py",
   "mimetype": "text/x-python",
   "name": "python",
   "nbconvert_exporter": "python",
   "pygments_lexer": "ipython3",
   "version": "3.12.7"
  }
 },
 "nbformat": 4,
 "nbformat_minor": 2
}
