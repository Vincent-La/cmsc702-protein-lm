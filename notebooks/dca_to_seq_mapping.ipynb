{
 "cells": [
  {
   "cell_type": "code",
   "execution_count": 43,
   "metadata": {},
   "outputs": [],
   "source": [
    "# read in csv with dca mappings\n",
    "# read in MSA\n",
    "# for each seq in the MSA, \n",
    "# index, seqid, MSA_i, MSA_j, seq_i, seq_j, score\n",
    "\n",
    "#a--b-c--de\n",
    "#abcde\n",
    "# seq_i = MSA_i - num_gaps_before\n",
    "# MSA_i = seq_i + num_gaps_before"
   ]
  },
  {
   "cell_type": "code",
   "execution_count": 79,
   "metadata": {},
   "outputs": [],
   "source": [
    "from Bio import AlignIO"
   ]
  },
  {
   "cell_type": "code",
   "execution_count": 82,
   "metadata": {},
   "outputs": [],
   "source": [
    "def dca_to_msa(msa, dca_output_file, mapped_output_file, type = 'PLM'):\n",
    "\n",
    "    # read coupling data from csv\n",
    "    coupling_data = []\n",
    "\n",
    "    for line in dca_output_file:\n",
    "        if line[0] != '#':\n",
    "            if type == 'PLM':\n",
    "                datapt = line.split()\n",
    "            else:\n",
    "                datapt = line.split(',')\n",
    "\n",
    "            coupling_data.append(datapt)\n",
    "\n",
    "    # only keep up to top L contacts, where L = length of sequence\n",
    "    L = len(msa[0])\n",
    "    coupling_data = coupling_data[:L]\n",
    "\n",
    "    for (i, record) in enumerate(msa):\n",
    "        # seq_i = MSA_i - num_gaps[MSA_i]\n",
    "\n",
    "        # computes number of gaps occurring before and including index i\n",
    "        n = 0\n",
    "        num_gaps = []\n",
    "        record_str = str(record.seq)\n",
    "\n",
    "        for c in record_str:\n",
    "            if c == '-':\n",
    "                n += 1\n",
    "                num_gaps.append(-1)\n",
    "            else:\n",
    "                num_gaps.append(n)\n",
    "\n",
    "        for coupling in coupling_data:\n",
    "\n",
    "            # coupling indices are 1-indexed\n",
    "            if type == 'PLM':\n",
    "                MSA_i = int(coupling[0]) - 1\n",
    "                MSA_j = int(coupling[1]) - 1\n",
    "            elif type == 'MF':\n",
    "                MSA_i = int(coupling[0])\n",
    "                MSA_j = int(coupling[1])\n",
    "\n",
    "            DCA_score = coupling[2]\n",
    "\n",
    "            if num_gaps[MSA_i] == -1 or num_gaps[MSA_j] == -1:\n",
    "                continue\n",
    "\n",
    "            seq_i = MSA_i - num_gaps[MSA_i]\n",
    "            seq_j = MSA_j - num_gaps[MSA_j]\n",
    "\n",
    "            # for PLM, set it back to 1-indexed?\n",
    "            # MF is always 0-indexed\n",
    "            #if type == 'PLM':\n",
    "            #    csv_datapt_str = \"{},{},{},{},{},{},{}\".format(i, record.id, MSA_i + 1, MSA_j + 1, seq_i, seq_j, DCA_score)\n",
    "            #elif type == 'MF':\n",
    "            #    csv_datapt_str = \"{},{},{},{},{},{},{}\".format(i, record.id, MSA_i, MSA_j, seq_i, seq_j, DCA_score)\n",
    "            csv_datapt_str = \"{},{},{},{},{},{},{}\\n\".format(i, record.id, MSA_i, MSA_j, seq_i, seq_j, DCA_score)\n",
    "                \n",
    "            # elif type == 'MF':\n",
    "            #     MSA_i = int(coupling[0])\n",
    "            #     MSA_j = int(coupling[1])\n",
    "\n",
    "            # MSA indices are 1-indexed, but seq indices are 0-indexed!!!\n",
    "            # index, seqid, MSA_i, MSA_j, seq_i, seq_j, score\n",
    "            \n",
    "            mapped_output_file.write(csv_datapt_str)\n",
    "\n",
    "        "
   ]
  },
  {
   "cell_type": "markdown",
   "metadata": {},
   "source": [
    "## PLM-DCA"
   ]
  },
  {
   "cell_type": "code",
   "execution_count": 83,
   "metadata": {},
   "outputs": [],
   "source": [
    "cadherin_msa_path = \"../results/cadherin/PF00028_10000_msa_trimmed.faa\"\n",
    "cadherin_csv_path = \"../results/cadherin/plmdca_cadherin_output.csv\"\n",
    "cadherin_mapped_csv_path = \"../results/cadherin/PF00028_plmdca_mapped.csv\"\n",
    "\n",
    "cadherin_msa = AlignIO.read(cadherin_msa_path, 'fasta')\n",
    "cadherin_csv_file = open(cadherin_csv_path, 'r')\n",
    "cadherin_mapped_csv_file = open(cadherin_mapped_csv_path, 'w')\n",
    "\n",
    "dca_to_msa(cadherin_msa, cadherin_csv_file, cadherin_mapped_csv_file)"
   ]
  },
  {
   "cell_type": "markdown",
   "metadata": {},
   "source": [
    "## MF-DCA"
   ]
  },
  {
   "cell_type": "code",
   "execution_count": null,
   "metadata": {},
   "outputs": [],
   "source": [
    "cadherin_msa_path = \"../data/cadherin/PF00028.alignment.seed\"\n",
    "cadherin_csv_path = '../data/cadherin/PF00028_mfdca.csv'\n",
    "cadherin_mapped_csv_path = '../data/cadherin/PF0028_mfdca_mapped.csv'\n",
    "\n",
    "cadherin_msa = AlignIO.read(cadherin_msa_path, 'stockholm')\n",
    "cadherin_csv_file = open(cadherin_csv_path, 'r')\n",
    "cadherin_mapped_csv_file = open(cadherin_mapped_csv_path, 'w')\n",
    "\n",
    "dca_to_msa(cadherin_msa, cadherin_csv_file, cadherin_mapped_csv_file, type = 'MF')"
   ]
  },
  {
   "cell_type": "code",
   "execution_count": null,
   "metadata": {},
   "outputs": [],
   "source": [
    "import pandas as pd\n",
    "\n",
    "df = pd.read_csv(cadherin_csv_path)\n",
    "df['first_site'] = df['first_site'].astype(int)\n",
    "df['second_site'] = df['second_site'].astype(int)"
   ]
  },
  {
   "cell_type": "code",
   "execution_count": null,
   "metadata": {},
   "outputs": [],
   "source": [
    "df"
   ]
  },
  {
   "cell_type": "code",
   "execution_count": 25,
   "metadata": {},
   "outputs": [],
   "source": [
    "df.to_csv(cadherin_csv_path, index=False)"
   ]
  }
 ],
 "metadata": {
  "kernelspec": {
   "display_name": "base",
   "language": "python",
   "name": "python3"
  },
  "language_info": {
   "codemirror_mode": {
    "name": "ipython",
    "version": 3
   },
   "file_extension": ".py",
   "mimetype": "text/x-python",
   "name": "python",
   "nbconvert_exporter": "python",
   "pygments_lexer": "ipython3",
   "version": "3.11.4"
  }
 },
 "nbformat": 4,
 "nbformat_minor": 2
}
