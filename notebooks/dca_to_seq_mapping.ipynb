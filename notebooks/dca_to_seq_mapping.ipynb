{
 "cells": [
  {
   "cell_type": "code",
   "execution_count": 1,
   "metadata": {},
   "outputs": [],
   "source": [
    "# read in csv with dca mappings\n",
    "# read in MSA\n",
    "# for each seq in the MSA, \n",
    "# index, seqid, MSA_i, MSA_j, seq_i, seq_j, score\n",
    "\n",
    "#a--b-c--de\n",
    "#abcde\n",
    "# seq_i = MSA_i - num_gaps_before\n",
    "# MSA_i = seq_i + num_gaps_before"
   ]
  },
  {
   "cell_type": "code",
   "execution_count": 2,
   "metadata": {},
   "outputs": [],
   "source": [
    "from Bio import AlignIO"
   ]
  },
  {
   "cell_type": "code",
   "execution_count": 3,
   "metadata": {},
   "outputs": [],
   "source": [
    "# record: MSA record\n",
    "# idx: idx in MSA\n",
    "# couplings: list([i, j, score])\n",
    "# type: PLM | MF\n",
    "def dca_to_msa_single_seq(record, idx, couplings, mapping_file):\n",
    "    n = 0\n",
    "    num_gaps = []\n",
    "    record_str = str(record.seq)\n",
    "\n",
    "    for c in record_str:\n",
    "        if c == '-':\n",
    "            n += 1\n",
    "            num_gaps.append(-1)\n",
    "        else:\n",
    "            num_gaps.append(n)\n",
    "    \n",
    "    for coupling in couplings:\n",
    "        MSA_i = int(coupling[0])\n",
    "        MSA_j = int(coupling[1])\n",
    "\n",
    "        DCA_score = coupling[2]\n",
    "\n",
    "        if num_gaps[MSA_i] == -1 or num_gaps[MSA_j] == -1:\n",
    "            continue\n",
    "\n",
    "        seq_i = MSA_i - num_gaps[MSA_i]\n",
    "        seq_j = MSA_j - num_gaps[MSA_j]\n",
    "\n",
    "        if seq_i < 0 or seq_j < 0:\n",
    "            raise Exception(\"something is very wrong: MSA_i: {}, MSA_j: {}, numgaps_i: {}, numgaps_j: {}\".format(MSA_i, MSA_j, num_gaps[MSA_i], num_gaps[MSA_j]))\n",
    "\n",
    "        csv_datapt_str = \"{},{},{},{},{},{},{}\\n\".format(idx, record.id, MSA_i, MSA_j, seq_i, seq_j, DCA_score)\n",
    "        mapping_file.write(csv_datapt_str)"
   ]
  },
  {
   "cell_type": "code",
   "execution_count": 4,
   "metadata": {},
   "outputs": [],
   "source": [
    "# msa: MSA\n",
    "# dca_output_file: file with dca scores\n",
    "# mapped_output_file: file with mapped indices\n",
    "# length: number of sequences to compute mapping on\n",
    "# top-L: boolean of whether to truncate couplings to top-L\n",
    "def dca_to_msa(msa, dca_output_file, mapped_output_file, length, top_L=False):\n",
    "\n",
    "    # read coupling data from csv\n",
    "    coupling_data = []\n",
    "\n",
    "    for line in dca_output_file:\n",
    "        # really scuffed check to ignore first line but ez\n",
    "        if line[0].isdigit():\n",
    "            datapt = line.replace(',', ' ').split()\n",
    "            coupling_data.append(datapt)\n",
    "\n",
    "    if top_L:\n",
    "        coupling_data = coupling_data[:len(msa[0])]\n",
    "    \n",
    "    print(len(coupling_data))\n",
    "\n",
    "    for i in range(length):\n",
    "        dca_to_msa_single_seq(msa[i], i, coupling_data, mapped_output_file)"
   ]
  },
  {
   "cell_type": "markdown",
   "metadata": {},
   "source": [
    "## PLM-DCA"
   ]
  },
  {
   "cell_type": "code",
   "execution_count": null,
   "metadata": {},
   "outputs": [
    {
     "name": "stdout",
     "output_type": "stream",
     "text": [
      "377\n"
     ]
    }
   ],
   "source": [
    "cadherin_msa_path = \"../results/cadherin/PF00028_10000_msa_trimmed.faa\"\n",
    "cadherin_csv_path = \"../results/cadherin/plmdca_cadherin_output.csv\"\n",
    "cadherin_all_mapped_csv_path = \"../results/cadherin/PF00028_all_plmdca_mapped.csv\"\n",
    "\n",
    "cadherin_msa = AlignIO.read(cadherin_msa_path, 'fasta')\n",
    "cadherin_csv_file = open(cadherin_csv_path, 'r')\n",
    "cadherin_all_mapped_csv_file = open(cadherin_all_mapped_csv_path, 'w')\n",
    "\n",
    "dca_to_msa(cadherin_msa, cadherin_csv_file, cadherin_all_mapped_csv_file, len(cadherin_msa), top_L=True)"
   ]
  },
  {
   "cell_type": "code",
   "execution_count": 9,
   "metadata": {},
   "outputs": [
    {
     "name": "stdout",
     "output_type": "stream",
     "text": [
      "197136\n"
     ]
    }
   ],
   "source": [
    "cadherin_msa_path = \"/nfshomes/vla/cmsc702-protein-lm/results/rrm/PF00076_10000_msa_trimmed.faa\"\n",
    "cadherin_csv_path = \"/nfshomes/vla/cmsc702-protein-lm/results/rrm/plmdca_rrm_output.csv\"\n",
    "cadherin_single_mapped_csv_path = \"../results/rrm/rrm_single_plmdca_mapped.csv\"\n",
    "\n",
    "cadherin_msa = AlignIO.read(cadherin_msa_path, 'fasta')\n",
    "cadherin_csv_file = open(cadherin_csv_path, 'r')\n",
    "cadherin_single_mapped_csv_file = open(cadherin_single_mapped_csv_path, 'w')\n",
    "dca_to_msa(cadherin_msa, cadherin_csv_file, cadherin_single_mapped_csv_file, 1)"
   ]
  }
 ],
 "metadata": {
  "kernelspec": {
   "display_name": "base",
   "language": "python",
   "name": "python3"
  },
  "language_info": {
   "codemirror_mode": {
    "name": "ipython",
    "version": 3
   },
   "file_extension": ".py",
   "mimetype": "text/x-python",
   "name": "python",
   "nbconvert_exporter": "python",
   "pygments_lexer": "ipython3",
   "version": "3.10.0"
  }
 },
 "nbformat": 4,
 "nbformat_minor": 2
}
