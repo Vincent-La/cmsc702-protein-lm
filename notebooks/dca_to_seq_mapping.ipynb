{
 "cells": [
  {
   "cell_type": "code",
   "execution_count": 16,
   "metadata": {},
   "outputs": [],
   "source": [
    "# read in csv with dca mappings\n",
    "# read in MSA\n",
    "# for each seq in the MSA, \n",
    "# index, seqid, MSA_i, MSA_j, seq_i, seq_j, score\n",
    "\n",
    "#a--b-c--de\n",
    "#abcde\n",
    "# seq_i = MSA_i - num_gaps_before\n",
    "# MSA_i = seq_i + num_gaps_before"
   ]
  },
  {
   "cell_type": "code",
   "execution_count": 1,
   "metadata": {},
   "outputs": [],
   "source": [
    "from Bio import AlignIO"
   ]
  },
  {
   "cell_type": "code",
   "execution_count": 2,
   "metadata": {},
   "outputs": [],
   "source": [
    "def dca_to_msa(msa, dca_output_file, mapped_output_file, type = 'PLM'):\n",
    "\n",
    "    # read coupling data from csv\n",
    "    coupling_data = []\n",
    "\n",
    "    for line in dca_output_file:\n",
    "        datapt = line.split(',')\n",
    "        coupling_data.append(datapt)\n",
    "\n",
    "    # coupling_data\n",
    "    # seq_mapped_data = []\n",
    "\n",
    "    for (i, record) in enumerate(msa):\n",
    "        # seq_i = MSA_i - num_gaps[MSA_i]\n",
    "\n",
    "        # computes number of gaps occurring before and including index i\n",
    "        n = 0\n",
    "        num_gaps = []\n",
    "        record_str = str(record.seq)\n",
    "\n",
    "        for c in record_str:\n",
    "            if c == '-':\n",
    "                n += 1\n",
    "                num_gaps.append(-1)\n",
    "            else:\n",
    "                num_gaps.append(n)\n",
    "        for coupling in coupling_data:\n",
    "            # coupling indices are 1-indexed\n",
    "\n",
    "            if type == 'PLM':\n",
    "                MSA_i = int(coupling[0]) - 1\n",
    "                MSA_j = int(coupling[1]) - 1\n",
    "            elif type == 'MF':\n",
    "                MSA_i = int(coupling[0])\n",
    "                MSA_j = int(coupling[1])\n",
    "\n",
    "            DCA_score = coupling[2]\n",
    "\n",
    "            if num_gaps[MSA_i] == -1 or num_gaps[MSA_j] == -1:\n",
    "                continue\n",
    "\n",
    "            seq_i = MSA_i - num_gaps[MSA_i]\n",
    "            seq_j = MSA_j - num_gaps[MSA_j]\n",
    "\n",
    "            if type == 'PLM':\n",
    "                csv_datapt_str = \"{},{},{},{},{},{},{}\".format(i, record.id, MSA_i + 1, MSA_j + 1, seq_i, seq_j, DCA_score)\n",
    "            elif type == 'MF':\n",
    "                csv_datapt_str = \"{},{},{},{},{},{},{}\".format(i, record.id, MSA_i, MSA_j, seq_i, seq_j, DCA_score)\n",
    "                \n",
    "            # elif type == 'MF':\n",
    "            #     MSA_i = int(coupling[0])\n",
    "            #     MSA_j = int(coupling[1])\n",
    "\n",
    "            # MSA indices are 1-indexed, but seq indices are 0-indexed!!!\n",
    "            # index, seqid, MSA_i, MSA_j, seq_i, seq_j, score\n",
    "            \n",
    "            mapped_output_file.write(csv_datapt_str)\n",
    "\n",
    "        "
   ]
  },
  {
   "cell_type": "markdown",
   "metadata": {},
   "source": [
    "## PLM-DCA"
   ]
  },
  {
   "cell_type": "code",
   "execution_count": null,
   "metadata": {},
   "outputs": [],
   "source": [
    "cadherin_msa_path = \"../data/cadherin/Trimmed_PF00028_plmdca.fa\"\n",
    "cadherin_csv_path = \"../data/cadherin/PF00028_plmdca.csv\"\n",
    "cadherin_mapped_csv_path = \"../data/cadherin/PF00028_plmdca_mapped.csv\"\n",
    "\n",
    "cadherin_msa = AlignIO.read(cadherin_msa_path, 'fasta')\n",
    "cadherin_csv_file = open(cadherin_csv_path, 'r')\n",
    "cadherin_mapped_csv_file = open(cadherin_mapped_csv_path, 'w')\n",
    "\n",
    "dca_to_msa(cadherin_msa, cadherin_csv_file, cadherin_mapped_csv_file)"
   ]
  },
  {
   "cell_type": "markdown",
   "metadata": {},
   "source": [
    "## MF-DCA"
   ]
  },
  {
   "cell_type": "code",
   "execution_count": 6,
   "metadata": {},
   "outputs": [],
   "source": [
    "cadherin_msa_path = \"../data/cadherin/PF00028.alignment.seed\"\n",
    "cadherin_csv_path = '../data/cadherin/PF00028_mfdca.csv'\n",
    "cadherin_mapped_csv_path = '../data/cadherin/PF0028_mfdca_mapped.csv'\n",
    "\n",
    "cadherin_msa = AlignIO.read(cadherin_msa_path, 'stockholm')\n",
    "cadherin_csv_file = open(cadherin_csv_path, 'r')\n",
    "cadherin_mapped_csv_file = open(cadherin_mapped_csv_path, 'w')\n",
    "\n",
    "dca_to_msa(cadherin_msa, cadherin_csv_file, cadherin_mapped_csv_file, type = 'MF')"
   ]
  },
  {
   "cell_type": "code",
   "execution_count": 23,
   "metadata": {},
   "outputs": [],
   "source": [
    "import pandas as pd\n",
    "\n",
    "df = pd.read_csv(cadherin_csv_path)\n",
    "df['first_site'] = df['first_site'].astype(int)\n",
    "df['second_site'] = df['second_site'].astype(int)"
   ]
  },
  {
   "cell_type": "code",
   "execution_count": 24,
   "metadata": {},
   "outputs": [
    {
     "data": {
      "text/html": [
       "<div>\n",
       "<style scoped>\n",
       "    .dataframe tbody tr th:only-of-type {\n",
       "        vertical-align: middle;\n",
       "    }\n",
       "\n",
       "    .dataframe tbody tr th {\n",
       "        vertical-align: top;\n",
       "    }\n",
       "\n",
       "    .dataframe thead th {\n",
       "        text-align: right;\n",
       "    }\n",
       "</style>\n",
       "<table border=\"1\" class=\"dataframe\">\n",
       "  <thead>\n",
       "    <tr style=\"text-align: right;\">\n",
       "      <th></th>\n",
       "      <th>first_site</th>\n",
       "      <th>second_site</th>\n",
       "      <th>mf_dca</th>\n",
       "    </tr>\n",
       "  </thead>\n",
       "  <tbody>\n",
       "    <tr>\n",
       "      <th>0</th>\n",
       "      <td>0</td>\n",
       "      <td>1</td>\n",
       "      <td>0.028504</td>\n",
       "    </tr>\n",
       "    <tr>\n",
       "      <th>1</th>\n",
       "      <td>0</td>\n",
       "      <td>2</td>\n",
       "      <td>0.059369</td>\n",
       "    </tr>\n",
       "    <tr>\n",
       "      <th>2</th>\n",
       "      <td>0</td>\n",
       "      <td>3</td>\n",
       "      <td>0.034621</td>\n",
       "    </tr>\n",
       "    <tr>\n",
       "      <th>3</th>\n",
       "      <td>0</td>\n",
       "      <td>4</td>\n",
       "      <td>0.037939</td>\n",
       "    </tr>\n",
       "    <tr>\n",
       "      <th>4</th>\n",
       "      <td>0</td>\n",
       "      <td>5</td>\n",
       "      <td>0.032860</td>\n",
       "    </tr>\n",
       "    <tr>\n",
       "      <th>...</th>\n",
       "      <td>...</td>\n",
       "      <td>...</td>\n",
       "      <td>...</td>\n",
       "    </tr>\n",
       "    <tr>\n",
       "      <th>8251</th>\n",
       "      <td>125</td>\n",
       "      <td>127</td>\n",
       "      <td>0.047774</td>\n",
       "    </tr>\n",
       "    <tr>\n",
       "      <th>8252</th>\n",
       "      <td>125</td>\n",
       "      <td>128</td>\n",
       "      <td>0.027052</td>\n",
       "    </tr>\n",
       "    <tr>\n",
       "      <th>8253</th>\n",
       "      <td>126</td>\n",
       "      <td>127</td>\n",
       "      <td>0.013962</td>\n",
       "    </tr>\n",
       "    <tr>\n",
       "      <th>8254</th>\n",
       "      <td>126</td>\n",
       "      <td>128</td>\n",
       "      <td>0.027891</td>\n",
       "    </tr>\n",
       "    <tr>\n",
       "      <th>8255</th>\n",
       "      <td>127</td>\n",
       "      <td>128</td>\n",
       "      <td>0.031582</td>\n",
       "    </tr>\n",
       "  </tbody>\n",
       "</table>\n",
       "<p>8256 rows × 3 columns</p>\n",
       "</div>"
      ],
      "text/plain": [
       "      first_site  second_site    mf_dca\n",
       "0              0            1  0.028504\n",
       "1              0            2  0.059369\n",
       "2              0            3  0.034621\n",
       "3              0            4  0.037939\n",
       "4              0            5  0.032860\n",
       "...          ...          ...       ...\n",
       "8251         125          127  0.047774\n",
       "8252         125          128  0.027052\n",
       "8253         126          127  0.013962\n",
       "8254         126          128  0.027891\n",
       "8255         127          128  0.031582\n",
       "\n",
       "[8256 rows x 3 columns]"
      ]
     },
     "execution_count": 24,
     "metadata": {},
     "output_type": "execute_result"
    }
   ],
   "source": [
    "df"
   ]
  },
  {
   "cell_type": "code",
   "execution_count": 25,
   "metadata": {},
   "outputs": [],
   "source": [
    "df.to_csv(cadherin_csv_path, index=False)"
   ]
  }
 ],
 "metadata": {
  "kernelspec": {
   "display_name": "protein-lm",
   "language": "python",
   "name": "protein-lm"
  },
  "language_info": {
   "codemirror_mode": {
    "name": "ipython",
    "version": 3
   },
   "file_extension": ".py",
   "mimetype": "text/x-python",
   "name": "python",
   "nbconvert_exporter": "python",
   "pygments_lexer": "ipython3",
   "version": "3.10.0"
  }
 },
 "nbformat": 4,
 "nbformat_minor": 2
}
