{
 "cells": [
  {
   "cell_type": "code",
   "execution_count": 1,
   "metadata": {},
   "outputs": [],
   "source": [
    "import os\n",
    "os.chdir('..')"
   ]
  },
  {
   "cell_type": "code",
   "execution_count": 2,
   "metadata": {},
   "outputs": [],
   "source": [
    "from Bio import AlignIO\n",
    "from Bio.Seq import Seq\n",
    "from Bio.PDB import PDBParser\n",
    "from utils.pdb import seq_from_structure\n",
    "import requests\n",
    "import re"
   ]
  },
  {
   "cell_type": "code",
   "execution_count": 4,
   "metadata": {},
   "outputs": [
    {
     "data": {
      "text/plain": [
       "<<class 'Bio.Align.MultipleSeqAlignment'> instance (513304 records of length 733) at 7fc6802a1f00>"
      ]
     },
     "execution_count": 4,
     "metadata": {},
     "output_type": "execute_result"
    }
   ],
   "source": [
    "msa_path = \"data/cadherin/PF00028_full_alignment.faa\"\n",
    "#pdb_filename = \"data/cadherin/pdb2o72.ent\" # change to 207 pdb file\n",
    "pdb_id = \"2o72\"\n",
    "#pdb_filename = \"data/cadherin/CAD13_CHICK.3k6i.pdb.ent\"\n",
    "#pdb_id = \"3k6i\"\n",
    "\n",
    "msa = AlignIO.read(msa_path, 'fasta')\n",
    "#pdb_struct = PDBParser().get_structure(pdb_id, pdb_filename)\n",
    "\n",
    "msa#, pdb_struct"
   ]
  },
  {
   "cell_type": "code",
   "execution_count": 5,
   "metadata": {},
   "outputs": [
    {
     "data": {
      "text/plain": [
       "'CADH1_HUMAN'"
      ]
     },
     "execution_count": 5,
     "metadata": {},
     "output_type": "execute_result"
    }
   ],
   "source": [
    "pdb_uniprot_info = requests.get('https://www.ebi.ac.uk/pdbe/api/mappings/uniprot/' + pdb_id).json()[pdb_id]['UniProt']\n",
    "key_id = list(pdb_uniprot_info.keys())[0]\n",
    "\n",
    "pdb_name = pdb_uniprot_info[key_id]['name']\n",
    "pdb_name"
   ]
  },
  {
   "cell_type": "code",
   "execution_count": 6,
   "metadata": {},
   "outputs": [],
   "source": [
    "# find sequence corresponding to PDB in the MSA\n",
    "# MSA record name contains uniprot residue range of sequence that is aligned,\n",
    "# so we only return the record if it contains our query start and end range\n",
    "def find_seq_in_MSA(msa, target_name, start=-1, end=-1):\n",
    "    for record in msa:\n",
    "        rec_split = record.name.split('/')\n",
    "        rec_name = rec_split[0]\n",
    "        rec_range = rec_split[1].split('-')\n",
    "        rec_start = int(rec_range[0])\n",
    "        rec_end = int(rec_range[1])\n",
    "\n",
    "        if start == -1 or end == -1:\n",
    "            if rec_name == target_name:\n",
    "                return record\n",
    "        else:\n",
    "            if rec_name == target_name and start >= rec_start and end <= rec_end:\n",
    "                return record\n",
    "    return ''"
   ]
  },
  {
   "cell_type": "code",
   "execution_count": 7,
   "metadata": {},
   "outputs": [
    {
     "data": {
      "text/plain": [
       "(491, 585)"
      ]
     },
     "execution_count": 7,
     "metadata": {},
     "output_type": "execute_result"
    }
   ],
   "source": [
    "# reference uniprot range that we will crop MSA based on\n",
    "uniprot_start = -1\n",
    "uniprot_end = -1\n",
    "#267–366\n",
    "gapped_str_record = find_seq_in_MSA(msa, pdb_name, start=uniprot_start, end=uniprot_end)\n",
    "gapped_str = str(gapped_str_record.seq)\n",
    "\n",
    "uniprot_ref_start = int(re.split('/|-', gapped_str_record.name)[1])\n",
    "uniprot_ref_end = int(re.split('/|-', gapped_str_record.name)[2])\n",
    "\n",
    "uniprot_ref_start, uniprot_ref_end"
   ]
  },
  {
   "cell_type": "code",
   "execution_count": 10,
   "metadata": {},
   "outputs": [
    {
     "data": {
      "text/plain": [
       "[]"
      ]
     },
     "execution_count": 10,
     "metadata": {},
     "output_type": "execute_result"
    }
   ],
   "source": [
    "gapped_str_record.dbxrefs"
   ]
  },
  {
   "cell_type": "code",
   "execution_count": 7,
   "metadata": {},
   "outputs": [],
   "source": [
    "# num gaps up to and including index i in str\n",
    "def num_gaps_before(str, i):\n",
    "    return str[:(i+1)].count('.')\n",
    "\n",
    "def find_matching_ungapped_idx(str, input_idx):\n",
    "    for i in range(len(str)):\n",
    "        if input_idx == i - num_gaps_before(str, i):\n",
    "            return i\n",
    "    return -1\n",
    "\n",
    "# str = input sequence with gaps\n",
    "# u_start = Uniprot start index for range\n",
    "# u_end = Uniprot end index for range\n",
    "# u_ref_start = Uniprot offset for first character in sequence\n",
    "# returns: inclusive range of MSA columns\n",
    "def get_msa_range(str, u_start, u_end, u_ref_start):\n",
    "    gapped_start = u_start - u_ref_start\n",
    "    gapped_end = u_end - u_ref_start\n",
    "    str_start = find_matching_ungapped_idx(str, gapped_start)\n",
    "    str_end = find_matching_ungapped_idx(str, gapped_end)\n",
    "\n",
    "    return str_start, str_end + 1"
   ]
  },
  {
   "cell_type": "code",
   "execution_count": 8,
   "metadata": {},
   "outputs": [
    {
     "name": "stdout",
     "output_type": "stream",
     "text": [
      "-----------------------------------------------------------k-RVEVS-E---D----F---G-------V----G-----Q-------E------I---------T-------S---------Y----------T----------A-----Q-----------E------P---------D------------------T-F--M------E--------Q---------K--------I----T-------Y-------R----I------W-----R---D-T-----------------------------------------ANW---L------E----I-------N-------P-------D----T----GA--------------------------------------I----S------T----------R--------A---------E-------L----------D----R-----E--DFeh----------------------------vknST--Y---T--------A---------L----I---I----A---T----DN---------------------G-S-P---V------A---T----G----T---G---T-L-----llil----------------------------------------------------------------\n",
      "start: -1, end: -1\n",
      "reference start: 491\n",
      "reference end: 585\n",
      "Trimmed seq: \n"
     ]
    }
   ],
   "source": [
    "i, j = get_msa_range(gapped_str, uniprot_start, uniprot_end, uniprot_ref_start)\n",
    "\n",
    "print(gapped_str)\n",
    "print(\"start: {}, end: {}\".format(uniprot_start, uniprot_end))\n",
    "print(\"reference start: {}\".format(uniprot_ref_start))\n",
    "print(\"reference end: {}\".format(uniprot_ref_end))\n",
    "print(\"Trimmed seq: {}\".format(gapped_str[i:j]))"
   ]
  },
  {
   "cell_type": "code",
   "execution_count": 12,
   "metadata": {},
   "outputs": [
    {
     "data": {
      "text/plain": [
       "Seq('------------------------------------------------------...---')"
      ]
     },
     "execution_count": 12,
     "metadata": {},
     "output_type": "execute_result"
    }
   ],
   "source": [
    "msa[0].seq"
   ]
  },
  {
   "cell_type": "code",
   "execution_count": 7,
   "metadata": {},
   "outputs": [
    {
     "ename": "NameError",
     "evalue": "name 'i' is not defined",
     "output_type": "error",
     "traceback": [
      "\u001b[0;31m---------------------------------------------------------------------------\u001b[0m",
      "\u001b[0;31mNameError\u001b[0m                                 Traceback (most recent call last)",
      "Cell \u001b[0;32mIn[7], line 4\u001b[0m\n\u001b[1;32m      1\u001b[0m \u001b[38;5;66;03m# updates msa with trimmed seq\u001b[39;00m\n\u001b[1;32m      2\u001b[0m \u001b[38;5;66;03m# once this is done, msa can be written to file\u001b[39;00m\n\u001b[1;32m      3\u001b[0m \u001b[38;5;28;01mfor\u001b[39;00m record \u001b[38;5;129;01min\u001b[39;00m msa:\n\u001b[0;32m----> 4\u001b[0m     record\u001b[38;5;241m.\u001b[39mseq \u001b[38;5;241m=\u001b[39m Seq(\u001b[38;5;28mstr\u001b[39m(record\u001b[38;5;241m.\u001b[39mseq)[\u001b[43mi\u001b[49m:j])\n\u001b[1;32m      6\u001b[0m \u001b[38;5;28mprint\u001b[39m(msa)\n",
      "\u001b[0;31mNameError\u001b[0m: name 'i' is not defined"
     ]
    }
   ],
   "source": [
    "# updates msa with trimmed seq\n",
    "# once this is done, msa can be written to file\n",
    "for record in msa:\n",
    "    record.seq = Seq(str(record.seq)[i:j])\n",
    "\n",
    "print(msa)"
   ]
  },
  {
   "cell_type": "code",
   "execution_count": 11,
   "metadata": {},
   "outputs": [
    {
     "data": {
      "text/plain": [
       "513304"
      ]
     },
     "execution_count": 11,
     "metadata": {},
     "output_type": "execute_result"
    }
   ],
   "source": [
    "from Bio import SeqIO\n",
    "SeqIO.write(msa, 'test', \"fasta\")"
   ]
  },
  {
   "cell_type": "code",
   "execution_count": null,
   "metadata": {},
   "outputs": [],
   "source": []
  }
 ],
 "metadata": {
  "kernelspec": {
   "display_name": "Python 3 (ipykernel)",
   "language": "python",
   "name": "python3"
  },
  "language_info": {
   "codemirror_mode": {
    "name": "ipython",
    "version": 3
   },
   "file_extension": ".py",
   "mimetype": "text/x-python",
   "name": "python",
   "nbconvert_exporter": "python",
   "pygments_lexer": "ipython3",
   "version": "3.10.15"
  }
 },
 "nbformat": 4,
 "nbformat_minor": 4
}
