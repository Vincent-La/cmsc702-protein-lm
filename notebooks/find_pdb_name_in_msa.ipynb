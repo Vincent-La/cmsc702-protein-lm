{
 "cells": [
  {
   "cell_type": "code",
   "execution_count": 1,
   "metadata": {},
   "outputs": [],
   "source": [
    "from Bio import AlignIO\n",
    "from Bio.Seq import Seq\n",
    "from Bio.PDB import PDBParser\n",
    "\n",
    "import sys\n",
    "sys.path.append('..')\n",
    "from utils.pdb import seq_from_structure\n",
    "import requests\n",
    "import re"
   ]
  },
  {
   "cell_type": "code",
   "execution_count": 3,
   "metadata": {},
   "outputs": [
    {
     "data": {
      "text/plain": [
       "<<class 'Bio.Align.MultipleSeqAlignment'> instance (560356 records of length 776) at 7f141c1a9f30>"
      ]
     },
     "execution_count": 3,
     "metadata": {},
     "output_type": "execute_result"
    }
   ],
   "source": [
    "# path to FULL msa stockholm file\n",
    "msa_path = '/nfshomes/vla/cmsc702-protein-lm/PF00076_full'\n",
    "msa = AlignIO.read(msa_path, 'stockholm')\n",
    "\n",
    "msa"
   ]
  },
  {
   "cell_type": "code",
   "execution_count": 6,
   "metadata": {},
   "outputs": [
    {
     "data": {
      "text/plain": [
       "<Structure id=1d8z>"
      ]
     },
     "execution_count": 6,
     "metadata": {},
     "output_type": "execute_result"
    }
   ],
   "source": [
    "# path to pdb file\n",
    "pdb_path = '../data/rrm/pdb1d8z.ent'\n",
    "pdb_id = \"1d8z\"\n",
    "\n",
    "parser = PDBParser()\n",
    "structure = parser.get_structure(pdb_id, pdb_path)\n",
    "structure"
   ]
  },
  {
   "cell_type": "code",
   "execution_count": 7,
   "metadata": {},
   "outputs": [
    {
     "data": {
      "text/plain": [
       "'MDSKTNLIVNYLPQNMTQDEFKSLFGSIGDIESCKLVRDKITGQSLGYGFVNYSDPNDADKAINTLNGLKLQTKTIKVSYARPSSASIR'"
      ]
     },
     "execution_count": 7,
     "metadata": {},
     "output_type": "execute_result"
    }
   ],
   "source": [
    "pdb_sequence = seq_from_structure(structure)\n",
    "pdb_sequence"
   ]
  },
  {
   "cell_type": "code",
   "execution_count": 8,
   "metadata": {},
   "outputs": [
    {
     "data": {
      "text/plain": [
       "89"
      ]
     },
     "execution_count": 8,
     "metadata": {},
     "output_type": "execute_result"
    }
   ],
   "source": [
    "len(pdb_sequence)"
   ]
  },
  {
   "cell_type": "code",
   "execution_count": 9,
   "metadata": {},
   "outputs": [
    {
     "data": {
      "text/plain": [
       "'ELAV3_MOUSE'"
      ]
     },
     "execution_count": 9,
     "metadata": {},
     "output_type": "execute_result"
    }
   ],
   "source": [
    "pdb_uniprot_info = requests.get('https://www.ebi.ac.uk/pdbe/api/mappings/uniprot/' + pdb_id).json()[pdb_id]['UniProt']\n",
    "key_id = list(pdb_uniprot_info.keys())[0]\n",
    "\n",
    "pdb_name = pdb_uniprot_info[key_id]['name']\n",
    "pdb_name  # Uniprot entry name"
   ]
  },
  {
   "cell_type": "code",
   "execution_count": 10,
   "metadata": {},
   "outputs": [],
   "source": [
    "# find sequence corresponding to PDB in the MSA\n",
    "# MSA record name contains uniprot residue range of sequence that is aligned,\n",
    "# so we only return the record if it contains our query start and end range\n",
    "def find_seq_in_MSA(msa, target_name, start=-1, end=-1):\n",
    "    for record in msa:\n",
    "\n",
    "        rec_split = record.id.split('/')\n",
    "\n",
    "        rec_name = rec_split[0]\n",
    "        rec_range = rec_split[1].split('-')\n",
    "        rec_start = int(rec_range[0])\n",
    "        rec_end = int(rec_range[1])\n",
    "\n",
    "        if start == -1 or end == -1:\n",
    "            if rec_name == target_name:\n",
    "                return record\n",
    "        else:\n",
    "            if rec_name == target_name and start >= rec_start and end <= rec_end:\n",
    "                return record\n",
    "            \n",
    "    return ''"
   ]
  },
  {
   "cell_type": "code",
   "execution_count": 11,
   "metadata": {},
   "outputs": [
    {
     "data": {
      "text/plain": [
       "'--------------------------------------------------LIVN-Y--L--------P--------Q-------N--------M------T---------Q---------D----------E----------F-----------K----------S---------L---------F-------------G-----------S-----I--------------G------------D-----------I------E------------S-------------C--------------K-----------------L-----------------V--------------R-----------------D-----------------kI--------------T--------------G---------------Q--------------S--------------L------------G------------Y---------------G----------------F------------V-----------N----------Y---------S-----------D--------P----------N---------D---------A--------D-----------K---------A-----------I--------N------T--------L----N---G--L--KL-QTKTIK---------------------------------------------------------'"
      ]
     },
     "execution_count": 11,
     "metadata": {},
     "output_type": "execute_result"
    }
   ],
   "source": [
    "# reference uniprot range that we will crop MSA based on\n",
    "uniprot_start = -1\n",
    "uniprot_end = -1\n",
    "\n",
    "gapped_str_record = find_seq_in_MSA(msa, pdb_name, start=uniprot_start, end=uniprot_end)\n",
    "gapped_str = str(gapped_str_record.seq)\n",
    "gapped_str"
   ]
  },
  {
   "cell_type": "code",
   "execution_count": 12,
   "metadata": {},
   "outputs": [
    {
     "data": {
      "text/plain": [
       "SeqRecord(seq=Seq('--------------------------------------------------LIVN...---'), id='ELAV3_MOUSE/41-111', name='ELAV3_MOUSE', description='ELAV3_MOUSE/41-111', dbxrefs=['PDB; 1FNX H; 127-195;', 'PDB; 1D8Z A; 6-76;'])"
      ]
     },
     "execution_count": 12,
     "metadata": {},
     "output_type": "execute_result"
    }
   ],
   "source": [
    "gapped_str_record"
   ]
  },
  {
   "cell_type": "code",
   "execution_count": 13,
   "metadata": {},
   "outputs": [
    {
     "data": {
      "text/plain": [
       "'LIVNYLPQNMTQDEFKSLFGSIGDIESCKLVRDkITGQSLGYGFVNYSDPNDADKAINTLNGLKLQTKTIK'"
      ]
     },
     "execution_count": 13,
     "metadata": {},
     "output_type": "execute_result"
    }
   ],
   "source": [
    "ungapped_seq = gapped_str.replace('-', '')\n",
    "# raw sequence has same amount of residues as the uniprot range specified\n",
    "# assert len(ungapped_seq) == uniprot_ref_end - uniprot_ref_start + 1\n",
    "ungapped_seq"
   ]
  },
  {
   "cell_type": "code",
   "execution_count": 14,
   "metadata": {},
   "outputs": [
    {
     "data": {
      "text/plain": [
       "'LIVNYLPQNMTQDEFKSLFGSIGDIESCKLVRDKITGQSLGYGFVNYSDPNDADKAINTLNGLKLQTKTIK'"
      ]
     },
     "execution_count": 14,
     "metadata": {},
     "output_type": "execute_result"
    }
   ],
   "source": [
    "pdb_sequence[6:76 + 1]"
   ]
  },
  {
   "cell_type": "code",
   "execution_count": 15,
   "metadata": {},
   "outputs": [],
   "source": [
    "assert ungapped_seq.upper() == pdb_sequence[6:76 + 1]"
   ]
  },
  {
   "cell_type": "code",
   "execution_count": 16,
   "metadata": {},
   "outputs": [
    {
     "data": {
      "text/plain": [
       "89"
      ]
     },
     "execution_count": 16,
     "metadata": {},
     "output_type": "execute_result"
    }
   ],
   "source": [
    "len(pdb_sequence)"
   ]
  },
  {
   "cell_type": "code",
   "execution_count": 17,
   "metadata": {},
   "outputs": [
    {
     "data": {
      "text/plain": [
       "50"
      ]
     },
     "execution_count": 17,
     "metadata": {},
     "output_type": "execute_result"
    }
   ],
   "source": [
    "start = len(gapped_str) - len(gapped_str.lstrip('-'))\n",
    "start # inclusive msa col to start at"
   ]
  },
  {
   "cell_type": "code",
   "execution_count": 18,
   "metadata": {},
   "outputs": [
    {
     "data": {
      "text/plain": [
       "719"
      ]
     },
     "execution_count": 18,
     "metadata": {},
     "output_type": "execute_result"
    }
   ],
   "source": [
    "end = len(gapped_str) - (len(gapped_str) - len(gapped_str.rstrip('-')))\n",
    "end # exclusive msa col to end at"
   ]
  },
  {
   "cell_type": "code",
   "execution_count": null,
   "metadata": {},
   "outputs": [],
   "source": [
    "# updates msa with trimmed seq\n",
    "# once this is done, msa can be written to file\n",
    "for record in msa:  \n",
    "    record.seq = Seq(str(record.seq)[start:end])\n",
    "\n",
    "print(msa)"
   ]
  }
 ],
 "metadata": {
  "kernelspec": {
   "display_name": "base",
   "language": "python",
   "name": "python3"
  },
  "language_info": {
   "codemirror_mode": {
    "name": "ipython",
    "version": 3
   },
   "file_extension": ".py",
   "mimetype": "text/x-python",
   "name": "python",
   "nbconvert_exporter": "python",
   "pygments_lexer": "ipython3",
   "version": "3.10.0"
  }
 },
 "nbformat": 4,
 "nbformat_minor": 2
}
