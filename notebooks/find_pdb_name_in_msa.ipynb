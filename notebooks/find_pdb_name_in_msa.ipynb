{
 "cells": [
  {
   "cell_type": "code",
   "execution_count": 1,
   "metadata": {},
   "outputs": [],
   "source": [
    "from Bio import AlignIO\n",
    "from Bio.Seq import Seq\n",
    "from Bio.PDB import PDBParser\n",
    "from Bio import SeqIO\n",
    "import random\n",
    "\n",
    "import sys\n",
    "sys.path.append('..')\n",
    "from utils.pdb import seq_from_structure\n",
    "import requests\n",
    "import re"
   ]
  },
  {
   "cell_type": "code",
   "execution_count": 2,
   "metadata": {},
   "outputs": [
    {
     "data": {
      "text/plain": [
       "<<class 'Bio.Align.MultipleSeqAlignment'> instance (560356 records of length 776) at 7fc007e08d60>"
      ]
     },
     "execution_count": 2,
     "metadata": {},
     "output_type": "execute_result"
    }
   ],
   "source": [
    "# path to FULL msa stockholm file\n",
    "msa_path = '/nfshomes/vla/cmsc702-protein-lm/PF00076_full'\n",
    "msa = AlignIO.read(msa_path, 'stockholm')\n",
    "\n",
    "msa"
   ]
  },
  {
   "cell_type": "code",
   "execution_count": 3,
   "metadata": {},
   "outputs": [],
   "source": [
    "pdb_id = \"1d8z\""
   ]
  },
  {
   "cell_type": "code",
   "execution_count": 4,
   "metadata": {},
   "outputs": [
    {
     "data": {
      "text/plain": [
       "<Structure id=1d8z>"
      ]
     },
     "execution_count": 4,
     "metadata": {},
     "output_type": "execute_result"
    }
   ],
   "source": [
    "# path to pdb file\n",
    "pdb_path = '/nfshomes/vla/cmsc702-protein-lm/data/rrm/pdb1d8z.ent'\n",
    "\n",
    "\n",
    "parser = PDBParser()\n",
    "structure = parser.get_structure(pdb_id, pdb_path)\n",
    "structure"
   ]
  },
  {
   "cell_type": "code",
   "execution_count": 5,
   "metadata": {},
   "outputs": [
    {
     "data": {
      "text/plain": [
       "'MDSKTNLIVNYLPQNMTQDEFKSLFGSIGDIESCKLVRDKITGQSLGYGFVNYSDPNDADKAINTLNGLKLQTKTIKVSYARPSSASIR'"
      ]
     },
     "execution_count": 5,
     "metadata": {},
     "output_type": "execute_result"
    }
   ],
   "source": [
    "pdb_sequence = seq_from_structure(structure)\n",
    "pdb_sequence"
   ]
  },
  {
   "cell_type": "code",
   "execution_count": 6,
   "metadata": {},
   "outputs": [
    {
     "data": {
      "text/plain": [
       "89"
      ]
     },
     "execution_count": 6,
     "metadata": {},
     "output_type": "execute_result"
    }
   ],
   "source": [
    "len(pdb_sequence)"
   ]
  },
  {
   "cell_type": "code",
   "execution_count": 7,
   "metadata": {},
   "outputs": [
    {
     "data": {
      "text/plain": [
       "'ELAV3_MOUSE'"
      ]
     },
     "execution_count": 7,
     "metadata": {},
     "output_type": "execute_result"
    }
   ],
   "source": [
    "pdb_uniprot_info = requests.get('https://www.ebi.ac.uk/pdbe/api/mappings/uniprot/' + pdb_id).json()[pdb_id]['UniProt']\n",
    "key_id = list(pdb_uniprot_info.keys())[0]\n",
    "\n",
    "pdb_name = pdb_uniprot_info[key_id]['name']\n",
    "pdb_name  # Uniprot entry name"
   ]
  },
  {
   "cell_type": "code",
   "execution_count": 8,
   "metadata": {},
   "outputs": [],
   "source": [
    "# find sequence corresponding to PDB in the MSA\n",
    "# MSA record name contains uniprot residue range of sequence that is aligned,\n",
    "# so we only return the record if it contains our query start and end range\n",
    "def find_seq_in_MSA(msa, target_name, start=-1, end=-1):\n",
    "\n",
    "    records = []\n",
    "    for record in msa:\n",
    "\n",
    "        rec_split = record.id.split('/')\n",
    "\n",
    "        rec_name = rec_split[0]\n",
    "        rec_range = rec_split[1].split('-')\n",
    "        rec_start = int(rec_range[0])\n",
    "        rec_end = int(rec_range[1])\n",
    "\n",
    "        if rec_name == target_name:\n",
    "            records.append(record)\n",
    "\n",
    "            \n",
    "    return records"
   ]
  },
  {
   "cell_type": "code",
   "execution_count": 9,
   "metadata": {},
   "outputs": [
    {
     "data": {
      "text/plain": [
       "[SeqRecord(seq=Seq('--------------------------------------------------LIVN...---'), id='ELAV3_MOUSE/41-111', name='ELAV3_MOUSE', description='ELAV3_MOUSE/41-111', dbxrefs=['PDB; 1FNX H; 127-195;', 'PDB; 1D8Z A; 6-76;']),\n",
       " SeqRecord(seq=Seq('--------------------------------------------------LYVS...---'), id='ELAV3_MOUSE/127-195', name='ELAV3_MOUSE', description='ELAV3_MOUSE/127-195', dbxrefs=['PDB; 1D9A A; 4-72;', 'PDB; 1FNX H; 127-195;']),\n",
       " SeqRecord(seq=Seq('--------------------------------------------------IFVY...---'), id='ELAV3_MOUSE/286-356', name='ELAV3_MOUSE', description='ELAV3_MOUSE/286-356', dbxrefs=[])]"
      ]
     },
     "execution_count": 9,
     "metadata": {},
     "output_type": "execute_result"
    }
   ],
   "source": [
    "records = find_seq_in_MSA(msa, pdb_name)\n",
    "records"
   ]
  },
  {
   "cell_type": "code",
   "execution_count": 10,
   "metadata": {},
   "outputs": [
    {
     "data": {
      "text/plain": [
       "SeqRecord(seq=Seq('--------------------------------------------------LIVN...---'), id='ELAV3_MOUSE/41-111', name='ELAV3_MOUSE', description='ELAV3_MOUSE/41-111', dbxrefs=['PDB; 1FNX H; 127-195;', 'PDB; 1D8Z A; 6-76;'])"
      ]
     },
     "execution_count": 10,
     "metadata": {},
     "output_type": "execute_result"
    }
   ],
   "source": [
    "record = records[0]\n",
    "record"
   ]
  },
  {
   "cell_type": "code",
   "execution_count": 11,
   "metadata": {},
   "outputs": [
    {
     "data": {
      "text/plain": [
       "[' 6', '76']"
      ]
     },
     "execution_count": 11,
     "metadata": {},
     "output_type": "execute_result"
    }
   ],
   "source": [
    "seq_range = record.dbxrefs[1].split(';')[2].split('-')\n",
    "seq_range\n"
   ]
  },
  {
   "cell_type": "code",
   "execution_count": 12,
   "metadata": {},
   "outputs": [
    {
     "data": {
      "text/plain": [
       "(6, 77)"
      ]
     },
     "execution_count": 12,
     "metadata": {},
     "output_type": "execute_result"
    }
   ],
   "source": [
    "seq_start = int(seq_range[0])\n",
    "seq_end = int(seq_range[1]) + 1\n",
    "seq_start,seq_end"
   ]
  },
  {
   "cell_type": "code",
   "execution_count": 13,
   "metadata": {},
   "outputs": [
    {
     "data": {
      "text/plain": [
       "'LIVNYLPQNMTQDEFKSLFGSIGDIESCKLVRDkITGQSLGYGFVNYSDPNDADKAINTLNGLKLQTKTIK'"
      ]
     },
     "execution_count": 13,
     "metadata": {},
     "output_type": "execute_result"
    }
   ],
   "source": [
    "gapped_str = str(record.seq)\n",
    "ungapped_seq = gapped_str.replace('-', '')\n",
    "# raw sequence has same amount of residues as the uniprot range specified\n",
    "# assert len(ungapped_seq) == uniprot_ref_end - uniprot_ref_start + 1\n",
    "ungapped_seq"
   ]
  },
  {
   "cell_type": "code",
   "execution_count": 14,
   "metadata": {},
   "outputs": [
    {
     "data": {
      "text/plain": [
       "'LIVNYLPQNMTQDEFKSLFGSIGDIESCKLVRDKITGQSLGYGFVNYSDPNDADKAINTLNGLKLQTKTIK'"
      ]
     },
     "execution_count": 14,
     "metadata": {},
     "output_type": "execute_result"
    }
   ],
   "source": [
    "pdb_sequence[seq_start:seq_end]"
   ]
  },
  {
   "cell_type": "code",
   "execution_count": 15,
   "metadata": {},
   "outputs": [],
   "source": [
    "assert ungapped_seq.upper() == pdb_sequence[seq_start:seq_end]"
   ]
  },
  {
   "cell_type": "code",
   "execution_count": 16,
   "metadata": {},
   "outputs": [
    {
     "data": {
      "text/plain": [
       "89"
      ]
     },
     "execution_count": 16,
     "metadata": {},
     "output_type": "execute_result"
    }
   ],
   "source": [
    "len(pdb_sequence)"
   ]
  },
  {
   "cell_type": "code",
   "execution_count": 17,
   "metadata": {},
   "outputs": [
    {
     "data": {
      "text/plain": [
       "50"
      ]
     },
     "execution_count": 17,
     "metadata": {},
     "output_type": "execute_result"
    }
   ],
   "source": [
    "msa_start = len(gapped_str) - len(gapped_str.lstrip('-'))\n",
    "msa_start # inclusive msa col to start at"
   ]
  },
  {
   "cell_type": "code",
   "execution_count": 18,
   "metadata": {},
   "outputs": [
    {
     "data": {
      "text/plain": [
       "719"
      ]
     },
     "execution_count": 18,
     "metadata": {},
     "output_type": "execute_result"
    }
   ],
   "source": [
    "msa_end = len(gapped_str) - (len(gapped_str) - len(gapped_str.rstrip('-')))\n",
    "msa_end # exclusive msa col to end at"
   ]
  },
  {
   "cell_type": "code",
   "execution_count": 20,
   "metadata": {},
   "outputs": [
    {
     "data": {
      "text/plain": [
       "{'pfam_id': 'PF00076',\n",
       " 'pdb_id': '1d8z',\n",
       " 'pdb_name': 'ELAV3_MOUSE',\n",
       " 'seq_range': (6, 77),\n",
       " 'msa_range': (50, 719),\n",
       " 'uniprot_range': (35, 123)}"
      ]
     },
     "execution_count": 20,
     "metadata": {},
     "output_type": "execute_result"
    }
   ],
   "source": [
    "meta = {}\n",
    "meta['pfam_id'] = 'PF00076'\n",
    "meta['pdb_id'] = '1d8z'\n",
    "meta['pdb_name'] = pdb_name\n",
    "meta['seq_range'] = (seq_start, seq_end)   # range of pdb sequence that MSA entry refers to [start,end) python indexing\n",
    "meta['msa_range'] = (msa_start,msa_end)    # range of msa cols to crop msa to to include the MSA entry of interest [start,end) python indexing\n",
    "meta['uniprot_range'] = (35,123)           # Uniprot residue range covered by the entire pdb structure [start,end] (for record purposes)\n",
    "\n",
    "meta\n"
   ]
  },
  {
   "cell_type": "code",
   "execution_count": 21,
   "metadata": {},
   "outputs": [],
   "source": [
    "import json\n",
    "import os\n",
    "\n",
    "output_dir = '../data/rrm'\n",
    "\n",
    "with open(os.path.join(output_dir, 'meta.json'), 'w') as f:\n",
    "    json.dump(meta, f)"
   ]
  },
  {
   "cell_type": "code",
   "execution_count": 31,
   "metadata": {},
   "outputs": [],
   "source": [
    "# Parameters\n",
    "msa_path = '/nfshomes/vla/cmsc702-protein-lm/PF00076_full' # path to FULL msa stockholm file\n",
    "N = 10000 # number of sequences to select\n",
    "L = msa_start # left msa index\n",
    "R = msa_end # right msa index \n",
    "output_path = f'/nfshomes/vla/cmsc702-protein-lm/data/rrm/PF00076_{N}_msa.faa' # output path for new fasta file\n",
    "threshold = 0 # minimal gap ratio to accept [0-1]"
   ]
  },
  {
   "cell_type": "code",
   "execution_count": 32,
   "metadata": {},
   "outputs": [],
   "source": [
    "if threshold == None:\n",
    "    threshold = 0\n",
    "try:\n",
    "    seen = set(record[L:R].seq)\n",
    "    records = []\n",
    "\n",
    "    def gap_ratio(seq):\n",
    "        return len(seq.replace('-',''))/len(seq)\n",
    "\n",
    "    flag = True\n",
    "    if L==None or R==None:\n",
    "        flag = False\n",
    "    for rec in SeqIO.parse(msa_path, 'stockholm'): \n",
    "\n",
    "        if flag and rec[L:R].seq not in seen:\n",
    "            if gap_ratio(rec[L:R].seq) >= threshold:\n",
    "                seen.add(rec[L:R].seq)\n",
    "                records.append(rec[L:R])\n",
    "        elif not flag and rec.seq not in seen:\n",
    "            if gap_ratio(rec.seq) >= threshold:\n",
    "                seen.add(rec.seq)\n",
    "                records.append(rec)       \n",
    "            \n",
    "except:\n",
    "    print('could not parse file -> not in fasta format')\n",
    "\n",
    "\n",
    "\n",
    "random.shuffle(records) \n",
    "records = [record[L:R]] + records\n"
   ]
  },
  {
   "cell_type": "code",
   "execution_count": 33,
   "metadata": {},
   "outputs": [
    {
     "data": {
      "text/plain": [
       "SeqRecord(seq=Seq('LIVN-Y--L--------P--------Q-------N--------M------T---...TIK'), id='ELAV3_MOUSE/41-111', name='ELAV3_MOUSE', description='ELAV3_MOUSE/41-111', dbxrefs=[])"
      ]
     },
     "execution_count": 33,
     "metadata": {},
     "output_type": "execute_result"
    }
   ],
   "source": [
    "records[0]"
   ]
  },
  {
   "cell_type": "code",
   "execution_count": 34,
   "metadata": {},
   "outputs": [
    {
     "data": {
      "text/plain": [
       "10000"
      ]
     },
     "execution_count": 34,
     "metadata": {},
     "output_type": "execute_result"
    }
   ],
   "source": [
    "SeqIO.write(records[0:N], output_path, \"fasta\")"
   ]
  },
  {
   "cell_type": "code",
   "execution_count": 110,
   "metadata": {},
   "outputs": [
    {
     "data": {
      "text/html": [
       "<div>\n",
       "<style scoped>\n",
       "    .dataframe tbody tr th:only-of-type {\n",
       "        vertical-align: middle;\n",
       "    }\n",
       "\n",
       "    .dataframe tbody tr th {\n",
       "        vertical-align: top;\n",
       "    }\n",
       "\n",
       "    .dataframe thead th {\n",
       "        text-align: right;\n",
       "    }\n",
       "</style>\n",
       "<table border=\"1\" class=\"dataframe\">\n",
       "  <thead>\n",
       "    <tr style=\"text-align: right;\">\n",
       "      <th></th>\n",
       "      <th>first_site</th>\n",
       "      <th>second_site</th>\n",
       "      <th>mf_dca</th>\n",
       "    </tr>\n",
       "  </thead>\n",
       "  <tbody>\n",
       "    <tr>\n",
       "      <th>116769</th>\n",
       "      <td>182</td>\n",
       "      <td>199</td>\n",
       "      <td>4.928587e-01</td>\n",
       "    </tr>\n",
       "    <tr>\n",
       "      <th>240793</th>\n",
       "      <td>498</td>\n",
       "      <td>509</td>\n",
       "      <td>4.535699e-01</td>\n",
       "    </tr>\n",
       "    <tr>\n",
       "      <th>261724</th>\n",
       "      <td>618</td>\n",
       "      <td>620</td>\n",
       "      <td>3.881888e-01</td>\n",
       "    </tr>\n",
       "    <tr>\n",
       "      <th>261953</th>\n",
       "      <td>620</td>\n",
       "      <td>624</td>\n",
       "      <td>3.840173e-01</td>\n",
       "    </tr>\n",
       "    <tr>\n",
       "      <th>262174</th>\n",
       "      <td>622</td>\n",
       "      <td>624</td>\n",
       "      <td>3.584000e-01</td>\n",
       "    </tr>\n",
       "    <tr>\n",
       "      <th>...</th>\n",
       "      <td>...</td>\n",
       "      <td>...</td>\n",
       "      <td>...</td>\n",
       "    </tr>\n",
       "    <tr>\n",
       "      <th>259239</th>\n",
       "      <td>598</td>\n",
       "      <td>605</td>\n",
       "      <td>3.393099e-07</td>\n",
       "    </tr>\n",
       "    <tr>\n",
       "      <th>259241</th>\n",
       "      <td>598</td>\n",
       "      <td>607</td>\n",
       "      <td>3.393099e-07</td>\n",
       "    </tr>\n",
       "    <tr>\n",
       "      <th>259243</th>\n",
       "      <td>598</td>\n",
       "      <td>609</td>\n",
       "      <td>3.393099e-07</td>\n",
       "    </tr>\n",
       "    <tr>\n",
       "      <th>259277</th>\n",
       "      <td>598</td>\n",
       "      <td>643</td>\n",
       "      <td>3.393099e-07</td>\n",
       "    </tr>\n",
       "    <tr>\n",
       "      <th>259264</th>\n",
       "      <td>598</td>\n",
       "      <td>630</td>\n",
       "      <td>3.393099e-07</td>\n",
       "    </tr>\n",
       "  </tbody>\n",
       "</table>\n",
       "<p>268278 rows × 3 columns</p>\n",
       "</div>"
      ],
      "text/plain": [
       "        first_site  second_site        mf_dca\n",
       "116769         182          199  4.928587e-01\n",
       "240793         498          509  4.535699e-01\n",
       "261724         618          620  3.881888e-01\n",
       "261953         620          624  3.840173e-01\n",
       "262174         622          624  3.584000e-01\n",
       "...            ...          ...           ...\n",
       "259239         598          605  3.393099e-07\n",
       "259241         598          607  3.393099e-07\n",
       "259243         598          609  3.393099e-07\n",
       "259277         598          643  3.393099e-07\n",
       "259264         598          630  3.393099e-07\n",
       "\n",
       "[268278 rows x 3 columns]"
      ]
     },
     "execution_count": 110,
     "metadata": {},
     "output_type": "execute_result"
    }
   ],
   "source": [
    "import pandas as pd\n",
    "df = pd.read_csv('/nfshomes/vla/cmsc702-protein-lm/results/cadherin/mfdca/PF00028_8000_sequences_2o72_uniprot_mfdca.csv')\n",
    "df.sort_values(by = 'mf_dca', ascending=False)"
   ]
  }
 ],
 "metadata": {
  "kernelspec": {
   "display_name": "base",
   "language": "python",
   "name": "python3"
  },
  "language_info": {
   "codemirror_mode": {
    "name": "ipython",
    "version": 3
   },
   "file_extension": ".py",
   "mimetype": "text/x-python",
   "name": "python",
   "nbconvert_exporter": "python",
   "pygments_lexer": "ipython3",
   "version": "3.10.0"
  }
 },
 "nbformat": 4,
 "nbformat_minor": 2
}
