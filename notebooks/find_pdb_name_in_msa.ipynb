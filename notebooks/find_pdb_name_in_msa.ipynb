{
 "cells": [
  {
   "cell_type": "code",
   "execution_count": 1,
   "metadata": {},
   "outputs": [],
   "source": [
    "from Bio import AlignIO\n",
    "from Bio import SeqIO\n",
    "from Bio.Seq import Seq\n",
    "from Bio.PDB import PDBParser\n",
    "import random\n",
    "\n",
    "import sys\n",
    "sys.path.append('..')\n",
    "from utils.pdb import seq_from_structure\n",
    "import requests\n",
    "import re"
   ]
  },
  {
   "cell_type": "code",
   "execution_count": 50,
   "metadata": {},
<<<<<<< HEAD
   "outputs": [
    {
     "data": {
      "text/plain": [
       "<<class 'Bio.Align.MultipleSeqAlignment'> instance (39186 records of length 329) at 7fbff063fd30>"
      ]
     },
     "execution_count": 50,
     "metadata": {},
     "output_type": "execute_result"
    }
   ],
   "source": [
    "# path to FULL msa stockholm file\n",
    "msa_path = '/nfshomes/vla/cmsc702-protein-lm/data/pf00014/PF00014_full'\n",
    "msa = AlignIO.read(msa_path, 'stockholm')\n",
    "\n",
    "msa"
=======
   "outputs": [],
   "source": [
    "import os\n",
    "os.chdir('..')"
>>>>>>> 4132d908328ad2bd33f2749ea294053cfb92873c
   ]
  },
  {
   "cell_type": "code",
<<<<<<< HEAD
   "execution_count": 86,
   "metadata": {},
   "outputs": [
    {
     "data": {
      "text/plain": [
       "15"
      ]
     },
     "execution_count": 86,
     "metadata": {},
     "output_type": "execute_result"
    }
   ],
   "source": [
    "refs = []\n",
    "for rec in msa:\n",
    "    if rec.dbxrefs:\n",
    "        refs.append(rec.dbxrefs)\n",
    "\n",
    "len(refs)"
   ]
  },
  {
   "cell_type": "code",
   "execution_count": 88,
   "metadata": {},
   "outputs": [
    {
     "data": {
      "text/plain": [
       "['PDB; 4U30 Y; 4-56;',\n",
       " 'PDB; 4U30 W; 4-56;',\n",
       " 'PDB; 4U30 X; 4-56;',\n",
       " 'PDB; 1BIK A; 81-133;',\n",
       " 'PDB; 4U30 Z; 4-56;']"
      ]
     },
     "execution_count": 88,
     "metadata": {},
     "output_type": "execute_result"
    }
   ],
   "source": [
    "refs[0]"
   ]
  },
  {
   "cell_type": "code",
   "execution_count": 89,
   "metadata": {},
   "outputs": [],
   "source": [
    "pdb_id = \"1bik\""
   ]
  },
  {
   "cell_type": "code",
   "execution_count": 90,
   "metadata": {},
   "outputs": [
    {
     "data": {
      "text/plain": [
       "<Structure id=1bik>"
      ]
     },
     "execution_count": 90,
     "metadata": {},
     "output_type": "execute_result"
    }
   ],
   "source": [
    "# path to pdb file\n",
    "pdb_path = '/nfshomes/vla/cmsc702-protein-lm/data/pf00014/pdb1bik.ent'\n",
    "\n",
    "\n",
    "parser = PDBParser()\n",
    "structure = parser.get_structure(pdb_id, pdb_path)\n",
    "structure"
=======
   "execution_count": 3,
   "metadata": {},
   "outputs": [
    {
     "data": {
      "text/plain": [
       "'/home/neko/fall2024/CMSC702/cmsc702-protein-lm'"
      ]
     },
     "execution_count": 3,
     "metadata": {},
     "output_type": "execute_result"
    }
   ],
   "source": [
    "os.getcwd()"
   ]
  },
  {
   "cell_type": "code",
   "execution_count": 4,
   "metadata": {},
   "outputs": [],
   "source": [
    "# Parameters\n",
    "#msa_path = '/nfshomes/vla/cmsc702-protein-lm/PF00076_full'\n",
    "msa_path = 'data/rna/PF00076.alignment.full' # path to FULL msa stockholm file\n",
    "N = 2000 # number of sequences to select\n",
    "L = 0 # left msa index\n",
    "R = 100 # right msa index\n",
    "output_path = f'data/rna/PF00076_{N}_msa.faa' # output path for new fasta file\n",
    "threshold = 0 # minimal gap ratio to accept [0-1]"
   ]
  },
  {
   "cell_type": "markdown",
   "metadata": {},
   "source": [
    "### Remove duplicates, etc. make into fasta file"
>>>>>>> 4132d908328ad2bd33f2749ea294053cfb92873c
   ]
  },
  {
   "cell_type": "code",
   "execution_count": 91,
   "metadata": {},
   "outputs": [
    {
     "data": {
      "text/plain": [
<<<<<<< HEAD
       "'SCQLGYSAGPCMGMTSRYFYNGTSMACETFQYGGCMGNGNNFVTEKECLQTCRTVAACNLPIVRGPCRAFIQLWAFDAVKGKCVLFPYGGCQGNGNKFYSEKECREYCGV'"
=======
       "2000"
>>>>>>> 4132d908328ad2bd33f2749ea294053cfb92873c
      ]
     },
     "execution_count": 91,
     "metadata": {},
     "output_type": "execute_result"
    }
   ],
   "source": [
    "if threshold == None:\n",
    "    threshold = 0\n",
    "try:\n",
    "    seen = set()\n",
    "    records = []\n",
    "\n",
    "    def gap_ratio(seq):\n",
    "        return len(seq.replace('-',''))/len(seq)\n",
    "\n",
    "    flag = True\n",
    "    if L==None or R==None:\n",
    "        flag = False\n",
    "    for record in SeqIO.parse(msa_path, 'stockholm'): \n",
    "        if flag and record[L:R].seq not in seen:\n",
    "            if gap_ratio(record[L:R].seq) >= threshold:\n",
    "                seen.add(record[L:R].seq)\n",
    "                records.append(record[L:R])\n",
    "        elif not flag and record.seq not in seen:\n",
    "            if gap_ratio(record.seq) >= threshold:\n",
    "                seen.add(record.seq)\n",
    "                records.append(record)       \n",
    "            \n",
    "except:\n",
    "    print('could not parse file -> not in fasta format')\n",
    "\n",
    "random.shuffle(records)\n",
    "SeqIO.write(records[0:N], output_path, \"fasta\")"
   ]
  },
  {
   "cell_type": "code",
   "execution_count": 6,
   "metadata": {},
   "outputs": [
    {
     "data": {
      "text/plain": [
       "<Structure id=1d8z>"
      ]
     },
     "execution_count": 6,
     "metadata": {},
     "output_type": "execute_result"
    }
   ],
   "source": [
    "# path to pdb file\n",
    "#pdb_path = '../data/rrm/pdb1d8z.ent'\n",
    "pdb_path = 'data/rrm/pdb1d8z.ent'\n",
    "pdb_id = \"1d8z\"\n",
    "\n",
    "parser = PDBParser()\n",
    "structure = parser.get_structure(pdb_id, pdb_path)\n",
    "structure"
   ]
  },
  {
   "cell_type": "code",
   "execution_count": 7,
   "metadata": {},
   "outputs": [
    {
     "data": {
      "text/plain": [
       "'MDSKTNLIVNYLPQNMTQDEFKSLFGSIGDIESCKLVRDKITGQSLGYGFVNYSDPNDADKAINTLNGLKLQTKTIKVSYARPSSASIR'"
      ]
     },
     "execution_count": 7,
     "metadata": {},
     "output_type": "execute_result"
    }
   ],
   "source": [
    "pdb_sequence = seq_from_structure(structure)\n",
    "pdb_sequence"
   ]
  },
  {
   "cell_type": "code",
<<<<<<< HEAD
   "execution_count": 92,
=======
   "execution_count": 8,
>>>>>>> 4132d908328ad2bd33f2749ea294053cfb92873c
   "metadata": {},
   "outputs": [
    {
     "data": {
      "text/plain": [
       "110"
      ]
     },
<<<<<<< HEAD
     "execution_count": 92,
=======
     "execution_count": 8,
>>>>>>> 4132d908328ad2bd33f2749ea294053cfb92873c
     "metadata": {},
     "output_type": "execute_result"
    }
   ],
   "source": [
    "len(pdb_sequence)"
   ]
  },
  {
   "cell_type": "code",
<<<<<<< HEAD
   "execution_count": 93,
=======
   "execution_count": 9,
>>>>>>> 4132d908328ad2bd33f2749ea294053cfb92873c
   "metadata": {},
   "outputs": [
    {
     "data": {
      "text/plain": [
       "'AMBP_HUMAN'"
      ]
     },
<<<<<<< HEAD
     "execution_count": 93,
=======
     "execution_count": 9,
>>>>>>> 4132d908328ad2bd33f2749ea294053cfb92873c
     "metadata": {},
     "output_type": "execute_result"
    }
   ],
   "source": [
    "pdb_uniprot_info = requests.get('https://www.ebi.ac.uk/pdbe/api/mappings/uniprot/' + pdb_id).json()[pdb_id]['UniProt']\n",
    "key_id = list(pdb_uniprot_info.keys())[0]\n",
    "\n",
    "pdb_name = pdb_uniprot_info[key_id]['name']\n",
    "pdb_name  # Uniprot entry name"
   ]
  },
  {
   "cell_type": "code",
<<<<<<< HEAD
   "execution_count": 94,
=======
   "execution_count": 10,
>>>>>>> 4132d908328ad2bd33f2749ea294053cfb92873c
   "metadata": {},
   "outputs": [],
   "source": [
    "# find sequence corresponding to PDB in the MSA\n",
    "# MSA record name contains uniprot residue range of sequence that is aligned,\n",
    "# so we only return the record if it contains our query start and end range\n",
    "def find_seq_in_MSA(msa, target_name, start=-1, end=-1):\n",
    "    for record in msa:\n",
    "\n",
    "        rec_split = record.id.split('/')\n",
    "\n",
    "        rec_name = rec_split[0]\n",
    "        rec_range = rec_split[1].split('-')\n",
    "        rec_start = int(rec_range[0])\n",
    "        rec_end = int(rec_range[1])\n",
    "\n",
    "        if start == -1 or end == -1:\n",
    "            if rec_name == target_name:\n",
    "                return record\n",
    "        else:\n",
    "            if rec_name == target_name and start >= rec_start and end <= rec_end:\n",
    "                return record\n",
    "            \n",
<<<<<<< HEAD
    "    return records"
   ]
  },
  {
   "cell_type": "code",
   "execution_count": 95,
   "metadata": {},
   "outputs": [
    {
     "data": {
      "text/plain": [
       "[SeqRecord(seq=Seq('----------------------------------ACN-L-PI---V----R--G...---'), id='AMBP_HUMAN/286-338', name='AMBP_HUMAN', description='AMBP_HUMAN/286-338', dbxrefs=['PDB; 4U30 Y; 4-56;', 'PDB; 4U30 W; 4-56;', 'PDB; 4U30 X; 4-56;', 'PDB; 1BIK A; 81-133;', 'PDB; 4U30 Z; 4-56;']),\n",
       " SeqRecord(seq=Seq('---------------------------------s-CQ-L-GY---S----A--G...---'), id='AMBP_HUMAN/230-282', name='AMBP_HUMAN', description='AMBP_HUMAN/230-282', dbxrefs=['PDB; 1BIK A; 81-133;'])]"
      ]
     },
     "execution_count": 95,
     "metadata": {},
     "output_type": "execute_result"
    }
   ],
   "source": [
    "records = find_seq_in_MSA(msa, pdb_name)\n",
    "records"
   ]
  },
  {
   "cell_type": "code",
   "execution_count": 96,
   "metadata": {},
   "outputs": [
    {
     "data": {
      "text/plain": [
       "SeqRecord(seq=Seq('---------------------------------s-CQ-L-GY---S----A--G...---'), id='AMBP_HUMAN/230-282', name='AMBP_HUMAN', description='AMBP_HUMAN/230-282', dbxrefs=['PDB; 1BIK A; 81-133;'])"
      ]
     },
     "execution_count": 96,
     "metadata": {},
     "output_type": "execute_result"
    }
   ],
   "source": [
    "record = records[1]\n",
    "record"
=======
    "    return ''"
>>>>>>> 4132d908328ad2bd33f2749ea294053cfb92873c
   ]
  },
  {
   "cell_type": "code",
   "execution_count": 98,
   "metadata": {},
   "outputs": [
    {
<<<<<<< HEAD
     "data": {
      "text/plain": [
       "[' 81', '133']"
      ]
     },
     "execution_count": 98,
     "metadata": {},
     "output_type": "execute_result"
    }
   ],
   "source": [
    "seq_range = record.dbxrefs[0].split(';')[2].split('-')\n",
    "seq_range\n"
=======
     "ename": "NameError",
     "evalue": "name 'msa' is not defined",
     "output_type": "error",
     "traceback": [
      "\u001b[0;31m---------------------------------------------------------------------------\u001b[0m",
      "\u001b[0;31mNameError\u001b[0m                                 Traceback (most recent call last)",
      "Cell \u001b[0;32mIn[11], line 5\u001b[0m\n\u001b[1;32m      2\u001b[0m uniprot_start \u001b[38;5;241m=\u001b[39m \u001b[38;5;241m-\u001b[39m\u001b[38;5;241m1\u001b[39m\n\u001b[1;32m      3\u001b[0m uniprot_end \u001b[38;5;241m=\u001b[39m \u001b[38;5;241m-\u001b[39m\u001b[38;5;241m1\u001b[39m\n\u001b[0;32m----> 5\u001b[0m gapped_str_record \u001b[38;5;241m=\u001b[39m find_seq_in_MSA(\u001b[43mmsa\u001b[49m, pdb_name, start\u001b[38;5;241m=\u001b[39muniprot_start, end\u001b[38;5;241m=\u001b[39muniprot_end)\n\u001b[1;32m      6\u001b[0m gapped_str \u001b[38;5;241m=\u001b[39m \u001b[38;5;28mstr\u001b[39m(gapped_str_record\u001b[38;5;241m.\u001b[39mseq)\n\u001b[1;32m      7\u001b[0m gapped_str\n",
      "\u001b[0;31mNameError\u001b[0m: name 'msa' is not defined"
     ]
    }
   ],
   "source": [
    "# reference uniprot range that we will crop MSA based on\n",
    "uniprot_start = -1\n",
    "uniprot_end = -1\n",
    "\n",
    "gapped_str_record = find_seq_in_MSA(msa, pdb_name, start=uniprot_start, end=uniprot_end)\n",
    "gapped_str = str(gapped_str_record.seq)\n",
    "gapped_str"
>>>>>>> 4132d908328ad2bd33f2749ea294053cfb92873c
   ]
  },
  {
   "cell_type": "code",
   "execution_count": 99,
   "metadata": {},
   "outputs": [
    {
     "data": {
      "text/plain": [
<<<<<<< HEAD
       "(81, 134)"
=======
       "SeqRecord(seq=Seq('--------------------------------------------------LIVN...---'), id='ELAV3_MOUSE/41-111', name='ELAV3_MOUSE', description='ELAV3_MOUSE/41-111', dbxrefs=['PDB; 1FNX H; 127-195;', 'PDB; 1D8Z A; 6-76;'])"
>>>>>>> 4132d908328ad2bd33f2749ea294053cfb92873c
      ]
     },
     "execution_count": 99,
     "metadata": {},
     "output_type": "execute_result"
    }
   ],
   "source": [
    "gapped_str_record"
   ]
  },
  {
   "cell_type": "code",
   "execution_count": 100,
   "metadata": {},
   "outputs": [
    {
     "data": {
      "text/plain": [
       "'sCQLGYSAGPCMGMTSRYFYNGTSMACETFQYGGCMGNGNNFVTEKECLQTCR'"
      ]
     },
     "execution_count": 100,
     "metadata": {},
     "output_type": "execute_result"
    }
   ],
   "source": [
    "ungapped_seq = gapped_str.replace('-', '')\n",
    "# raw sequence has same amount of residues as the uniprot range specified\n",
    "# assert len(ungapped_seq) == uniprot_ref_end - uniprot_ref_start + 1\n",
    "ungapped_seq"
   ]
  },
  {
   "cell_type": "code",
   "execution_count": 101,
   "metadata": {},
   "outputs": [
    {
     "data": {
      "text/plain": [
       "'KCVLFPYGGCQGNGNKFYSEKECREYCGV'"
      ]
     },
     "execution_count": 101,
     "metadata": {},
     "output_type": "execute_result"
    }
   ],
   "source": [
    "pdb_sequence[6:76 + 1]"
   ]
  },
  {
   "cell_type": "code",
   "execution_count": 15,
   "metadata": {},
   "outputs": [],
   "source": [
    "assert ungapped_seq.upper() == pdb_sequence[6:76 + 1]"
   ]
  },
  {
   "cell_type": "code",
   "execution_count": 16,
   "metadata": {},
   "outputs": [
    {
     "data": {
      "text/plain": [
       "89"
      ]
     },
     "execution_count": 16,
     "metadata": {},
     "output_type": "execute_result"
    }
   ],
   "source": [
    "len(pdb_sequence)"
   ]
  },
  {
   "cell_type": "code",
   "execution_count": 17,
   "metadata": {},
   "outputs": [
    {
     "data": {
      "text/plain": [
       "50"
      ]
     },
     "execution_count": 17,
     "metadata": {},
     "output_type": "execute_result"
    }
   ],
   "source": [
    "start = len(gapped_str) - len(gapped_str.lstrip('-'))\n",
    "start # inclusive msa col to start at"
   ]
  },
  {
   "cell_type": "code",
   "execution_count": 18,
   "metadata": {},
   "outputs": [
    {
     "data": {
      "text/plain": [
       "719"
      ]
     },
     "execution_count": 18,
     "metadata": {},
     "output_type": "execute_result"
    }
   ],
   "source": [
    "end = len(gapped_str) - (len(gapped_str) - len(gapped_str.rstrip('-')))\n",
    "end # exclusive msa col to end at"
   ]
  },
  {
   "cell_type": "code",
   "execution_count": null,
   "metadata": {},
   "outputs": [],
   "source": [
    "# updates msa with trimmed seq\n",
    "# once this is done, msa can be written to file\n",
    "for record in msa:  \n",
    "    record.seq = Seq(str(record.seq)[start:end])\n",
    "\n",
<<<<<<< HEAD
    "output_dir = '../data/rrm'\n",
    "\n",
    "with open(os.path.join(output_dir, 'meta.json'), 'w') as f:\n",
    "    json.dump(meta, f)"
   ]
  },
  {
   "cell_type": "code",
   "execution_count": 35,
   "metadata": {},
   "outputs": [],
   "source": [
    "# Parameters\n",
    "msa_path = '/nfshomes/vla/cmsc702-protein-lm/PF00076_full' # path to FULL msa stockholm file\n",
    "N = 10000 # number of sequences to select\n",
    "L = msa_start # left msa index\n",
    "R = msa_end # right msa index \n",
    "output_path = f'/nfshomes/vla/cmsc702-protein-lm/data/rrm/PF00076_{N}_msa.faa' # output path for new fasta file\n",
    "threshold = 0 # minimal gap ratio to accept [0-1]"
   ]
  },
  {
   "cell_type": "code",
   "execution_count": 36,
   "metadata": {},
   "outputs": [
    {
     "data": {
      "text/plain": [
       "10000"
      ]
     },
     "execution_count": 36,
     "metadata": {},
     "output_type": "execute_result"
    }
   ],
   "source": [
    "random.seed(42)\n",
    "\n",
    "if threshold == None:\n",
    "    threshold = 0\n",
    "try:\n",
    "    seen = set(record[L:R].seq)\n",
    "    records = []\n",
    "\n",
    "    def gap_ratio(seq):\n",
    "        return len(seq.replace('-',''))/len(seq)\n",
    "\n",
    "    for rec in SeqIO.parse(msa_path, 'stockholm'): \n",
    "        if rec[L:R].seq not in seen:\n",
    "            if gap_ratio(rec[L:R].seq) >= threshold:\n",
    "                seen.add(rec[L:R].seq)\n",
    "                records.append(rec[L:R])     \n",
    "except:\n",
    "    print('could not parse file -> not in fasta format')\n",
    "\n",
    "\n",
    "\n",
    "random.shuffle(records) \n",
    "records = [record[L:R]] + records\n",
    "\n",
    "SeqIO.write(records[0:N], output_path, \"fasta\")\n",
    "\n"
   ]
  },
  {
   "cell_type": "code",
   "execution_count": 37,
   "metadata": {},
   "outputs": [
    {
     "data": {
      "text/plain": [
       "SeqRecord(seq=Seq('LIVN-Y--L--------P--------Q-------N--------M------T---...TIK'), id='ELAV3_MOUSE/41-111', name='ELAV3_MOUSE', description='ELAV3_MOUSE/41-111', dbxrefs=[])"
      ]
     },
     "execution_count": 37,
     "metadata": {},
     "output_type": "execute_result"
    }
   ],
   "source": [
    "records[0]"
   ]
  },
  {
   "cell_type": "code",
   "execution_count": 38,
   "metadata": {},
   "outputs": [
    {
     "data": {
      "text/plain": [
       "10000"
      ]
     },
     "execution_count": 38,
     "metadata": {},
     "output_type": "execute_result"
    }
   ],
   "source": [
    "SeqIO.write(records[0:N], output_path, \"fasta\")"
   ]
  },
  {
   "cell_type": "code",
   "execution_count": 110,
   "metadata": {},
   "outputs": [
    {
     "data": {
      "text/html": [
       "<div>\n",
       "<style scoped>\n",
       "    .dataframe tbody tr th:only-of-type {\n",
       "        vertical-align: middle;\n",
       "    }\n",
       "\n",
       "    .dataframe tbody tr th {\n",
       "        vertical-align: top;\n",
       "    }\n",
       "\n",
       "    .dataframe thead th {\n",
       "        text-align: right;\n",
       "    }\n",
       "</style>\n",
       "<table border=\"1\" class=\"dataframe\">\n",
       "  <thead>\n",
       "    <tr style=\"text-align: right;\">\n",
       "      <th></th>\n",
       "      <th>first_site</th>\n",
       "      <th>second_site</th>\n",
       "      <th>mf_dca</th>\n",
       "    </tr>\n",
       "  </thead>\n",
       "  <tbody>\n",
       "    <tr>\n",
       "      <th>116769</th>\n",
       "      <td>182</td>\n",
       "      <td>199</td>\n",
       "      <td>4.928587e-01</td>\n",
       "    </tr>\n",
       "    <tr>\n",
       "      <th>240793</th>\n",
       "      <td>498</td>\n",
       "      <td>509</td>\n",
       "      <td>4.535699e-01</td>\n",
       "    </tr>\n",
       "    <tr>\n",
       "      <th>261724</th>\n",
       "      <td>618</td>\n",
       "      <td>620</td>\n",
       "      <td>3.881888e-01</td>\n",
       "    </tr>\n",
       "    <tr>\n",
       "      <th>261953</th>\n",
       "      <td>620</td>\n",
       "      <td>624</td>\n",
       "      <td>3.840173e-01</td>\n",
       "    </tr>\n",
       "    <tr>\n",
       "      <th>262174</th>\n",
       "      <td>622</td>\n",
       "      <td>624</td>\n",
       "      <td>3.584000e-01</td>\n",
       "    </tr>\n",
       "    <tr>\n",
       "      <th>...</th>\n",
       "      <td>...</td>\n",
       "      <td>...</td>\n",
       "      <td>...</td>\n",
       "    </tr>\n",
       "    <tr>\n",
       "      <th>259239</th>\n",
       "      <td>598</td>\n",
       "      <td>605</td>\n",
       "      <td>3.393099e-07</td>\n",
       "    </tr>\n",
       "    <tr>\n",
       "      <th>259241</th>\n",
       "      <td>598</td>\n",
       "      <td>607</td>\n",
       "      <td>3.393099e-07</td>\n",
       "    </tr>\n",
       "    <tr>\n",
       "      <th>259243</th>\n",
       "      <td>598</td>\n",
       "      <td>609</td>\n",
       "      <td>3.393099e-07</td>\n",
       "    </tr>\n",
       "    <tr>\n",
       "      <th>259277</th>\n",
       "      <td>598</td>\n",
       "      <td>643</td>\n",
       "      <td>3.393099e-07</td>\n",
       "    </tr>\n",
       "    <tr>\n",
       "      <th>259264</th>\n",
       "      <td>598</td>\n",
       "      <td>630</td>\n",
       "      <td>3.393099e-07</td>\n",
       "    </tr>\n",
       "  </tbody>\n",
       "</table>\n",
       "<p>268278 rows × 3 columns</p>\n",
       "</div>"
      ],
      "text/plain": [
       "        first_site  second_site        mf_dca\n",
       "116769         182          199  4.928587e-01\n",
       "240793         498          509  4.535699e-01\n",
       "261724         618          620  3.881888e-01\n",
       "261953         620          624  3.840173e-01\n",
       "262174         622          624  3.584000e-01\n",
       "...            ...          ...           ...\n",
       "259239         598          605  3.393099e-07\n",
       "259241         598          607  3.393099e-07\n",
       "259243         598          609  3.393099e-07\n",
       "259277         598          643  3.393099e-07\n",
       "259264         598          630  3.393099e-07\n",
       "\n",
       "[268278 rows x 3 columns]"
      ]
     },
     "execution_count": 110,
     "metadata": {},
     "output_type": "execute_result"
    }
   ],
   "source": [
    "import pandas as pd\n",
    "df = pd.read_csv('/nfshomes/vla/cmsc702-protein-lm/results/cadherin/mfdca/PF00028_8000_sequences_2o72_uniprot_mfdca.csv')\n",
    "df.sort_values(by = 'mf_dca', ascending=False)"
=======
    "print(msa)"
>>>>>>> 4132d908328ad2bd33f2749ea294053cfb92873c
   ]
  }
 ],
 "metadata": {
  "kernelspec": {
   "display_name": "Python 3 (ipykernel)",
   "language": "python",
   "name": "python3"
  },
  "language_info": {
   "codemirror_mode": {
    "name": "ipython",
    "version": 3
   },
   "file_extension": ".py",
   "mimetype": "text/x-python",
   "name": "python",
   "nbconvert_exporter": "python",
   "pygments_lexer": "ipython3",
   "version": "3.10.15"
  }
 },
 "nbformat": 4,
 "nbformat_minor": 4
}
