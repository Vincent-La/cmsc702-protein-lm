{
 "cells": [
  {
   "cell_type": "code",
   "execution_count": 2,
   "metadata": {},
   "outputs": [],
   "source": [
    "from Bio import AlignIO\n",
    "from Bio.Seq import Seq\n",
    "from Bio.PDB import PDBParser\n",
    "from Bio import SeqIO\n",
    "import random\n",
    "\n",
    "import sys\n",
    "sys.path.append('..')\n",
    "from utils.pdb import seq_from_structure\n",
    "import requests\n",
    "import re"
   ]
  },
  {
   "cell_type": "code",
   "execution_count": 3,
   "metadata": {},
   "outputs": [
    {
     "data": {
      "text/plain": [
       "<<class 'Bio.Align.MultipleSeqAlignment'> instance (41514 records of length 582) at 7effa2a49150>"
      ]
     },
     "execution_count": 3,
     "metadata": {},
     "output_type": "execute_result"
    }
   ],
   "source": [
    "# path to FULL msa stockholm file\n",
    "msa_path = '/nfshomes/vla/cmsc702-protein-lm/PF00043_full'\n",
    "msa = AlignIO.read(msa_path, 'stockholm')\n",
    "\n",
    "msa"
   ]
  },
  {
   "cell_type": "code",
   "execution_count": 4,
   "metadata": {},
   "outputs": [
    {
     "data": {
      "text/plain": [
       "83"
      ]
     },
     "execution_count": 4,
     "metadata": {},
     "output_type": "execute_result"
    }
   ],
   "source": [
    "refs = []\n",
    "for rec in msa:\n",
    "    if rec.dbxrefs:\n",
    "        refs.append((rec.name, rec.dbxrefs))\n",
    "\n",
    "len(refs)"
   ]
  },
  {
   "cell_type": "code",
   "execution_count": 5,
   "metadata": {},
   "outputs": [
    {
     "data": {
      "text/plain": [
       "[('A0A1S4FIB3_AEDAE',\n",
       "  ['PDB; 7EBT C; 121-197;',\n",
       "   'PDB; 7EBU D; 121-197;',\n",
       "   'PDB; 7EBT A; 121-197;',\n",
       "   'PDB; 7EBW C; 121-197;',\n",
       "   'PDB; 7EBT D; 121-197;',\n",
       "   'PDB; 7EBU A; 121-197;',\n",
       "   'PDB; 7EBW A; 121-197;',\n",
       "   'PDB; 7EBW B; 121-197;',\n",
       "   'PDB; 7EBW D; 121-197;',\n",
       "   'PDB; 7EBV B; 121-197;',\n",
       "   'PDB; 7EBV D; 121-197;',\n",
       "   'PDB; 7EBU C; 121-197;',\n",
       "   'PDB; 7EBV A; 121-197;',\n",
       "   'PDB; 7EBT B; 121-197;',\n",
       "   'PDB; 7EBV C; 121-197;',\n",
       "   'PDB; 7EBU B; 121-197;']),\n",
       " ('B9RWR5_RICCO', ['PDB; 4J2F A; 91-196;']),\n",
       " ('GSTM7_MOUSE', ['PDB; 2DC5 B; 111-199;', 'PDB; 2DC5 A; 111-199;']),\n",
       " ('A5E437_LODEL',\n",
       "  ['PDB; 4IVF D; 142-212;',\n",
       "   'PDB; 4IVF B; 142-212;',\n",
       "   'PDB; 4IVF G; 142-212;',\n",
       "   'PDB; 4IVF H; 142-212;',\n",
       "   'PDB; 4IVF E; 142-212;',\n",
       "   'PDB; 4IVF A; 142-212;',\n",
       "   'PDB; 4IVF C; 142-212;',\n",
       "   'PDB; 4IVF F; 142-212;']),\n",
       " ('A1ZB72_DROME', ['PDB; 4PNG B; 107-196;', 'PDB; 4PNG A; 107-196;']),\n",
       " ('YFCG_ECOLI',\n",
       "  ['PDB; 5HFK A; 127-197;', 'PDB; 5HFK B; 127-197;', 'PDB; 3GX0 A; 127-197;']),\n",
       " ('D3VKV1_XENNA', ['PDB; 4L8E A; 132-202;']),\n",
       " ('Q88N92_PSEPK', ['PDB; 3MDK A; 97-191;', 'PDB; 3MDK B; 97-191;']),\n",
       " ('D2X9R3_POPTR',\n",
       "  ['PDB; 8A0Q A; 92-193;',\n",
       "   'PDB; 8A0O A; 92-193;',\n",
       "   'PDB; 8A0R A; 92-193;',\n",
       "   'PDB; 8A0P A; 92-193;',\n",
       "   'PDB; 7ZZN A; 92-193;',\n",
       "   'PDB; 8A0I A; 92-193;',\n",
       "   'PDB; 8A08 A; 92-193;']),\n",
       " ('GSTD1_DROME', ['PDB; 3EIN A; 88-188;', 'PDB; 3MAK A; 88-188;']),\n",
       " ('B1FZ96_PARG4',\n",
       "  ['PDB; 4KE3 C; 108-196;',\n",
       "   'PDB; 4KE3 B; 108-196;',\n",
       "   'PDB; 4KDU B; 108-196;',\n",
       "   'PDB; 4KDX B; 108-196;',\n",
       "   'PDB; 4KDX A; 108-196;',\n",
       "   'PDB; 4KDU A; 108-196;',\n",
       "   'PDB; 4KE3 A; 108-196;',\n",
       "   'PDB; 4KE3 D; 108-196;']),\n",
       " ('A1ZB71_DROME',\n",
       "  ['PDB; 4YH2 B; 102-196;',\n",
       "   'PDB; 4YH2 C; 102-196;',\n",
       "   'PDB; 4YH2 A; 102-196;',\n",
       "   'PDB; 4YH2 D; 102-196;']),\n",
       " ('Q92SP3_RHIME',\n",
       "  ['PDB; 4MDC A; 116-206;',\n",
       "   'PDB; 4MDC C; 116-206;',\n",
       "   'PDB; 4MDC B; 116-206;',\n",
       "   'PDB; 4MDC D; 116-206;']),\n",
       " ('GSTF2_ARATH',\n",
       "  ['PDB; 5A5K W; 94-206;',\n",
       "   'PDB; 5A5K E; 94-206;',\n",
       "   'PDB; 1GNW B; 93-205;',\n",
       "   'PDB; 5A5K X; 94-206;',\n",
       "   'PDB; 5A5K M; 94-206;',\n",
       "   'PDB; 5A4U A; 94-206;',\n",
       "   'PDB; 5A5K R; 94-206;',\n",
       "   'PDB; 5A5K L; 94-206;',\n",
       "   'PDB; 5A4U B; 94-206;',\n",
       "   'PDB; 5A5K Q; 94-206;',\n",
       "   'PDB; 1BX9 A; 92-204;',\n",
       "   'PDB; 5A5K H; 94-206;',\n",
       "   'PDB; 5A4V A; 94-206;',\n",
       "   'PDB; 5A5K C; 94-206;',\n",
       "   'PDB; 5A5K D; 94-206;',\n",
       "   'PDB; 5A4V D; 94-206;',\n",
       "   'PDB; 5A4V C; 94-206;',\n",
       "   'PDB; 5A4U C; 94-206;',\n",
       "   'PDB; 5A5K S; 94-206;',\n",
       "   'PDB; 5A4U F; 94-206;',\n",
       "   'PDB; 5A4W B; 94-206;',\n",
       "   'PDB; 1GNW A; 93-205;',\n",
       "   'PDB; 5A5K J; 94-206;',\n",
       "   'PDB; 5A4U D; 94-206;',\n",
       "   'PDB; 5A4W A; 94-206;',\n",
       "   'PDB; 5A5K V; 94-206;',\n",
       "   'PDB; 5A5K O; 94-206;',\n",
       "   'PDB; 5A4V F; 94-206;',\n",
       "   'PDB; 5A5K A; 94-206;',\n",
       "   'PDB; 5A4W F; 94-206;',\n",
       "   'PDB; 5A5K F; 94-206;',\n",
       "   'PDB; 5A4V B; 94-206;',\n",
       "   'PDB; 5A4W E; 94-206;',\n",
       "   'PDB; 5A5K U; 94-206;',\n",
       "   'PDB; 5A5K T; 94-206;',\n",
       "   'PDB; 5A5K G; 94-206;',\n",
       "   'PDB; 5A5K P; 94-206;',\n",
       "   'PDB; 5A4U E; 94-206;',\n",
       "   'PDB; 5A5K K; 94-206;',\n",
       "   'PDB; 5A5K N; 94-206;',\n",
       "   'PDB; 5A4W C; 94-206;',\n",
       "   'PDB; 5A5K I; 94-206;',\n",
       "   'PDB; 5A4W D; 94-206;',\n",
       "   'PDB; 5A4V E; 94-206;',\n",
       "   'PDB; 5A5K B; 94-206;']),\n",
       " ('GSTS1_DROME', ['PDB; 1M0U A; 141-235;', 'PDB; 1M0U B; 141-235;']),\n",
       " ('GST1D_ANOGA', ['PDB; 1PN9 B; 91-190;', 'PDB; 1PN9 A; 91-190;']),\n",
       " ('SSPA_ECOLI',\n",
       "  ['PDB; 6WMU K; 101-194;',\n",
       "   'PDB; 7DY6 J; 101-194;',\n",
       "   'PDB; 7C97 J; 101-194;',\n",
       "   'PDB; 6WMU L; 101-194;',\n",
       "   'PDB; 7C97 I; 101-194;',\n",
       "   'PDB; 7DY6 I; 101-194;']),\n",
       " ('GSTM2_RAT', ['PDB; 1B4P A; 103-191;']),\n",
       " ('EF1G_HUMAN',\n",
       "  ['PDB; 5JPO A; 106-198;',\n",
       "   'PDB; 5JPO D; 106-198;',\n",
       "   'PDB; 5JPO B; 106-198;',\n",
       "   'PDB; 5JPO C; 106-198;',\n",
       "   'PDB; 5DQS A; 106-198;']),\n",
       " ('SSPA_HAEIN', ['PDB; 3LYK A; 101-194;', 'PDB; 3LYK B; 101-194;']),\n",
       " ('B9MWW0_POPTR', ['PDB; 8AGQ A; 107-203;', 'PDB; 5F07 A; 107-203;']),\n",
       " ('G2IN92_SPHSK', ['PDB; 4XT0 A; 106-233;']),\n",
       " ('GST2_HUMAN', ['PDB; 4MPF B; 105-199;', 'PDB; 4MPF A; 105-199;']),\n",
       " ('Q5PY77_AEDAE', ['PDB; 5FT3 A; 68-194;', 'PDB; 5FT3 B; 68-194;']),\n",
       " ('Q60CN1_METCA', ['PDB; 3UAR A; 100-190;', 'PDB; 3UAP A; 100-190;']),\n",
       " ('GSTA1_RAT',\n",
       "  ['PDB; 1EV9 A; 99-192;',\n",
       "   'PDB; 1EV9 D; 99-192;',\n",
       "   'PDB; 1EV9 C; 99-192;',\n",
       "   'PDB; 1EV4 C; 99-192;',\n",
       "   'PDB; 1EV4 A; 99-192;',\n",
       "   'PDB; 1EV4 D; 99-192;']),\n",
       " ('GSTM3_HUMAN', ['PDB; 3GTU D; 107-195;', 'PDB; 3GTU B; 107-195;']),\n",
       " ('GSTA3_CHICK',\n",
       "  ['PDB; 1VF1 A; 99-192;',\n",
       "   'PDB; 1VF2 A; 99-192;',\n",
       "   'PDB; 1VF3 B; 1099-1192;',\n",
       "   'PDB; 1VF3 A; 99-192;',\n",
       "   'PDB; 1VF2 B; 1099-1192;',\n",
       "   'PDB; 1VF4 A; 99-192;']),\n",
       " ('GSTA2_MOUSE', ['PDB; 1ML6 A; 98-191;', 'PDB; 1ML6 B; 398-491;']),\n",
       " ('YIBF_ECOLI', ['PDB; 3R2Q A; 96-192;']),\n",
       " ('D2WL63_POPTR',\n",
       "  ['PDB; 5F05 C; 107-202;',\n",
       "   'PDB; 5F05 A; 107-202;',\n",
       "   'PDB; 5F05 D; 107-202;',\n",
       "   'PDB; 5F05 B; 107-202;']),\n",
       " ('A9XI30_BOMMO', ['PDB; 5ZFG B; 107-191;', 'PDB; 5ZFG A; 107-191;']),\n",
       " ('GSTM2_CHICK',\n",
       "  ['PDB; 1GSU B; 103-191;',\n",
       "   'PDB; 1C72 A; 103-191;',\n",
       "   'PDB; 1GSU A; 103-191;',\n",
       "   'PDB; 1C72 B; 103-191;',\n",
       "   'PDB; 1C72 C; 103-191;',\n",
       "   'PDB; 1C72 D; 103-191;']),\n",
       " ('GSTF1_MAIZE',\n",
       "  ['PDB; 1BYE C; 108-200;',\n",
       "   'PDB; 1AXD B; 109-201;',\n",
       "   'PDB; 1BYE A; 108-200;',\n",
       "   'PDB; 1BYE D; 108-200;',\n",
       "   'PDB; 1AXD A; 109-201;',\n",
       "   'PDB; 1BYE B; 108-200;']),\n",
       " ('Q88RE7_PSEPK',\n",
       "  ['PDB; 3PR8 B; 106-196;',\n",
       "   'PDB; 3LXZ D; 105-195;',\n",
       "   'PDB; 3PR8 A; 106-196;',\n",
       "   'PDB; 3PR8 D; 106-196;',\n",
       "   'PDB; 3LXZ A; 105-195;',\n",
       "   'PDB; 3PR8 C; 106-196;',\n",
       "   'PDB; 3LXZ B; 105-195;',\n",
       "   'PDB; 3LXZ C; 105-195;']),\n",
       " ('U5GTL0_POPTR', ['PDB; 5F06 A; 108-203;', 'PDB; 5F06 B; 108-203;']),\n",
       " ('EF1G1_YEAST', ['PDB; 1NHY A; 107-199;']),\n",
       " ('B1FXZ2_PARG4', ['PDB; 4MF5 A; 126-222;', 'PDB; 4MF6 A; 126-222;']),\n",
       " ('GSTM1_HUMAN',\n",
       "  ['PDB; 1GTU A; 103-191;',\n",
       "   'PDB; 7BEU B; 103-191;',\n",
       "   'PDB; 2F3M A; 103-191;',\n",
       "   'PDB; 1XW6 A; 103-191;',\n",
       "   'PDB; 7BEU A; 103-191;',\n",
       "   'PDB; 1YJ6 A; 103-191;',\n",
       "   'PDB; 1YJ6 B; 103-191;',\n",
       "   'PDB; 2F3M D; 103-191;',\n",
       "   'PDB; 1XWK B; 103-191;',\n",
       "   'PDB; 1XW6 C; 103-191;',\n",
       "   'PDB; 2F3M F; 103-191;',\n",
       "   'PDB; 7BEU C; 103-191;',\n",
       "   'PDB; 1XWK C; 103-191;',\n",
       "   'PDB; 1GTU C; 103-191;',\n",
       "   'PDB; 2F3M B; 103-191;',\n",
       "   'PDB; 1GTU B; 103-191;',\n",
       "   'PDB; 2F3M C; 103-191;',\n",
       "   'PDB; 1XW6 D; 103-191;',\n",
       "   'PDB; 1XWK A; 103-191;',\n",
       "   'PDB; 7BEU D; 103-191;',\n",
       "   'PDB; 1XW6 B; 103-191;',\n",
       "   'PDB; 1YJ6 C; 103-191;',\n",
       "   'PDB; 2F3M E; 103-191;',\n",
       "   'PDB; 1GTU D; 103-191;']),\n",
       " ('GSTEE_DROME',\n",
       "  ['PDB; 7DAY B; 114-196;',\n",
       "   'PDB; 7DB1 B; 114-196;',\n",
       "   'PDB; 6T2T A; 114-196;',\n",
       "   'PDB; 7DB3 B; 114-196;',\n",
       "   'PDB; 7DAZ B; 114-196;',\n",
       "   'PDB; 7DAX A; 114-196;',\n",
       "   'PDB; 7DB0 B; 114-196;',\n",
       "   'PDB; 7DB4 A; 114-196;',\n",
       "   'PDB; 7DB2 B; 114-196;',\n",
       "   'PDB; 7DB4 B; 114-196;',\n",
       "   'PDB; 7DAZ A; 114-196;',\n",
       "   'PDB; 7DB0 A; 114-196;',\n",
       "   'PDB; 7DB1 A; 114-196;',\n",
       "   'PDB; 7DAX B; 114-196;',\n",
       "   'PDB; 7DAY A; 114-196;',\n",
       "   'PDB; 7DB2 A; 114-196;',\n",
       "   'PDB; 7DB3 A; 114-196;']),\n",
       " ('GSTM1_RAT',\n",
       "  ['PDB; 5FWG A; 103-191;',\n",
       "   'PDB; 6GSX A; 103-191;',\n",
       "   'PDB; 2GST B; 103-191;',\n",
       "   'PDB; 5GST A; 103-191;',\n",
       "   'PDB; 6GSV A; 103-191;',\n",
       "   'PDB; 2GST A; 103-191;',\n",
       "   'PDB; 6GSX B; 103-191;',\n",
       "   'PDB; 6GSV B; 103-191;',\n",
       "   'PDB; 6GST A; 103-191;',\n",
       "   'PDB; 3FYG B; 103-191;',\n",
       "   'PDB; 1MTC B; 103-191;',\n",
       "   'PDB; 3FYG A; 103-191;',\n",
       "   'PDB; 6GSW A; 103-191;',\n",
       "   'PDB; 5FWG B; 103-191;',\n",
       "   'PDB; 6GST B; 103-191;',\n",
       "   'PDB; 3GST A; 103-191;',\n",
       "   'PDB; 6GSU A; 103-191;',\n",
       "   'PDB; 6GSU B; 103-191;',\n",
       "   'PDB; 6GSY B; 103-191;',\n",
       "   'PDB; 6GSY A; 103-191;',\n",
       "   'PDB; 1MTC A; 103-191;',\n",
       "   'PDB; 3GST B; 103-191;',\n",
       "   'PDB; 4GST A; 103-191;',\n",
       "   'PDB; 4GST B; 103-191;',\n",
       "   'PDB; 6GSW B; 103-191;',\n",
       "   'PDB; 5GST B; 103-191;']),\n",
       " ('GSTA1_HUMAN',\n",
       "  ['PDB; 1PL2 B; 99-192;',\n",
       "   'PDB; 3I6A C; 99-192;',\n",
       "   'PDB; 6ATO B; 99-192;',\n",
       "   'PDB; 1GSF B; 99-192;',\n",
       "   'PDB; 1PKZ B; 99-192;',\n",
       "   'PDB; 4HJ2 B; 99-192;',\n",
       "   'PDB; 1GSE B; 99-192;',\n",
       "   'PDB; 7BIC A; 99-192;',\n",
       "   'PDB; 6ATO A; 99-192;',\n",
       "   'PDB; 1XWG B; 99-192;',\n",
       "   'PDB; 3KTL A; 99-192;',\n",
       "   'PDB; 3I6A F; 99-192;',\n",
       "   'PDB; 1GUH D; 99-192;',\n",
       "   'PDB; 3U6V A; 99-192;',\n",
       "   'PDB; 3I69 C; 99-192;',\n",
       "   'PDB; 3ZFL A; 99-192;',\n",
       "   'PDB; 2R3X B; 99-192;',\n",
       "   'PDB; 7BIC C; 99-192;',\n",
       "   'PDB; 1K3Y A; 99-192;',\n",
       "   'PDB; 3I6A A; 99-192;',\n",
       "   'PDB; 6ATR A; 99-192;',\n",
       "   'PDB; 2R6K A; 99-192;',\n",
       "   'PDB; 3Q74 A; 99-192;',\n",
       "   'PDB; 6ATP A; 99-192;',\n",
       "   'PDB; 3I69 F; 99-192;',\n",
       "   'PDB; 5JCU A; 99-192;',\n",
       "   'PDB; 1USB B; 99-192;',\n",
       "   'PDB; 3L0H A; 99-192;',\n",
       "   'PDB; 3U6V B; 99-192;',\n",
       "   'PDB; 1PKW B; 99-192;',\n",
       "   'PDB; 3IK9 A; 99-192;',\n",
       "   'PDB; 5JCU D; 99-192;',\n",
       "   'PDB; 6ATR B; 99-192;',\n",
       "   'PDB; 7BIB B; 99-192;',\n",
       "   'PDB; 3I69 E; 99-192;',\n",
       "   'PDB; 1GSF D; 99-192;',\n",
       "   'PDB; 1GUH B; 99-192;',\n",
       "   'PDB; 7BIC B; 99-192;',\n",
       "   'PDB; 1YDK B; 99-192;',\n",
       "   'PDB; 3I6A E; 99-192;',\n",
       "   'PDB; 3I6A H; 99-192;',\n",
       "   'PDB; 3I69 H; 99-192;',\n",
       "   'PDB; 1PL2 A; 99-192;',\n",
       "   'PDB; 7BIC D; 99-192;',\n",
       "   'PDB; 1GSE A; 99-192;',\n",
       "   'PDB; 1K3L A; 99-192;',\n",
       "   'PDB; 1PL1 B; 99-192;',\n",
       "   'PDB; 3I6A B; 99-192;',\n",
       "   'PDB; 2R3X A; 99-192;',\n",
       "   'PDB; 6ATQ B; 99-192;',\n",
       "   'PDB; 1GUH A; 99-192;',\n",
       "   'PDB; 1XWG A; 99-192;',\n",
       "   'PDB; 3Q74 B; 99-192;',\n",
       "   'PDB; 1GSF A; 99-192;',\n",
       "   'PDB; 1YDK A; 99-192;',\n",
       "   'PDB; 4HJ2 A; 99-192;',\n",
       "   'PDB; 3I6A D; 99-192;',\n",
       "   'PDB; 3ZFL B; 99-192;',\n",
       "   'PDB; 3IK9 G; 99-192;',\n",
       "   'PDB; 1GSF C; 99-192;',\n",
       "   'PDB; 3ZFB B; 99-192;',\n",
       "   'PDB; 2R6K B; 99-192;',\n",
       "   'PDB; 6ATP B; 99-192;',\n",
       "   'PDB; 3IK9 C; 99-192;',\n",
       "   'PDB; 1K3L B; 99-192;',\n",
       "   'PDB; 3I69 B; 99-192;',\n",
       "   'PDB; 5JCU B; 99-192;',\n",
       "   'PDB; 6YAW A; 99-192;',\n",
       "   'PDB; 3IK9 F; 99-192;',\n",
       "   'PDB; 3I69 G; 99-192;',\n",
       "   'PDB; 3I6A G; 99-192;',\n",
       "   'PDB; 7BIB A; 99-192;',\n",
       "   'PDB; 3KTL B; 99-192;',\n",
       "   'PDB; 1PL1 A; 99-192;',\n",
       "   'PDB; 3IK9 E; 99-192;',\n",
       "   'PDB; 1PKZ A; 99-192;',\n",
       "   'PDB; 3L0H B; 99-192;',\n",
       "   'PDB; 3IK9 B; 99-192;',\n",
       "   'PDB; 1GUH C; 99-192;',\n",
       "   'PDB; 1PKW A; 99-192;',\n",
       "   'PDB; 1GSD C; 99-192;',\n",
       "   'PDB; 3I69 D; 99-192;',\n",
       "   'PDB; 3ZFB A; 99-192;',\n",
       "   'PDB; 1K3Y B; 99-192;',\n",
       "   'PDB; 1GSD D; 99-192;',\n",
       "   'PDB; 3IK9 H; 99-192;',\n",
       "   'PDB; 6ATQ A; 99-192;',\n",
       "   'PDB; 1K3O B; 99-192;',\n",
       "   'PDB; 6YAW B; 99-192;',\n",
       "   'PDB; 1GSD B; 99-192;',\n",
       "   'PDB; 3IK9 D; 99-192;',\n",
       "   'PDB; 1K3O A; 99-192;',\n",
       "   'PDB; 5JCU C; 99-192;',\n",
       "   'PDB; 1USB A; 99-192;',\n",
       "   'PDB; 1GSD A; 99-192;',\n",
       "   'PDB; 3I69 A; 99-192;']),\n",
       " ('Q2F690_BOMMO', ['PDB; 3AY8 A; 107-194;']),\n",
       " ('GSTA1_MOUSE',\n",
       "  ['PDB; 1F3B B; 98-191;',\n",
       "   'PDB; 1F3A A; 98-191;',\n",
       "   'PDB; 1F3B A; 98-191;',\n",
       "   'PDB; 1F3A B; 98-191;']),\n",
       " ('GSTD2_DROME', ['PDB; 5F0G B; 101-187;', 'PDB; 5F0G A; 101-187;']),\n",
       " ('AIMP2_HUMAN',\n",
       "  ['PDB; 5Y6L D; 235-310;',\n",
       "   'PDB; 6IY6 I; 235-310;',\n",
       "   'PDB; 5A5H B; 235-310;',\n",
       "   'PDB; 5A34 D; 235-310;',\n",
       "   'PDB; 5A5H H; 235-310;',\n",
       "   'PDB; 5A34 F; 235-310;',\n",
       "   'PDB; 5A5H F; 235-310;',\n",
       "   'PDB; 6IY6 D; 235-310;',\n",
       "   'PDB; 5A34 B; 235-310;',\n",
       "   'PDB; 5A5H D; 235-310;',\n",
       "   'PDB; 6IY6 J; 235-310;',\n",
       "   'PDB; 5A1N B; 235-310;',\n",
       "   'PDB; 6IY6 C; 235-310;',\n",
       "   'PDB; 5A34 H; 235-310;']),\n",
       " ('B9GQ64_POPTR', ['PDB; 5EY6 B; 115-206;', 'PDB; 5EY6 A; 115-206;']),\n",
       " ('GSTA4_MOUSE',\n",
       "  ['PDB; 1B48 B; 99-192;',\n",
       "   'PDB; 1B48 A; 99-192;',\n",
       "   'PDB; 1GUK A; 99-192;',\n",
       "   'PDB; 1GUK B; 99-192;']),\n",
       " ('A9PHH6_POPTR',\n",
       "  ['PDB; 4RI6 B; 108-203;',\n",
       "   'PDB; 4RI6 A; 108-203;',\n",
       "   'PDB; 4RI7 B; 108-203;',\n",
       "   'PDB; 4RI7 A; 108-203;']),\n",
       " ('FZLA_CAUVN', ['PDB; 5NR1 A; 114-204;']),\n",
       " ('Q5NHJ6_FRATT',\n",
       "  ['PDB; 5U56 C; 98-187;',\n",
       "   'PDB; 6WEG C; 98-187;',\n",
       "   'PDB; 5U51 C; 98-187;',\n",
       "   'PDB; 5U51 D; 98-187;',\n",
       "   'PDB; 6WEG D; 98-187;',\n",
       "   'PDB; 5U56 D; 98-187;']),\n",
       " ('G9B5E4_CAMDR',\n",
       "  ['PDB; 7OPY C; 103-191;',\n",
       "   'PDB; 7OPY F; 103-191;',\n",
       "   'PDB; 7OPZ D; 103-191;',\n",
       "   'PDB; 7OPY B; 103-191;',\n",
       "   'PDB; 7OPZ A; 103-191;',\n",
       "   'PDB; 7OPZ C; 103-191;',\n",
       "   'PDB; 7OPZ B; 103-191;',\n",
       "   'PDB; 7OPY A; 103-191;']),\n",
       " ('GSTT1_MUSDO', ['PDB; 5ZWP B; 101-188;', 'PDB; 5ZWP A; 101-188;']),\n",
       " ('GST2_YEAST',\n",
       "  ['PDB; 3ERG A; 121-220;',\n",
       "   'PDB; 3ERG B; 121-220;',\n",
       "   'PDB; 3IBH A; 121-220;',\n",
       "   'PDB; 3ERF A; 121-220;']),\n",
       " ('A5E0V2_LODEL', ['PDB; 4EXJ A; 77-204;', 'PDB; 4EXJ B; 77-204;']),\n",
       " ('GST28_SCHMA', ['PDB; 1U3I A; 102-196;']),\n",
       " ('PSOE_ASPFU', ['PDB; 5FHI A; 92-194;', 'PDB; 5F8B A; 92-194;']),\n",
       " ('O61996_BOMMO',\n",
       "  ['PDB; 4E8E D; 95-192;',\n",
       "   'PDB; 4E8E A; 95-192;',\n",
       "   'PDB; 4E8H B; 95-192;',\n",
       "   'PDB; 4E8E B; 95-192;',\n",
       "   'PDB; 4E8H A; 95-192;',\n",
       "   'PDB; 4E8E C; 95-192;',\n",
       "   'PDB; 4E8H D; 95-192;',\n",
       "   'PDB; 4E8H C; 95-192;']),\n",
       " ('A0A7M7GUY7_APIME',\n",
       "  ['PDB; 7RHP A; 129-212;',\n",
       "   'PDB; 8Q8B A; 129-212;',\n",
       "   'PDB; 8Q8A A; 129-212;',\n",
       "   'PDB; 8Q89 A; 129-212;']),\n",
       " ('GST_COCIM',\n",
       "  ['PDB; 3N5O A; 148-212;',\n",
       "   'PDB; 3LG6 D; 148-212;',\n",
       "   'PDB; 3LG6 C; 148-212;',\n",
       "   'PDB; 3N5O B; 148-212;',\n",
       "   'PDB; 3LG6 A; 148-212;',\n",
       "   'PDB; 3LG6 B; 148-212;']),\n",
       " ('GSTA3_HUMAN',\n",
       "  ['PDB; 2VCV B; 99-192;',\n",
       "   'PDB; 2VCV C; 99-192;',\n",
       "   'PDB; 2VCV K; 99-192;',\n",
       "   'PDB; 2VCV J; 99-192;',\n",
       "   'PDB; 2VCV G; 99-192;',\n",
       "   'PDB; 2VCV H; 99-192;',\n",
       "   'PDB; 2VCV E; 99-192;',\n",
       "   'PDB; 2VCV L; 99-192;',\n",
       "   'PDB; 2VCV D; 99-192;',\n",
       "   'PDB; 2VCV P; 99-192;',\n",
       "   'PDB; 2VCV F; 99-192;',\n",
       "   'PDB; 2VCV O; 99-192;',\n",
       "   'PDB; 2VCV A; 99-192;',\n",
       "   'PDB; 2VCV N; 99-192;',\n",
       "   'PDB; 1TDI B; 99-192;',\n",
       "   'PDB; 2VCV I; 99-192;',\n",
       "   'PDB; 2VCV M; 99-192;',\n",
       "   'PDB; 1TDI A; 99-192;']),\n",
       " ('GSTUN_ARATH',\n",
       "  ['PDB; 6EP7 B; 97-193;',\n",
       "   'PDB; 5O84 A; 97-193;',\n",
       "   'PDB; 6EP7 A; 97-193;',\n",
       "   'PDB; 6EP6 A; 97-193;',\n",
       "   'PDB; 6EP6 B; 97-193;']),\n",
       " ('SYMC_HUMAN',\n",
       "  ['PDB; 4BVY A; 85-180;',\n",
       "   'PDB; 4BVX A; 85-180;',\n",
       "   'PDB; 4BL7 A; 85-180;',\n",
       "   'PDB; 5Y6L A; 85-180;']),\n",
       " ('Q9Y727_PICKU', ['PDB; 4O92 A; 84-184;']),\n",
       " ('Q5R0K1_IDILO',\n",
       "  ['PDB; 4DEJ F; 97-191;',\n",
       "   'PDB; 4DEJ D; 97-191;',\n",
       "   'PDB; 4DEJ L; 97-191;',\n",
       "   'PDB; 4DEJ G; 97-191;',\n",
       "   'PDB; 4DEJ C; 97-191;',\n",
       "   'PDB; 4DEJ K; 97-191;',\n",
       "   'PDB; 4DEJ H; 97-191;',\n",
       "   'PDB; 4DEJ I; 97-191;',\n",
       "   'PDB; 4DEJ E; 97-191;',\n",
       "   'PDB; 4DEJ J; 97-191;',\n",
       "   'PDB; 4DEJ B; 97-191;',\n",
       "   'PDB; 4DEJ A; 97-191;']),\n",
       " ('URE2_YEAST',\n",
       "  ['PDB; 1HQO A; 223-345;',\n",
       "   'PDB; 1HQO B; 223-345;',\n",
       "   'PDB; 1K0D D; 223-345;',\n",
       "   'PDB; 1G6Y A; 223-345;',\n",
       "   'PDB; 1G6W A; 223-345;',\n",
       "   'PDB; 1JZR B; 223-345;',\n",
       "   'PDB; 1K0C A; 223-345;',\n",
       "   'PDB; 1K0C C; 223-345;',\n",
       "   'PDB; 1K0D B; 223-345;',\n",
       "   'PDB; 1JZR D; 223-345;',\n",
       "   'PDB; 1K0B C; 223-345;',\n",
       "   'PDB; 1K0D A; 223-345;',\n",
       "   'PDB; 1K0B D; 223-345;',\n",
       "   'PDB; 1K0A B; 223-345;',\n",
       "   'PDB; 1JZR A; 223-345;',\n",
       "   'PDB; 1G6W B; 223-345;',\n",
       "   'PDB; 1G6W D; 223-345;',\n",
       "   'PDB; 1K0C B; 223-345;',\n",
       "   'PDB; 1K0D C; 223-345;',\n",
       "   'PDB; 1G6Y B; 223-345;',\n",
       "   'PDB; 1K0B B; 223-345;',\n",
       "   'PDB; 1G6W C; 223-345;',\n",
       "   'PDB; 1K0A A; 223-345;',\n",
       "   'PDB; 1JZR C; 223-345;',\n",
       "   'PDB; 1K0B A; 223-345;',\n",
       "   'PDB; 1K0C D; 223-345;']),\n",
       " ('Q3IZT6_CERS4',\n",
       "  ['PDB; 3LSZ A; 115-205;',\n",
       "   'PDB; 3LSZ D; 115-205;',\n",
       "   'PDB; 3LSZ B; 115-205;',\n",
       "   'PDB; 3LSZ C; 115-205;']),\n",
       " ('Q7PVS6_ANOGA',\n",
       "  ['PDB; 2IMI B; 98-194;',\n",
       "   'PDB; 2IMK B; 98-194;',\n",
       "   'PDB; 2IMK A; 98-194;',\n",
       "   'PDB; 2IMI A; 98-194;',\n",
       "   'PDB; 2IL3 A; 98-194;',\n",
       "   'PDB; 2IL3 B; 98-194;']),\n",
       " ('Q2G542_NOVAD',\n",
       "  ['PDB; 5UUN A; 172-255;',\n",
       "   'PDB; 5UUO B; 172-255;',\n",
       "   'PDB; 5UUO A; 172-255;',\n",
       "   'PDB; 5UUN B; 172-255;']),\n",
       " ('GSTT2_HUMAN',\n",
       "  ['PDB; 3LJR A; 105-199;',\n",
       "   'PDB; 4MPG B; 105-199;',\n",
       "   'PDB; 1LJR B; 105-199;',\n",
       "   'PDB; 2LJR A; 105-199;',\n",
       "   'PDB; 4MPG A; 105-199;',\n",
       "   'PDB; 3LJR B; 105-199;',\n",
       "   'PDB; 1LJR A; 105-199;',\n",
       "   'PDB; 2LJR B; 105-199;']),\n",
       " ('GSTA2_HUMAN',\n",
       "  ['PDB; 4ACS D; 99-192;',\n",
       "   'PDB; 2VCT B; 99-192;',\n",
       "   'PDB; 2WJU E; 99-192;',\n",
       "   'PDB; 2VCT D; 99-192;',\n",
       "   'PDB; 4ACS C; 99-192;',\n",
       "   'PDB; 2VCT H; 99-192;',\n",
       "   'PDB; 2VCT C; 99-192;',\n",
       "   'PDB; 2WJU C; 99-192;',\n",
       "   'PDB; 2WJU H; 99-192;',\n",
       "   'PDB; 2VCT A; 99-192;',\n",
       "   'PDB; 2WJU F; 99-192;',\n",
       "   'PDB; 2WJU B; 99-192;',\n",
       "   'PDB; 4ACS B; 99-192;',\n",
       "   'PDB; 2VCT F; 99-192;',\n",
       "   'PDB; 2WJU A; 99-192;',\n",
       "   'PDB; 4ACS A; 99-192;',\n",
       "   'PDB; 2VCT G; 99-192;',\n",
       "   'PDB; 2WJU D; 99-192;',\n",
       "   'PDB; 2WJU G; 99-192;',\n",
       "   'PDB; 2VCT E; 99-192;']),\n",
       " ('Q6N1S2_RHOPA',\n",
       "  ['PDB; 3M8N D; 105-194;',\n",
       "   'PDB; 3M8N A; 105-194;',\n",
       "   'PDB; 3M8N B; 126-194;',\n",
       "   'PDB; 3M8N C; 105-194;']),\n",
       " ('GSTA_ECOLI',\n",
       "  ['PDB; 1N2A A; 100-189;',\n",
       "   'PDB; 1A0F B; 100-189;',\n",
       "   'PDB; 1A0F A; 100-189;',\n",
       "   'PDB; 1N2A B; 100-189;']),\n",
       " ('GSTM4_HUMAN',\n",
       "  ['PDB; 4GTU C; 103-191;',\n",
       "   'PDB; 4GTU B; 103-191;',\n",
       "   'PDB; 4GTU D; 103-191;',\n",
       "   'PDB; 4GTU E; 103-191;',\n",
       "   'PDB; 4GTU A; 103-191;',\n",
       "   'PDB; 4GTU G; 103-191;',\n",
       "   'PDB; 4GTU F; 103-191;',\n",
       "   'PDB; 4GTU H; 103-191;']),\n",
       " ('A9CFJ9_AGRFC',\n",
       "  ['PDB; 3LQ7 A; 123-211;',\n",
       "   'PDB; 2YCD A; 123-211;',\n",
       "   'PDB; 3LQ7 B; 123-211;',\n",
       "   'PDB; 3LQ7 C; 123-211;']),\n",
       " ('B4KM86_DROMO', ['PDB; 4HI7 A; 70-196;', 'PDB; 4HI7 B; 70-196;']),\n",
       " ('GSTT1_HUMAN',\n",
       "  ['PDB; 2C3N A; 111-201;',\n",
       "   'PDB; 2C3Q B; 111-201;',\n",
       "   'PDB; 2C3T A; 111-201;',\n",
       "   'PDB; 2C3T D; 111-201;',\n",
       "   'PDB; 2C3N B; 111-201;',\n",
       "   'PDB; 2C3Q D; 111-201;',\n",
       "   'PDB; 2C3Q A; 111-201;',\n",
       "   'PDB; 2C3Q C; 111-201;',\n",
       "   'PDB; 2C3N C; 111-201;',\n",
       "   'PDB; 2C3T C; 111-201;',\n",
       "   'PDB; 2C3T B; 111-201;',\n",
       "   'PDB; 2C3N D; 111-201;']),\n",
       " ('Q60GK5_BOMMO',\n",
       "  ['PDB; 3VK9 C; 102-191;',\n",
       "   'PDB; 3VK9 A; 102-191;',\n",
       "   'PDB; 3VK9 D; 102-191;',\n",
       "   'PDB; 3VK9 B; 102-191;']),\n",
       " ('GSTF9_ARATH',\n",
       "  ['PDB; 6EZY B; 109-202;',\n",
       "   'PDB; 6F01 B; 109-202;',\n",
       "   'PDB; 6F05 I; 109-202;',\n",
       "   'PDB; 6F05 G; 109-202;',\n",
       "   'PDB; 6F05 F; 109-202;',\n",
       "   'PDB; 6EZY A; 109-202;',\n",
       "   'PDB; 6F05 D; 109-202;',\n",
       "   'PDB; 6F05 B; 109-202;',\n",
       "   'PDB; 6F05 J; 109-202;',\n",
       "   'PDB; 6F01 A; 109-202;',\n",
       "   'PDB; 6F05 A; 109-202;',\n",
       "   'PDB; 6F05 E; 109-202;',\n",
       "   'PDB; 6F05 H; 109-202;',\n",
       "   'PDB; 6F05 C; 109-202;']),\n",
       " ('M9ZT87_HORSE',\n",
       "  ['PDB; 6ZJC C; 99-192;',\n",
       "   'PDB; 6ZJC D; 99-192;',\n",
       "   'PDB; 6ZJ9 A; 99-192;',\n",
       "   'PDB; 6ZJC B; 99-192;',\n",
       "   'PDB; 6ZJC A; 99-192;']),\n",
       " ('Q87HB4_VIBPA', ['PDB; 7MIQ B; 102-200;', 'PDB; 7MIQ A; 102-200;']),\n",
       " ('A0A2U2GZL1_YERPE', ['PDB; 1YY7 A; 101-194;', 'PDB; 1YY7 B; 101-194;']),\n",
       " ('GSTM2_HUMAN',\n",
       "  ['PDB; 1HNC A; 103-191;',\n",
       "   'PDB; 1XW5 A; 103-191;',\n",
       "   'PDB; 1HNC B; 103-191;',\n",
       "   'PDB; 3GUR A; 103-191;',\n",
       "   'PDB; 3GTU C; 103-191;',\n",
       "   'PDB; 2AB6 D; 103-191;',\n",
       "   'PDB; 2GTU B; 103-191;',\n",
       "   'PDB; 1XW5 B; 103-191;',\n",
       "   'PDB; 5HWL B; 103-191;',\n",
       "   'PDB; 1YKC B; 103-191;',\n",
       "   'PDB; 1HNC C; 103-191;',\n",
       "   'PDB; 1YKC A; 103-191;',\n",
       "   'PDB; 2AB6 A; 103-191;',\n",
       "   'PDB; 3GUR B; 103-191;',\n",
       "   'PDB; 1HNB B; 103-191;',\n",
       "   'PDB; 2C4J D; 104-192;',\n",
       "   'PDB; 2AB6 B; 103-191;',\n",
       "   'PDB; 2GTU A; 103-191;',\n",
       "   'PDB; 3GUR C; 103-191;',\n",
       "   'PDB; 1HNC D; 103-191;',\n",
       "   'PDB; 2C4J A; 104-192;',\n",
       "   'PDB; 2C4J B; 104-192;',\n",
       "   'PDB; 1HNB A; 103-191;',\n",
       "   'PDB; 3GUR D; 103-191;',\n",
       "   'PDB; 1HNA A; 103-191;',\n",
       "   'PDB; 2AB6 C; 103-191;',\n",
       "   'PDB; 2C4J C; 104-192;',\n",
       "   'PDB; 5HWL A; 103-191;',\n",
       "   'PDB; 3GTU A; 103-191;'])]"
      ]
     },
     "execution_count": 5,
     "metadata": {},
     "output_type": "execute_result"
    }
   ],
   "source": [
    "refs"
   ]
  },
  {
   "cell_type": "code",
   "execution_count": 6,
   "metadata": {},
   "outputs": [],
   "source": [
    "pdb_id = \"1b4p\""
   ]
  },
  {
   "cell_type": "code",
   "execution_count": 7,
   "metadata": {},
   "outputs": [
    {
     "data": {
      "text/plain": [
       "<Structure id=1b4p>"
      ]
     },
     "execution_count": 7,
     "metadata": {},
     "output_type": "execute_result"
    }
   ],
   "source": [
    "# path to pdb file\n",
    "pdb_path = '/nfshomes/vla/cmsc702-protein-lm/data/pf00043/pdb1b4p.ent'\n",
    "\n",
    "\n",
    "parser = PDBParser()\n",
    "structure = parser.get_structure(pdb_id, pdb_path)\n",
    "structure"
   ]
  },
  {
   "cell_type": "code",
   "execution_count": 8,
   "metadata": {},
   "outputs": [
    {
     "data": {
      "text/plain": [
       "'PMILGYWNVRGLTHPIRLLLEYTDSSYEEKRYAMGDAPDYDRSQWLNEKFKLGLDFPNLPYLIDGSRKITQSNAIMRYLARKHHLCGETEEERIRVDVLENQAMDTRLQLAMVCYSPDFERKKPEYLEGLPEKMKLYSEFLGKQPWFAGNKITYVDFLVYDVLDQHRIFEPKCLDAFPNLKDFVARFEGLKKISDYMKSGRFLSKPIFAKMAFWNPK'"
      ]
     },
     "execution_count": 8,
     "metadata": {},
     "output_type": "execute_result"
    }
   ],
   "source": [
    "pdb_sequence = seq_from_structure(structure)\n",
    "pdb_sequence"
   ]
  },
  {
   "cell_type": "code",
   "execution_count": 9,
   "metadata": {},
   "outputs": [
    {
     "data": {
      "text/plain": [
       "217"
      ]
     },
     "execution_count": 9,
     "metadata": {},
     "output_type": "execute_result"
    }
   ],
   "source": [
    "len(pdb_sequence)"
   ]
  },
  {
   "cell_type": "code",
   "execution_count": 10,
   "metadata": {},
   "outputs": [
    {
     "data": {
      "text/plain": [
       "'GSTM2_RAT'"
      ]
     },
     "execution_count": 10,
     "metadata": {},
     "output_type": "execute_result"
    }
   ],
   "source": [
    "pdb_uniprot_info = requests.get('https://www.ebi.ac.uk/pdbe/api/mappings/uniprot/' + pdb_id).json()[pdb_id]['UniProt']\n",
    "key_id = list(pdb_uniprot_info.keys())[0]\n",
    "\n",
    "pdb_name = pdb_uniprot_info[key_id]['name']\n",
    "pdb_name  # Uniprot entry name"
   ]
  },
  {
   "cell_type": "code",
   "execution_count": 11,
   "metadata": {},
   "outputs": [],
   "source": [
    "# find sequence corresponding to PDB in the MSA\n",
    "# MSA record name contains uniprot residue range of sequence that is aligned,\n",
    "# so we only return the record if it contains our query start and end range\n",
    "def find_seq_in_MSA(msa, target_name, start=-1, end=-1):\n",
    "\n",
    "    records = []\n",
    "    for record in msa:\n",
    "\n",
    "        rec_split = record.id.split('/')\n",
    "\n",
    "        rec_name = rec_split[0]\n",
    "        rec_range = rec_split[1].split('-')\n",
    "        rec_start = int(rec_range[0])\n",
    "        rec_end = int(rec_range[1])\n",
    "\n",
    "        if rec_name == target_name:\n",
    "            records.append(record)\n",
    "\n",
    "            \n",
    "    return records"
   ]
  },
  {
   "cell_type": "code",
   "execution_count": 12,
   "metadata": {},
   "outputs": [
    {
     "data": {
      "text/plain": [
       "[SeqRecord(seq=Seq('------------------------------------------------------...---'), id='GSTM2_RAT/104-192', name='GSTM2_RAT', description='GSTM2_RAT/104-192', dbxrefs=['PDB; 1B4P A; 103-191;'])]"
      ]
     },
     "execution_count": 12,
     "metadata": {},
     "output_type": "execute_result"
    }
   ],
   "source": [
    "records = find_seq_in_MSA(msa, pdb_name)\n",
    "records"
   ]
  },
  {
   "cell_type": "code",
   "execution_count": 13,
   "metadata": {},
   "outputs": [
    {
     "data": {
      "text/plain": [
       "SeqRecord(seq=Seq('------------------------------------------------------...---'), id='GSTM2_RAT/104-192', name='GSTM2_RAT', description='GSTM2_RAT/104-192', dbxrefs=['PDB; 1B4P A; 103-191;'])"
      ]
     },
     "execution_count": 13,
     "metadata": {},
     "output_type": "execute_result"
    }
   ],
   "source": [
    "selected_record = records[0]\n",
    "selected_record"
   ]
  },
  {
   "cell_type": "code",
   "execution_count": 15,
   "metadata": {},
   "outputs": [
    {
     "data": {
      "text/plain": [
       "[' 103', '191']"
      ]
     },
     "execution_count": 15,
     "metadata": {},
     "output_type": "execute_result"
    }
   ],
   "source": [
    "seq_range = selected_record.dbxrefs[0].split(';')[2].split('-')\n",
    "seq_range\n"
   ]
  },
  {
   "cell_type": "code",
   "execution_count": 16,
   "metadata": {},
   "outputs": [
    {
     "data": {
      "text/plain": [
       "(102, 191)"
      ]
     },
     "execution_count": 16,
     "metadata": {},
     "output_type": "execute_result"
    }
   ],
   "source": [
    "# SOMETIMEs this mapping is shifted down one WHY\n",
    "seq_start = int(seq_range[0]) - 1\n",
    "seq_end = int(seq_range[1])\n",
    "seq_start,seq_end"
   ]
  },
  {
   "cell_type": "code",
   "execution_count": 22,
   "metadata": {},
   "outputs": [],
   "source": [
    "gapped_str = str(selected_record.seq)\n",
    "ungapped_seq = gapped_str.replace('-', '')\n",
    "# raw sequence has same amount of residues as the uniprot range specified\n",
    "# assert len(ungapped_seq) == uniprot_ref_end - uniprot_ref_start + 1\n",
    "# ungapped_seq"
   ]
  },
  {
   "cell_type": "code",
   "execution_count": 26,
   "metadata": {},
   "outputs": [
    {
     "data": {
      "text/plain": [
       "'AMDTRLQLAMVCYSPDFERKKPEYLEGLPEKMKLYSEFLGKQPWFAGNKITYVDFLVYDVLDQHRIFEPKCLDAFPNLKDFVARFEGLK'"
      ]
     },
     "execution_count": 26,
     "metadata": {},
     "output_type": "execute_result"
    }
   ],
   "source": [
    "ungapped_seq.upper()  "
   ]
  },
  {
   "cell_type": "code",
   "execution_count": 27,
   "metadata": {},
   "outputs": [
    {
     "data": {
      "text/plain": [
       "'AMDTRLQLAMVCYSPDFERKKPEYLEGLPEKMKLYSEFLGKQPWFAGNKITYVDFLVYDVLDQHRIFEPKCLDAFPNLKDFVARFEGLK'"
      ]
     },
     "execution_count": 27,
     "metadata": {},
     "output_type": "execute_result"
    }
   ],
   "source": [
    "pdb_sequence[seq_start:seq_end]"
   ]
  },
  {
   "cell_type": "code",
   "execution_count": 28,
   "metadata": {},
   "outputs": [],
   "source": [
    "# make sure this doesnt fail\n",
    "assert ungapped_seq.upper() == pdb_sequence[seq_start:seq_end]"
   ]
  },
  {
   "cell_type": "code",
   "execution_count": 29,
   "metadata": {},
   "outputs": [
    {
     "data": {
      "text/plain": [
       "115"
      ]
     },
     "execution_count": 29,
     "metadata": {},
     "output_type": "execute_result"
    }
   ],
   "source": [
    "msa_start = len(gapped_str) - len(gapped_str.lstrip('-'))\n",
    "msa_start # inclusive msa col to start at"
   ]
  },
  {
   "cell_type": "code",
   "execution_count": 30,
   "metadata": {},
   "outputs": [
    {
     "data": {
      "text/plain": [
       "532"
      ]
     },
     "execution_count": 30,
     "metadata": {},
     "output_type": "execute_result"
    }
   ],
   "source": [
    "msa_end = len(gapped_str) - (len(gapped_str) - len(gapped_str.rstrip('-')))\n",
    "msa_end # exclusive msa col to end at"
   ]
  },
  {
   "cell_type": "code",
   "execution_count": 31,
   "metadata": {},
   "outputs": [
    {
     "data": {
      "text/plain": [
       "{'pfam_id': 'PF00043',\n",
       " 'pdb_id': '1b4p',\n",
       " 'pdb_name': 'GSTM2_RAT',\n",
       " 'seq_range': (102, 191),\n",
       " 'msa_range': (115, 532),\n",
       " 'uniprot_range': (2, 218)}"
      ]
     },
     "execution_count": 31,
     "metadata": {},
     "output_type": "execute_result"
    }
   ],
   "source": [
    "meta = {}\n",
    "meta['pfam_id'] = 'PF00043'\n",
    "meta['pdb_id'] = pdb_id\n",
    "meta['pdb_name'] = pdb_name\n",
    "meta['seq_range'] = (seq_start, seq_end)   # range of pdb sequence that MSA entry refers to [start,end) python indexing\n",
    "meta['msa_range'] = (msa_start,msa_end)    # range of msa cols to crop msa to to include the MSA entry of interest [start,end) python indexing\n",
    "meta['uniprot_range'] = (2,218)           # Uniprot residue range covered by the entire pdb structure [start,end] (for record purposes), find on https://www.ebi.ac.uk/interpro/structure/PDB/\n",
    "\n",
    "meta\n"
   ]
  },
  {
   "cell_type": "code",
   "execution_count": 32,
   "metadata": {},
   "outputs": [],
   "source": [
    "import json\n",
    "import os\n",
    "\n",
    "output_dir = '../data/pf00043'\n",
    "\n",
    "with open(os.path.join(output_dir, f'meta_{pdb_name}.json'), 'w') as f:\n",
    "    json.dump(meta, f)"
   ]
  },
  {
   "cell_type": "code",
   "execution_count": 33,
   "metadata": {},
   "outputs": [],
   "source": [
    "# Parameters\n",
    "# msa_path = '/nfshomes/vla/cmsc702-protein-lm/PF00011_full' # path to FULL msa stockholm file\n",
    "N = 10000 # number of sequences to select\n",
    "L = msa_start # left msa index\n",
    "R = msa_end # right msa index \n",
    "output_path = f'/nfshomes/vla/cmsc702-protein-lm/data/pf00043/PF00043_{N}_msa.faa' # output path for new fasta file\n",
    "threshold = 0 # minimal gap ratio to accept [0-1]"
   ]
  },
  {
   "cell_type": "code",
   "execution_count": 34,
   "metadata": {},
   "outputs": [
    {
     "data": {
      "text/plain": [
       "10000"
      ]
     },
     "execution_count": 34,
     "metadata": {},
     "output_type": "execute_result"
    }
   ],
   "source": [
    "random.seed(42)\n",
    "\n",
    "if threshold == None:\n",
    "    threshold = 0\n",
    "try:\n",
    "    seen = set(selected_record[L:R].seq)\n",
    "    records = []\n",
    "\n",
    "    def gap_ratio(seq):\n",
    "        return len(seq.replace('-',''))/len(seq)\n",
    "\n",
    "    for rec in SeqIO.parse(msa_path, 'stockholm'): \n",
    "        if rec[L:R].seq not in seen:\n",
    "            if gap_ratio(rec[L:R].seq) >= threshold:\n",
    "                seen.add(rec[L:R].seq)\n",
    "                records.append(rec[L:R])     \n",
    "except:\n",
    "    print('could not parse file -> not in fasta format')\n",
    "\n",
    "\n",
    "\n",
    "random.shuffle(records) \n",
    "records = [selected_record[L:R]] + records\n",
    "\n",
    "SeqIO.write(records[0:N], output_path, \"fasta\")\n",
    "\n"
   ]
  },
  {
   "cell_type": "code",
   "execution_count": 35,
   "metadata": {},
   "outputs": [
    {
     "data": {
      "text/plain": [
       "SeqRecord(seq=Seq('a-MDTRLQLAMVC-Y-S--PDF--------------------------------...-lk'), id='GSTM2_RAT/104-192', name='GSTM2_RAT', description='GSTM2_RAT/104-192', dbxrefs=[])"
      ]
     },
     "execution_count": 35,
     "metadata": {},
     "output_type": "execute_result"
    }
   ],
   "source": [
    "records[0]"
   ]
  },
  {
   "cell_type": "code",
   "execution_count": 36,
   "metadata": {},
   "outputs": [
    {
     "data": {
      "text/plain": [
       "'k'"
      ]
     },
     "execution_count": 36,
     "metadata": {},
     "output_type": "execute_result"
    }
   ],
   "source": [
    "records[0].seq[-1]"
   ]
  },
  {
   "cell_type": "code",
   "execution_count": 37,
   "metadata": {},
   "outputs": [
    {
     "data": {
      "text/plain": [
       "10000"
      ]
     },
     "execution_count": 37,
     "metadata": {},
     "output_type": "execute_result"
    }
   ],
   "source": [
    "SeqIO.write(records[0:N], output_path, \"fasta\")"
   ]
  }
 ],
 "metadata": {
  "kernelspec": {
   "display_name": "base",
   "language": "python",
   "name": "python3"
  },
  "language_info": {
   "codemirror_mode": {
    "name": "ipython",
    "version": 3
   },
   "file_extension": ".py",
   "mimetype": "text/x-python",
   "name": "python",
   "nbconvert_exporter": "python",
   "pygments_lexer": "ipython3",
   "version": "3.10.0"
  }
 },
 "nbformat": 4,
 "nbformat_minor": 2
}
