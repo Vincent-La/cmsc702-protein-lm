{
 "cells": [
  {
   "cell_type": "code",
   "execution_count": 2,
   "metadata": {},
   "outputs": [],
   "source": [
    "from Bio import AlignIO\n",
    "from Bio.Seq import Seq\n",
    "from Bio.PDB import PDBParser\n",
    "from Bio import SeqIO\n",
    "import random\n",
    "\n",
    "import sys\n",
    "sys.path.append('..')\n",
    "from utils.pdb import seq_from_structure\n",
    "import requests\n",
    "import re"
   ]
  },
  {
   "cell_type": "code",
   "execution_count": 3,
   "metadata": {},
   "outputs": [
    {
     "data": {
      "text/plain": [
       "<<class 'Bio.Align.MultipleSeqAlignment'> instance (513304 records of length 733) at 7fd504825d80>"
      ]
     },
     "execution_count": 3,
     "metadata": {},
     "output_type": "execute_result"
    }
   ],
   "source": [
    "# path to FULL msa stockholm file\n",
    "msa_path = '/nfshomes/vla/cmsc702-protein-lm/PF00028_full'\n",
    "msa = AlignIO.read(msa_path, 'stockholm')\n",
    "\n",
    "msa"
   ]
  },
  {
   "cell_type": "code",
   "execution_count": 4,
   "metadata": {},
   "outputs": [
    {
     "data": {
      "text/plain": [
       "211"
      ]
     },
     "execution_count": 4,
     "metadata": {},
     "output_type": "execute_result"
    }
   ],
   "source": [
    "refs = []\n",
    "for rec in msa:\n",
    "    if rec.dbxrefs:\n",
    "        refs.append(rec.dbxrefs)\n",
    "\n",
    "len(refs)"
   ]
  },
  {
   "cell_type": "code",
   "execution_count": 6,
   "metadata": {},
   "outputs": [
    {
     "data": {
      "text/plain": [
       "[['PDB; 6VFU C; 333-423;', 'PDB; 6VFU B; 334-423;', 'PDB; 6VFU A; 333-423;'],\n",
       " ['PDB; 6VFV A; 591-682;'],\n",
       " ['PDB; 6PGW A; 549-639;'],\n",
       " ['PDB; 5ERP B; 341-433;', 'PDB; 5ERP A; 341-433;'],\n",
       " ['PDB; 3K5S A; 112-216;', 'PDB; 3K5S B; 112-216;'],\n",
       " ['PDB; 3K6D A; 5-98;'],\n",
       " ['PDB; 5EQX A; 223-326;'],\n",
       " ['PDB; 5VT8 C; 2596-2689;',\n",
       "  'PDB; 7SUU A; 2710-2791;',\n",
       "  'PDB; 5VT8 D; 2596-2688;',\n",
       "  'PDB; 7SUU B; 2710-2792;',\n",
       "  'PDB; 5VT8 B; 2596-2689;',\n",
       "  'PDB; 5VT8 A; 2596-2689;'],\n",
       " ['PDB; 6CG7 A; 111-206;', 'PDB; 6CG7 B; 111-206;'],\n",
       " ['PDB; 5VVM A; 2384-2473;', 'PDB; 5VVM B; 2384-2473;'],\n",
       " ['PDB; 5EQX A; 223-326;'],\n",
       " ['PDB; 5EQX A; 223-326;'],\n",
       " ['PDB; 6BXU A; 702-789;',\n",
       "  'PDB; 6BXU B; 702-789;',\n",
       "  'PDB; 6BWN A; 702-789;',\n",
       "  'PDB; 5TPK A; 803-896;',\n",
       "  'PDB; 5W1D A; 702-789;'],\n",
       " ['PDB; 8EGW B; 363-466;', 'PDB; 8EGX B; 363-466;'],\n",
       " ['PDB; 5DZY A; 323-413;',\n",
       "  'PDB; 5DZY E; 323-413;',\n",
       "  'PDB; 5DZY C; 323-413;',\n",
       "  'PDB; 5DZY B; 323-413;',\n",
       "  'PDB; 5DZY D; 323-413;',\n",
       "  'PDB; 5DZY F; 323-413;'],\n",
       " ['PDB; 2A4E A; 111-206;'],\n",
       " ['PDB; 5VVM A; 2384-2473;', 'PDB; 5VVM B; 2384-2473;'],\n",
       " ['PDB; 7JGZ A; 327-417;', 'PDB; 7RGF B; 327-417;', 'PDB; 7RGF A; 327-417;'],\n",
       " ['PDB; 5SZQ A; 550-637;'],\n",
       " ['PDB; 5DZW A; 326-417;'],\n",
       " ['PDB; 5ERD B; 347-441;',\n",
       "  'PDB; 5ERD A; 347-441;',\n",
       "  'PDB; 5J5J A; 345-439;',\n",
       "  'PDB; 6QNU D; 229-329;',\n",
       "  'PDB; 6QNT D; 229-329;',\n",
       "  'PDB; 7AGG D; 229-329;',\n",
       "  'PDB; 7AGF D; 229-329;',\n",
       "  'PDB; 6QNU E; 229-329;',\n",
       "  'PDB; 7AGF F; 229-329;',\n",
       "  'PDB; 6SIT D; 229-329;',\n",
       "  'PDB; 7AGF E; 229-329;',\n",
       "  'PDB; 7AGG F; 229-329;'],\n",
       " ['PDB; 3K6F B; 5-98;',\n",
       "  'PDB; 3K6F A; 5-98;',\n",
       "  'PDB; 3K5R B; 112-216;',\n",
       "  'PDB; 3K5R A; 112-216;'],\n",
       " ['PDB; 1ZVN A; 5-97;', 'PDB; 1ZVN B; 5-97;'],\n",
       " ['PDB; 7SUU A; 2710-2791;', 'PDB; 7SUU B; 2710-2792;'],\n",
       " ['PDB; 7AMK B; 159-248;',\n",
       "  'PDB; 7AML D; 159-248;',\n",
       "  'PDB; 7AML A; 159-248;',\n",
       "  'PDB; 7AMK A; 159-248;'],\n",
       " ['PDB; 6VFU B; 334-423;', 'PDB; 6VFU C; 333-423;', 'PDB; 6VFU A; 333-423;'],\n",
       " ['PDB; 6CG7 A; 111-206;', 'PDB; 6CG7 B; 111-206;'],\n",
       " ['PDB; 3Q2V B; 462-467;', 'PDB; 3Q2V A; 444-532;'],\n",
       " ['PDB; 6VFV A; 591-682;'],\n",
       " ['PDB; 4XHZ A; 1023-1114;'],\n",
       " ['PDB; 6BX7 A; 344-440;', 'PDB; 6MGA A; 344-439;', 'PDB; 6VFP A; 344-440;'],\n",
       " ['PDB; 6CGS A; 111-206;', 'PDB; 6CGS B; 111-206;'],\n",
       " ['PDB; 6VFU B; 334-423;', 'PDB; 6VFU C; 333-423;', 'PDB; 6VFU A; 333-423;'],\n",
       " ['PDB; 5DZX A; 323-413;', 'PDB; 5DZX B; 323-412;'],\n",
       " ['PDB; 1L3W A; 337-431;'],\n",
       " ['PDB; 5IRY B; 342-434;', 'PDB; 5IRY A; 342-434;'],\n",
       " ['PDB; 5J5J A; 345-439;',\n",
       "  'PDB; 5ERD A; 347-441;',\n",
       "  'PDB; 5ERD B; 347-441;',\n",
       "  'PDB; 6QNT D; 229-329;',\n",
       "  'PDB; 6QNU D; 229-329;',\n",
       "  'PDB; 7AGG D; 229-329;',\n",
       "  'PDB; 6QNU E; 229-329;',\n",
       "  'PDB; 7AGF D; 229-329;',\n",
       "  'PDB; 7AGF F; 229-329;',\n",
       "  'PDB; 6SIT D; 229-329;',\n",
       "  'PDB; 7AGF E; 229-329;',\n",
       "  'PDB; 7AGG F; 229-329;'],\n",
       " ['PDB; 7STZ C; 444-532;', 'PDB; 7STZ D; 337-430;'],\n",
       " ['PDB; 4NQQ A; 113-212;',\n",
       "  'PDB; 4NQQ C; 113-212;',\n",
       "  'PDB; 4NQQ D; 113-211;',\n",
       "  'PDB; 4NQQ B; 113-212;'],\n",
       " ['PDB; 5SZO B; 321-411;',\n",
       "  'PDB; 5V5X C; 546-631;',\n",
       "  'PDB; 5SZP B; 321-410;',\n",
       "  'PDB; 5V5X B; 546-631;',\n",
       "  'PDB; 5SZP A; 321-410;',\n",
       "  'PDB; 5V5X A; 546-631;',\n",
       "  'PDB; 5V5X D; 546-631;',\n",
       "  'PDB; 5SZO A; 321-411;'],\n",
       " ['PDB; 6VG1 B; 551-641;', 'PDB; 6VG1 A; 551-641;'],\n",
       " ['PDB; 7T3S A; 872-962;', 'PDB; 5TFL A; 760-856;', 'PDB; 5TFL B; 760-856;'],\n",
       " ['PDB; 5K8R A; 322-413;', 'PDB; 6MER A; 322-413;', 'PDB; 6MEQ A; 322-413;'],\n",
       " ['PDB; 5DZW A; 326-417;'],\n",
       " ['PDB; 6E6B B; 545-631;', 'PDB; 6E6B A; 545-631;'],\n",
       " ['PDB; 2WCP A; 115-205;',\n",
       "  'PDB; 2WHV A; 115-205;',\n",
       "  'PDB; 4AXW A; 115-205;',\n",
       "  'PDB; 4AQA A; 115-205;',\n",
       "  'PDB; 6N2E D; 114-198;',\n",
       "  'PDB; 4XXW C; 114-204;',\n",
       "  'PDB; 2WD0 A; 115-205;',\n",
       "  'PDB; 2WD0 C; 115-205;',\n",
       "  'PDB; 4APX A; 115-205;',\n",
       "  'PDB; 6N2E C; 114-198;',\n",
       "  'PDB; 4AQE A; 115-205;',\n",
       "  'PDB; 3MVS A; 114-204;',\n",
       "  'PDB; 4AQ8 A; 115-205;',\n",
       "  'PDB; 4XXW D; 114-204;',\n",
       "  'PDB; 4AQ8 B; 115-205;'],\n",
       " ['PDB; 5SZR C; 548-633;', 'PDB; 5SZR B; 548-633;', 'PDB; 5SZR A; 548-633;'],\n",
       " ['PDB; 6VG1 B; 551-641;', 'PDB; 6VG1 A; 551-641;'],\n",
       " ['PDB; 5SZN A; 429-525;'],\n",
       " ['PDB; 5TFL B; 760-856;', 'PDB; 5TFL A; 760-856;'],\n",
       " ['PDB; 7CYM B; 345-440;', 'PDB; 7CYM A; 345-440;'],\n",
       " ['PDB; 7SZ8 A; 662-755;', 'PDB; 7SZ8 B; 662-755;'],\n",
       " ['PDB; 6VFR B; 340-428;', 'PDB; 6VFR A; 340-428;'],\n",
       " ['PDB; 6CGS A; 111-206;', 'PDB; 6CGS B; 111-206;'],\n",
       " ['PDB; 5CYX A; 226-324;'],\n",
       " ['PDB; 5CO1 C; 331-421;',\n",
       "  'PDB; 5CO1 D; 331-421;',\n",
       "  'PDB; 5IU9 B; 331-421;',\n",
       "  'PDB; 6PGW A; 549-639;',\n",
       "  'PDB; 5CO1 B; 331-421;',\n",
       "  'PDB; 5IU9 A; 331-421;',\n",
       "  'PDB; 5CO1 A; 331-421;'],\n",
       " ['PDB; 5VEB Y; 492-589;', 'PDB; 5VEB X; 494-589;'],\n",
       " ['PDB; 8EGX A; 372-462;', 'PDB; 8EGW A; 260-353;'],\n",
       " ['PDB; 3PPE B; 109-202;', 'PDB; 3PPE A; 109-202;'],\n",
       " ['PDB; 5KJ4 C; 1023-1114;',\n",
       "  'PDB; 6C13 A; 1154-1248;',\n",
       "  'PDB; 5KJ4 A; 1023-1114;',\n",
       "  'PDB; 6C13 B; 1154-1248;',\n",
       "  'PDB; 6EET A; 1128-1222;',\n",
       "  'PDB; 5KJ4 B; 1023-1114;',\n",
       "  'PDB; 5KJ4 D; 1023-1114;'],\n",
       " ['PDB; 4ZMT F; 113-209;',\n",
       "  'PDB; 7CME B; 113-212;',\n",
       "  'PDB; 4ZMT A; 113-212;',\n",
       "  'PDB; 5JYM A; 113-212;',\n",
       "  'PDB; 8HYI A; 113-212;',\n",
       "  'PDB; 4ZMZ A; 113-212;',\n",
       "  'PDB; 4ZMW B; 113-212;',\n",
       "  'PDB; 4ZMT B; 113-212;',\n",
       "  'PDB; 4ZMV A; 113-212;',\n",
       "  'PDB; 4ZMN A; 113-212;',\n",
       "  'PDB; 4ZMT E; 113-212;',\n",
       "  'PDB; 5JYL C; 5-99;',\n",
       "  'PDB; 4ZMQ A; 113-212;',\n",
       "  'PDB; 4OY9 A; 113-212;',\n",
       "  'PDB; 8HYI B; 113-212;',\n",
       "  'PDB; 4ZMV B; 113-212;',\n",
       "  'PDB; 5JYL A; 5-99;',\n",
       "  'PDB; 4ZMP A; 113-212;',\n",
       "  'PDB; 4ZMX A; 113-212;',\n",
       "  'PDB; 6ZTR I; 220-319;',\n",
       "  'PDB; 4ZMQ B; 113-212;',\n",
       "  'PDB; 6ZTR J; 220-319;',\n",
       "  'PDB; 4ZMY A; 113-212;',\n",
       "  'PDB; 4ZML A; 113-212;',\n",
       "  'PDB; 4ZMT D; 113-212;',\n",
       "  'PDB; 4ZMW A; 113-212;',\n",
       "  'PDB; 7CME A; 113-212;',\n",
       "  'PDB; 4ZMO A; 113-212;',\n",
       "  'PDB; 7CMF A; 113-212;',\n",
       "  'PDB; 6ZTB I; 220-319;',\n",
       "  'PDB; 4ZMT C; 113-212;',\n",
       "  'PDB; 5JYM C; 113-212;',\n",
       "  'PDB; 4ZMX B; 113-212;'],\n",
       " ['PDB; 5SZQ A; 550-637;'],\n",
       " ['PDB; 6C14 A; 1154-1248;',\n",
       "  'PDB; 6C14 C; 1154-1248;',\n",
       "  'PDB; 6EET A; 1128-1222;',\n",
       "  'PDB; 6C13 B; 1154-1248;',\n",
       "  'PDB; 6C13 A; 1154-1248;',\n",
       "  'PDB; 6C10 A; 1154-1248;'],\n",
       " ['PDB; 5DZY E; 323-413;',\n",
       "  'PDB; 5DZY A; 323-413;',\n",
       "  'PDB; 5DZY B; 323-413;',\n",
       "  'PDB; 5DZY D; 323-413;',\n",
       "  'PDB; 5DZY F; 323-413;',\n",
       "  'PDB; 5DZY C; 323-413;'],\n",
       " ['PDB; 7SKH B; 1728-1819;', 'PDB; 7SKH A; 1728-1819;'],\n",
       " ['PDB; 4ZPN B; 224-317;',\n",
       "  'PDB; 4ZPO A; 219-311;',\n",
       "  'PDB; 4ZPQ A; 219-312;',\n",
       "  'PDB; 4ZPQ C; 219-311;',\n",
       "  'PDB; 4ZPP A; 219-311;',\n",
       "  'PDB; 4ZPP B; 219-311;',\n",
       "  'PDB; 4ZPQ B; 219-312;',\n",
       "  'PDB; 4ZPN A; 224-317;'],\n",
       " ['PDB; 2A62 A; 220-322;'],\n",
       " ['PDB; 5SZQ A; 550-637;'],\n",
       " ['PDB; 5SZN A; 429-525;'],\n",
       " ['PDB; 7SZ8 A; 662-755;', 'PDB; 7SZ8 B; 662-755;'],\n",
       " ['PDB; 6E6B B; 545-631;', 'PDB; 6E6B A; 545-631;'],\n",
       " ['PDB; 6VG4 A; 572-662;'],\n",
       " ['PDB; 5CYX A; 226-324;'],\n",
       " ['PDB; 5WJ8 A; 1401-1495;'],\n",
       " ['PDB; 7SZ8 B; 662-755;', 'PDB; 7SZ8 A; 662-755;'],\n",
       " ['PDB; 6VFT C; 340-446;',\n",
       "  'PDB; 6VFT B; 340-446;',\n",
       "  'PDB; 6VFT D; 340-446;',\n",
       "  'PDB; 6VFT A; 340-446;'],\n",
       " ['PDB; 5VH2 D; 1295-1386;',\n",
       "  'PDB; 5VH2 C; 1295-1386;',\n",
       "  'PDB; 5VH2 A; 1295-1386;',\n",
       "  'PDB; 5VH2 B; 1295-1386;'],\n",
       " ['PDB; 4ZPL A; 219-310;'],\n",
       " ['PDB; 4NUM A; 114-214;',\n",
       "  'PDB; 4NUP B; 114-214;',\n",
       "  'PDB; 4NUQ A; 114-214;',\n",
       "  'PDB; 4NUP A; 114-214;',\n",
       "  'PDB; 4NUM C; 114-214;',\n",
       "  'PDB; 4NUP C; 114-214;',\n",
       "  'PDB; 1NCJ A; 114-214;',\n",
       "  'PDB; 4NUM B; 114-214;',\n",
       "  'PDB; 4NUM D; 114-214;',\n",
       "  'PDB; 2QVI A; 114-214;',\n",
       "  'PDB; 3Q2W A; 449-542;'],\n",
       " ['PDB; 5UZ8 A; 2491-2579;'],\n",
       " ['PDB; 6BXZ C; 1128-1222;', 'PDB; 6BXZ A; 1128-1222;'],\n",
       " ['PDB; 5SZR B; 548-633;', 'PDB; 5SZR A; 548-633;', 'PDB; 5SZR C; 548-633;'],\n",
       " ['PDB; 5CO1 B; 331-421;',\n",
       "  'PDB; 5IU9 A; 331-421;',\n",
       "  'PDB; 5CO1 A; 331-421;',\n",
       "  'PDB; 6PGW A; 549-639;',\n",
       "  'PDB; 5IU9 B; 331-421;',\n",
       "  'PDB; 5CO1 C; 331-421;',\n",
       "  'PDB; 5CO1 D; 331-421;'],\n",
       " ['PDB; 7SKH B; 1728-1819;',\n",
       "  'PDB; 7SKH A; 1728-1819;',\n",
       "  'PDB; 5WJM A; 1833-1917;'],\n",
       " ['PDB; 3K5R A; 112-216;', 'PDB; 3K5R B; 112-216;'],\n",
       " ['PDB; 6CGU B; 111-206;',\n",
       "  'PDB; 6CGU A; 111-206;',\n",
       "  'PDB; 3LND B; 111-206;',\n",
       "  'PDB; 6CGB A; 111-206;',\n",
       "  'PDB; 3LND C; 111-206;',\n",
       "  'PDB; 3LND A; 111-206;',\n",
       "  'PDB; 3LND D; 111-206;',\n",
       "  'PDB; 6CGU D; 111-206;',\n",
       "  'PDB; 6CGU C; 111-206;'],\n",
       " ['PDB; 7STZ D; 337-430;', 'PDB; 7STZ C; 444-532;'],\n",
       " ['PDB; 5ERP B; 341-433;', 'PDB; 5ERP A; 341-433;'],\n",
       " ['PDB; 6BX7 A; 344-440;',\n",
       "  'PDB; 6MGA A; 344-439;',\n",
       "  'PDB; 6VFP A; 344-440;',\n",
       "  'PDB; 6PIM A; 350-438;'],\n",
       " ['PDB; 6VG1 B; 551-641;', 'PDB; 6VG1 A; 551-641;'],\n",
       " ['PDB; 8EGX A; 372-462;', 'PDB; 8EGW A; 260-353;'],\n",
       " ['PDB; 4ZI8 B; 219-313;', 'PDB; 4ZI8 A; 219-313;'],\n",
       " ['PDB; 2YST A; 19-112;'],\n",
       " ['PDB; 3Q2V B; 462-467;', 'PDB; 3Q2V A; 444-532;'],\n",
       " ['PDB; 3PPE B; 109-202;', 'PDB; 3PPE A; 109-202;'],\n",
       " ['PDB; 5SZQ A; 550-637;'],\n",
       " ['PDB; 6EB5 B; 131-235;',\n",
       "  'PDB; 6N2E A; 131-235;',\n",
       "  'PDB; 6N2E B; 131-235;',\n",
       "  'PDB; 6MFO A; 131-235;',\n",
       "  'PDB; 6EB5 A; 131-235;',\n",
       "  'PDB; 5ULY C; 131-235;',\n",
       "  'PDB; 5ULY D; 131-235;',\n",
       "  'PDB; 5ULY A; 131-235;',\n",
       "  'PDB; 5ULY B; 131-235;'],\n",
       " ['PDB; 3LND D; 111-206;',\n",
       "  'PDB; 3LND C; 111-206;',\n",
       "  'PDB; 3LND A; 111-206;',\n",
       "  'PDB; 6CGU D; 111-206;',\n",
       "  'PDB; 6CGU C; 111-206;',\n",
       "  'PDB; 6CGU A; 111-206;',\n",
       "  'PDB; 6CGU B; 111-206;',\n",
       "  'PDB; 3LND B; 111-206;'],\n",
       " ['PDB; 5IRY B; 342-434;', 'PDB; 5IRY A; 342-434;'],\n",
       " ['PDB; 5T4M B; 493-585;',\n",
       "  'PDB; 5T4N B; 493-585;',\n",
       "  'PDB; 6E8F C; 510-589;',\n",
       "  'PDB; 5T4M A; 493-585;',\n",
       "  'PDB; 5T4N A; 493-585;',\n",
       "  'PDB; 6E8F B; 500-592;',\n",
       "  'PDB; 6E8F A; 500-592;'],\n",
       " ['PDB; 7SZ8 B; 662-755;', 'PDB; 7SZ8 A; 662-755;'],\n",
       " ['PDB; 5DZX A; 323-413;', 'PDB; 5DZX B; 323-412;'],\n",
       " ['PDB; 5J5J A; 5-99;'],\n",
       " ['PDB; 7N86 D; 109-205;',\n",
       "  'PDB; 7N86 C; 109-205;',\n",
       "  'PDB; 7N86 A; 109-205;',\n",
       "  'PDB; 7N86 B; 109-205;',\n",
       "  'PDB; 5CZR D; 109-205;',\n",
       "  'PDB; 5CZR C; 109-205;',\n",
       "  'PDB; 5CZR B; 109-205;',\n",
       "  'PDB; 5CZR A; 109-205;'],\n",
       " ['PDB; 5ERP A; 341-433;', 'PDB; 5ERP B; 341-433;'],\n",
       " ['PDB; 5SZR C; 548-633;', 'PDB; 5SZR B; 548-633;', 'PDB; 5SZR A; 548-633;'],\n",
       " ['PDB; 5DZV A; 431-527;', 'PDB; 5DZV B; 431-527;'],\n",
       " ['PDB; 6CG6 A; 111-206;'],\n",
       " ['PDB; 5V5X C; 546-631;',\n",
       "  'PDB; 5SZP B; 321-410;',\n",
       "  'PDB; 5SZO B; 321-411;',\n",
       "  'PDB; 5SZO A; 321-411;',\n",
       "  'PDB; 5SZP A; 321-410;',\n",
       "  'PDB; 5V5X A; 546-631;',\n",
       "  'PDB; 5V5X D; 546-631;',\n",
       "  'PDB; 5V5X B; 546-631;'],\n",
       " ['PDB; 5CYX A; 226-324;'],\n",
       " ['PDB; 7JGZ A; 327-417;', 'PDB; 7RGF B; 327-417;', 'PDB; 7RGF A; 327-417;'],\n",
       " ['PDB; 5SZL A; 325-414;',\n",
       "  'PDB; 5SZL D; 325-415;',\n",
       "  'PDB; 5SZL B; 325-413;',\n",
       "  'PDB; 4ZI9 A; 219-310;',\n",
       "  'PDB; 4ZI9 B; 219-310;',\n",
       "  'PDB; 5SZL C; 325-415;'],\n",
       " ['PDB; 4ZPQ C; 219-311;',\n",
       "  'PDB; 4ZPQ A; 219-312;',\n",
       "  'PDB; 4ZPP B; 219-311;',\n",
       "  'PDB; 4ZPP A; 219-311;',\n",
       "  'PDB; 4ZPQ B; 219-312;',\n",
       "  'PDB; 4ZPN A; 224-317;',\n",
       "  'PDB; 4ZPN B; 224-317;',\n",
       "  'PDB; 4ZPO A; 219-311;'],\n",
       " ['PDB; 5DZV A; 431-527;', 'PDB; 5DZV B; 431-527;'],\n",
       " ['PDB; 6E6B A; 545-631;', 'PDB; 6E6B B; 545-631;'],\n",
       " ['PDB; 5I8D A; 2156-2261;',\n",
       "  'PDB; 5ULU A; 2156-2261;',\n",
       "  'PDB; 5TFK A; 2156-2261;',\n",
       "  'PDB; 5UN2 A; 2156-2261;'],\n",
       " ['PDB; 6BXZ C; 1128-1222;', 'PDB; 6BXZ A; 1128-1222;'],\n",
       " ['PDB; 6VFR A; 340-428;', 'PDB; 6VFR B; 340-428;'],\n",
       " ['PDB; 6VFT A; 340-446;',\n",
       "  'PDB; 6VFT C; 340-446;',\n",
       "  'PDB; 6VFT B; 340-446;',\n",
       "  'PDB; 6VFT D; 340-446;'],\n",
       " ['PDB; 7CYM A; 345-440;', 'PDB; 7CYM B; 345-440;'],\n",
       " ['PDB; 5DZV A; 431-527;', 'PDB; 5DZV B; 431-527;'],\n",
       " ['PDB; 5TFM A; 760-856;'],\n",
       " ['PDB; 6VG4 A; 572-662;'],\n",
       " ['PDB; 7T3S A; 872-962;'],\n",
       " ['PDB; 6Q2R E; 172-261;',\n",
       "  'PDB; 6Q2N E; 172-261;',\n",
       "  'PDB; 6Q2O E; 172-261;',\n",
       "  'PDB; 6Q2R F; 172-261;',\n",
       "  'PDB; 4UX8 A; 172-261;',\n",
       "  'PDB; 6Q2J F; 172-261;',\n",
       "  'PDB; 6Q2O F; 172-261;',\n",
       "  'PDB; 6GL7 E; 172-261;',\n",
       "  'PDB; 6GL7 F; 172-261;',\n",
       "  'PDB; 6Q2R Z; 172-261;',\n",
       "  'PDB; 6Q2R Y; 172-261;',\n",
       "  'PDB; 4UX8 B; 172-261;',\n",
       "  'PDB; 2X2U A; 172-261;',\n",
       "  'PDB; 6Q2J E; 172-261;',\n",
       "  'PDB; 6Q2N F; 172-261;',\n",
       "  'PDB; 6Q2S E; 172-261;',\n",
       "  'PDB; 6Q2S F; 172-261;'],\n",
       " ['PDB; 4ZI8 B; 219-313;', 'PDB; 4ZI8 A; 219-313;'],\n",
       " ['PDB; 8H62 B; 113-212;',\n",
       "  'PDB; 2O72 A; 113-212;',\n",
       "  'PDB; 7STZ D; 337-430;',\n",
       "  'PDB; 4ZTE A; 113-212;',\n",
       "  'PDB; 4ZTE B; 113-212;',\n",
       "  'PDB; 7STZ C; 444-532;',\n",
       "  'PDB; 6CXY C; 113-212;',\n",
       "  'PDB; 4ZT1 A; 113-212;',\n",
       "  'PDB; 4ZT1 B; 113-212;',\n",
       "  'PDB; 6VEL C; 214-313;'],\n",
       " ['PDB; 2EE0 A; 19-111;'],\n",
       " ['PDB; 6VG1 A; 551-641;', 'PDB; 6VG1 B; 551-641;'],\n",
       " ['PDB; 6VG1 B; 551-641;', 'PDB; 6VG1 A; 551-641;'],\n",
       " ['PDB; 1L3W A; 337-431;'],\n",
       " ['PDB; 4ZPS A; 218-309;', 'PDB; 5SZM A; 326-414;'],\n",
       " ['PDB; 5SZM A; 326-414;', 'PDB; 4ZPS A; 218-309;'],\n",
       " ['PDB; 5UZ8 A; 2491-2579;',\n",
       "  'PDB; 5VT8 D; 2596-2688;',\n",
       "  'PDB; 5VT8 A; 2596-2689;',\n",
       "  'PDB; 5VT8 B; 2596-2689;',\n",
       "  'PDB; 5VT8 C; 2596-2689;'],\n",
       " ['PDB; 3UBG A; 656-747;',\n",
       "  'PDB; 3UBG B; 656-747;',\n",
       "  'PDB; 3UBF A; 656-747;',\n",
       "  'PDB; 3UBH A; 762-847;'],\n",
       " ['PDB; 5IU9 B; 331-421;', 'PDB; 5IU9 A; 331-421;'],\n",
       " ['PDB; 5TPK A; 803-896;',\n",
       "  'PDB; 6C13 B; 1154-1248;',\n",
       "  'PDB; 6C13 A; 1154-1248;'],\n",
       " ['PDB; 4AQA B; 131-233;',\n",
       "  'PDB; 4AQ8 D; 131-233;',\n",
       "  'PDB; 4AXW B; 131-233;',\n",
       "  'PDB; 4AQE B; 131-233;',\n",
       "  'PDB; 4XXW A; 131-233;',\n",
       "  'PDB; 4XXW B; 131-233;',\n",
       "  'PDB; 4AQ8 C; 131-233;',\n",
       "  'PDB; 4APX B; 131-233;',\n",
       "  'PDB; 6CV7 A; 131-235;',\n",
       "  'PDB; 6N22 A; 131-235;'],\n",
       " ['PDB; 2V37 A; 5-98;'],\n",
       " ['PDB; 3LNE A; 113-212;',\n",
       "  'PDB; 3LNF B; 113-212;',\n",
       "  'PDB; 3LNI A; 113-212;',\n",
       "  'PDB; 1FF5 B; 113-212;',\n",
       "  'PDB; 3LNI B; 113-212;',\n",
       "  'PDB; 3LNH B; 113-212;',\n",
       "  'PDB; 3Q2L B; 113-212;',\n",
       "  'PDB; 3LNG A; 113-212;',\n",
       "  'PDB; 4QD2 J; 113-212;',\n",
       "  'PDB; 3Q2N B; 113-212;',\n",
       "  'PDB; 1EDH B; 113-212;',\n",
       "  'PDB; 3QRB B; 113-212;',\n",
       "  'PDB; 3LNF A; 113-212;',\n",
       "  'PDB; 3LNG B; 113-212;',\n",
       "  'PDB; 3Q2V B; 462-467;',\n",
       "  'PDB; 3Q2L A; 113-212;',\n",
       "  'PDB; 1EDH A; 113-212;',\n",
       "  'PDB; 3Q2V A; 444-532;',\n",
       "  'PDB; 2QVF B; 113-212;',\n",
       "  'PDB; 3QRB A; 113-212;',\n",
       "  'PDB; 3LNH A; 113-212;',\n",
       "  'PDB; 4QD2 E; 113-212;',\n",
       "  'PDB; 1Q1P A; 113-212;',\n",
       "  'PDB; 1FF5 A; 113-212;',\n",
       "  'PDB; 3Q2N A; 113-212;'],\n",
       " ['PDB; 4ZPM B; 220-314;', 'PDB; 4ZPM A; 220-314;'],\n",
       " ['PDB; 4NQQ A; 113-212;',\n",
       "  'PDB; 4NQQ B; 113-212;',\n",
       "  'PDB; 4NQQ D; 113-211;',\n",
       "  'PDB; 4NQQ C; 113-212;'],\n",
       " ['PDB; 5SZL C; 325-415;',\n",
       "  'PDB; 5SZL B; 325-413;',\n",
       "  'PDB; 5SZL A; 325-414;',\n",
       "  'PDB; 5SZL D; 325-415;'],\n",
       " ['PDB; 6VFT A; 340-446;',\n",
       "  'PDB; 6VFT D; 340-446;',\n",
       "  'PDB; 6VFT B; 340-446;',\n",
       "  'PDB; 6VFT C; 340-446;'],\n",
       " ['PDB; 7STZ C; 444-532;'],\n",
       " ['PDB; 4ZPL A; 219-310;'],\n",
       " ['PDB; 6PIM A; 350-438;',\n",
       "  'PDB; 6MGA A; 344-439;',\n",
       "  'PDB; 6VFP A; 344-440;',\n",
       "  'PDB; 6BX7 A; 344-440;'],\n",
       " ['PDB; 4NUM D; 114-214;',\n",
       "  'PDB; 2QVI A; 114-214;',\n",
       "  'PDB; 1NCH B; 5-99;',\n",
       "  'PDB; 3Q2W A; 449-542;',\n",
       "  'PDB; 1NCG A; 5-99;',\n",
       "  'PDB; 1NCI A; 5-99;',\n",
       "  'PDB; 1NCH A; 5-99;',\n",
       "  'PDB; 4NUM B; 114-214;',\n",
       "  'PDB; 1NCJ A; 114-214;',\n",
       "  'PDB; 1NCI B; 5-99;',\n",
       "  'PDB; 4NUP C; 114-214;',\n",
       "  'PDB; 4NUQ A; 114-214;',\n",
       "  'PDB; 4NUM C; 114-214;',\n",
       "  'PDB; 4NUP A; 114-214;',\n",
       "  'PDB; 4NUM A; 114-214;',\n",
       "  'PDB; 4NUP B; 114-214;'],\n",
       " ['PDB; 5UN2 A; 2156-2261;',\n",
       "  'PDB; 5TFK A; 2156-2261;',\n",
       "  'PDB; 5I8D A; 2156-2261;',\n",
       "  'PDB; 5ULU A; 2156-2261;'],\n",
       " ['PDB; 5SZP A; 321-410;',\n",
       "  'PDB; 5SZO A; 321-411;',\n",
       "  'PDB; 5SZP B; 321-410;',\n",
       "  'PDB; 5SZO B; 321-411;'],\n",
       " ['PDB; 5K8R A; 322-413;', 'PDB; 6MER A; 322-413;', 'PDB; 6MEQ A; 322-413;'],\n",
       " ['PDB; 5W1D A; 702-789;', 'PDB; 6BXU B; 702-789;', 'PDB; 6BXU A; 702-789;'],\n",
       " ['PDB; 8EGX A; 372-462;'],\n",
       " ['PDB; 6VG4 A; 572-662;',\n",
       "  'PDB; 6VFQ A; 347-437;',\n",
       "  'PDB; 6VFW E; 347-437;',\n",
       "  'PDB; 6VFW A; 347-437;',\n",
       "  'PDB; 6VFW D; 347-437;',\n",
       "  'PDB; 6VFW B; 347-437;',\n",
       "  'PDB; 6VFW C; 347-437;'],\n",
       " ['PDB; 5IRY B; 342-434;', 'PDB; 5IRY A; 342-434;'],\n",
       " ['PDB; 4XHZ A; 1023-1114;'],\n",
       " ['PDB; 1ZXK B; 5-97;', 'PDB; 1ZXK A; 5-97;', 'PDB; 2A62 A; 220-322;'],\n",
       " ['PDB; 5SZM A; 326-414;'],\n",
       " ['PDB; 5DZX B; 323-412;', 'PDB; 5DZX A; 323-413;'],\n",
       " ['PDB; 5DZV B; 431-527;', 'PDB; 5DZV A; 431-527;'],\n",
       " ['PDB; 5VH2 A; 1295-1386;',\n",
       "  'PDB; 5VH2 C; 1295-1386;',\n",
       "  'PDB; 5VH2 D; 1295-1386;',\n",
       "  'PDB; 5VH2 B; 1295-1386;'],\n",
       " ['PDB; 6PGW A; 549-639;'],\n",
       " ['PDB; 4OY9 A; 113-212;',\n",
       "  'PDB; 8HYI B; 113-212;',\n",
       "  'PDB; 4ZMV B; 113-212;',\n",
       "  'PDB; 4ZMT E; 113-212;',\n",
       "  'PDB; 4ZMQ A; 113-212;',\n",
       "  'PDB; 4ZMT B; 113-212;',\n",
       "  'PDB; 4ZMV A; 113-212;',\n",
       "  'PDB; 8HYI A; 113-212;',\n",
       "  'PDB; 4ZMZ A; 113-212;',\n",
       "  'PDB; 4ZMW B; 113-212;',\n",
       "  'PDB; 4ZMN A; 113-212;',\n",
       "  'PDB; 7CME B; 113-212;',\n",
       "  'PDB; 4ZMT F; 113-209;',\n",
       "  'PDB; 5JYM A; 113-212;',\n",
       "  'PDB; 4ZMT A; 113-212;',\n",
       "  'PDB; 5JYM C; 113-212;',\n",
       "  'PDB; 4ZMT C; 113-212;',\n",
       "  'PDB; 4ZMX B; 113-212;',\n",
       "  'PDB; 7CME A; 113-212;',\n",
       "  'PDB; 4ZMW A; 113-212;',\n",
       "  'PDB; 6ZTB I; 220-319;',\n",
       "  'PDB; 7CMF A; 113-212;',\n",
       "  'PDB; 4ZMO A; 113-212;',\n",
       "  'PDB; 4ZMQ B; 113-212;',\n",
       "  'PDB; 4ZML A; 113-212;',\n",
       "  'PDB; 4ZMT D; 113-212;',\n",
       "  'PDB; 4ZMY A; 113-212;',\n",
       "  'PDB; 6ZTR J; 220-319;',\n",
       "  'PDB; 4ZMX A; 113-212;',\n",
       "  'PDB; 6ZTR I; 220-319;',\n",
       "  'PDB; 4ZMP A; 113-212;'],\n",
       " ['PDB; 7T80 B; 1833-1917;',\n",
       "  'PDB; 5WJM A; 1833-1917;',\n",
       "  'PDB; 7T80 A; 1833-1917;'],\n",
       " ['PDB; 5VVM A; 2384-2473;', 'PDB; 5VVM B; 2384-2473;'],\n",
       " ['PDB; 2A62 A; 220-322;'],\n",
       " ['PDB; 5V5X A; 546-631;',\n",
       "  'PDB; 5V5X D; 546-631;',\n",
       "  'PDB; 5V5X B; 546-631;',\n",
       "  'PDB; 5V5X C; 546-631;'],\n",
       " ['PDB; 3Q2W A; 449-542;'],\n",
       " ['PDB; 5SZN A; 429-525;'],\n",
       " ['PDB; 3K5S B; 112-216;', 'PDB; 3K5S A; 112-216;', 'PDB; 3K6I A; 5-98;'],\n",
       " ['PDB; 3UBH A; 762-847;'],\n",
       " ['PDB; 5TFM A; 760-856;'],\n",
       " ['PDB; 3Q2W A; 449-542;'],\n",
       " ['PDB; 5IRY A; 342-434;', 'PDB; 5IRY B; 342-434;'],\n",
       " ['PDB; 3Q2W A; 449-542;'],\n",
       " ['PDB; 8E51 C; 135-239;'],\n",
       " ['PDB; 3Q2L B; 113-212;',\n",
       "  'PDB; 4QD2 J; 113-212;',\n",
       "  'PDB; 3LNG A; 113-212;',\n",
       "  'PDB; 3Q2N B; 113-212;',\n",
       "  'PDB; 3LNE A; 113-212;',\n",
       "  'PDB; 3LNF B; 113-212;',\n",
       "  'PDB; 3LNI A; 113-212;',\n",
       "  'PDB; 3LNH B; 113-212;',\n",
       "  'PDB; 1FF5 B; 113-212;',\n",
       "  'PDB; 3LNI B; 113-212;',\n",
       "  'PDB; 3Q2V A; 444-532;',\n",
       "  'PDB; 4QD2 E; 113-212;',\n",
       "  'PDB; 1Q1P A; 113-212;',\n",
       "  'PDB; 1FF5 A; 113-212;',\n",
       "  'PDB; 1SUH A; 5-99;',\n",
       "  'PDB; 2QVF B; 113-212;',\n",
       "  'PDB; 3QRB A; 113-212;',\n",
       "  'PDB; 3LNH A; 113-212;',\n",
       "  'PDB; 2OMW B; 5-99;',\n",
       "  'PDB; 3Q2N A; 113-212;',\n",
       "  'PDB; 3QRB B; 113-212;',\n",
       "  'PDB; 1EDH B; 113-212;',\n",
       "  'PDB; 3LNF A; 113-212;',\n",
       "  'PDB; 3LNG B; 113-212;',\n",
       "  'PDB; 3Q2L A; 113-212;',\n",
       "  'PDB; 1EDH A; 113-212;',\n",
       "  'PDB; 3Q2V B; 462-467;'],\n",
       " ['PDB; 8EGX B; 363-466;', 'PDB; 8EGW B; 363-466;'],\n",
       " ['PDB; 6CGB A; 5-97;',\n",
       "  'PDB; 2A4C A; 5-97;',\n",
       "  'PDB; 2A4E A; 111-206;',\n",
       "  'PDB; 2A4C B; 5-97;'],\n",
       " ['PDB; 5WJ8 A; 1401-1495;'],\n",
       " ['PDB; 4ZT1 B; 113-212;',\n",
       "  'PDB; 4ZT1 A; 113-212;',\n",
       "  'PDB; 3FF8 A; 5-99;',\n",
       "  'PDB; 6VEL C; 214-313;',\n",
       "  'PDB; 2OMU B; 5-99;',\n",
       "  'PDB; 7STZ C; 444-532;',\n",
       "  'PDB; 2OMT B; 5-99;',\n",
       "  'PDB; 2OMY B; 5-99;',\n",
       "  'PDB; 6CXY C; 113-212;',\n",
       "  'PDB; 1O6S B; 5-99;',\n",
       "  'PDB; 3FF7 A; 5-99;',\n",
       "  'PDB; 3FF8 B; 5-99;',\n",
       "  'PDB; 2OMZ B; 5-99;',\n",
       "  'PDB; 2OMV B; 5-99;',\n",
       "  'PDB; 3FF7 B; 5-99;',\n",
       "  'PDB; 2O72 A; 113-212;',\n",
       "  'PDB; 2OMX B; 5-99;',\n",
       "  'PDB; 8H62 B; 113-212;',\n",
       "  'PDB; 4ZTE B; 113-212;',\n",
       "  'PDB; 7STZ D; 337-430;',\n",
       "  'PDB; 4ZTE A; 113-212;'],\n",
       " ['PDB; 4XHZ A; 1023-1114;'],\n",
       " ['PDB; 5KJ4 D; 1023-1114;',\n",
       "  'PDB; 5KJ4 B; 1023-1114;',\n",
       "  'PDB; 6EET A; 1128-1222;',\n",
       "  'PDB; 6C13 B; 1154-1248;',\n",
       "  'PDB; 6C13 A; 1154-1248;',\n",
       "  'PDB; 5KJ4 C; 1023-1114;',\n",
       "  'PDB; 5KJ4 A; 1023-1114;'],\n",
       " ['PDB; 4ZPM A; 220-314;', 'PDB; 4ZPM B; 220-314;'],\n",
       " ['PDB; 3UBH A; 762-847;',\n",
       "  'PDB; 3UBF A; 656-747;',\n",
       "  'PDB; 3UBG B; 656-747;',\n",
       "  'PDB; 3UBG A; 656-747;'],\n",
       " ['PDB; 8EGW A; 260-353;', 'PDB; 8EGX A; 372-462;'],\n",
       " ['PDB; 6E6B A; 545-631;', 'PDB; 6E6B B; 545-631;'],\n",
       " ['PDB; 7N4P A; 112-202;'],\n",
       " ['PDB; 6ULM A; 109-213;',\n",
       "  'PDB; 7CYM B; 345-440;',\n",
       "  'PDB; 7EV1 B; 131-235;',\n",
       "  'PDB; 7CYM A; 345-440;',\n",
       "  'PDB; 7EV1 A; 131-235;',\n",
       "  'PDB; 6ULM B; 109-213;'],\n",
       " ['PDB; 5SZN A; 429-525;'],\n",
       " ['PDB; 3Q2V A; 444-532;', 'PDB; 3Q2V B; 462-467;'],\n",
       " ['PDB; 5TFM A; 760-856;'],\n",
       " ['PDB; 1L3W A; 337-431;'],\n",
       " ['PDB; 5V5X C; 546-631;',\n",
       "  'PDB; 5V5X B; 546-631;',\n",
       "  'PDB; 5V5X A; 546-631;',\n",
       "  'PDB; 5V5X D; 546-631;'],\n",
       " ['PDB; 7N4P A; 112-202;'],\n",
       " ['PDB; 7RGF A; 327-417;', 'PDB; 7RGF B; 327-417;', 'PDB; 7JGZ A; 327-417;'],\n",
       " ['PDB; 6BXU A; 702-789;',\n",
       "  'PDB; 6BXU B; 702-789;',\n",
       "  'PDB; 6BWN A; 702-789;',\n",
       "  'PDB; 5W1D A; 702-789;'],\n",
       " ['PDB; 5SZR A; 548-633;', 'PDB; 5SZR B; 548-633;', 'PDB; 5SZR C; 548-633;'],\n",
       " ['PDB; 5DZW A; 326-417;'],\n",
       " ['PDB; 6CG6 A; 111-206;'],\n",
       " ['PDB; 6VFW D; 347-437;',\n",
       "  'PDB; 6VFW B; 347-437;',\n",
       "  'PDB; 6VFW C; 347-437;',\n",
       "  'PDB; 6VG4 A; 572-662;',\n",
       "  'PDB; 6VFQ A; 347-437;',\n",
       "  'PDB; 6VFW E; 347-437;',\n",
       "  'PDB; 6VFW A; 347-437;'],\n",
       " ['PDB; 6VFR A; 340-428;', 'PDB; 6VFR B; 340-428;'],\n",
       " ['PDB; 1L3W A; 337-431;'],\n",
       " ['PDB; 5UZ8 A; 2491-2579;'],\n",
       " ['PDB; 8EGW B; 363-466;', 'PDB; 8EGX B; 363-466;'],\n",
       " ['PDB; 5ERD A; 347-441;', 'PDB; 5ERD B; 347-441;', 'PDB; 5J5J A; 345-439;'],\n",
       " ['PDB; 5K8R A; 322-413;', 'PDB; 6MEQ A; 322-413;', 'PDB; 6MER A; 322-413;'],\n",
       " ['PDB; 6E6B A; 545-631;', 'PDB; 6E6B B; 545-631;'],\n",
       " ['PDB; 5CZR B; 109-205;',\n",
       "  'PDB; 5CZR A; 109-205;',\n",
       "  'PDB; 5CZR C; 109-205;',\n",
       "  'PDB; 7N86 A; 109-205;',\n",
       "  'PDB; 7N86 D; 109-205;',\n",
       "  'PDB; 7N86 C; 109-205;',\n",
       "  'PDB; 5CZR D; 109-205;',\n",
       "  'PDB; 7N86 B; 109-205;'],\n",
       " ['PDB; 2WHV A; 115-205;',\n",
       "  'PDB; 2WCP A; 115-205;',\n",
       "  'PDB; 4AXW A; 115-205;',\n",
       "  'PDB; 4AQA A; 115-205;',\n",
       "  'PDB; 6N2E D; 114-198;',\n",
       "  'PDB; 2WBX A; 17-100;',\n",
       "  'PDB; 4XXW C; 114-204;',\n",
       "  'PDB; 4APX A; 115-205;',\n",
       "  'PDB; 2WD0 A; 115-205;',\n",
       "  'PDB; 2WD0 C; 115-205;',\n",
       "  'PDB; 6N2E C; 114-198;',\n",
       "  'PDB; 4AQE A; 115-205;',\n",
       "  'PDB; 3MVS A; 114-204;',\n",
       "  'PDB; 4AQ8 A; 115-205;',\n",
       "  'PDB; 4AQ8 B; 115-205;',\n",
       "  'PDB; 4XXW D; 114-204;'],\n",
       " ['PDB; 5DZY E; 323-413;',\n",
       "  'PDB; 5DZY A; 323-413;',\n",
       "  'PDB; 5DZY F; 323-413;',\n",
       "  'PDB; 5DZY D; 323-413;',\n",
       "  'PDB; 5DZY B; 323-413;',\n",
       "  'PDB; 5DZY C; 323-413;']]"
      ]
     },
     "execution_count": 6,
     "metadata": {},
     "output_type": "execute_result"
    }
   ],
   "source": [
    "refs"
   ]
  },
  {
   "cell_type": "code",
   "execution_count": 7,
   "metadata": {},
   "outputs": [],
   "source": [
    "pdb_id = \"2o72\""
   ]
  },
  {
   "cell_type": "code",
   "execution_count": 8,
   "metadata": {},
   "outputs": [
    {
     "data": {
      "text/plain": [
       "<Structure id=2o72>"
      ]
     },
     "execution_count": 8,
     "metadata": {},
     "output_type": "execute_result"
    }
   ],
   "source": [
    "# path to pdb file\n",
    "pdb_path = '/nfshomes/vla/cmsc702-protein-lm/data/cadherin/pdb2o72.ent'\n",
    "\n",
    "\n",
    "parser = PDBParser()\n",
    "structure = parser.get_structure(pdb_id, pdb_path)\n",
    "structure"
   ]
  },
  {
   "cell_type": "code",
   "execution_count": 9,
   "metadata": {},
   "outputs": [
    {
     "data": {
      "text/plain": [
       "'DWVIPPISSPENEKGPFPKNLVQIKSNKDKEGKVFYSITGQGADTPPVGVFIIERETGWLKVTEPLDRERIATYTLFSHAVSSNGNAVEDPMEILITVTDQNDNKPEFTQEVFKGSVMEGALPGTSVMEVTATDADDDVNTYNAAIAYTILSQDPELPDKNMFTINRNTGVISVVTTGLDRESFPTYTLVVQAADLQGEGLSTTATAVITVTD'"
      ]
     },
     "execution_count": 9,
     "metadata": {},
     "output_type": "execute_result"
    }
   ],
   "source": [
    "pdb_sequence = seq_from_structure(structure)\n",
    "pdb_sequence"
   ]
  },
  {
   "cell_type": "code",
   "execution_count": 10,
   "metadata": {},
   "outputs": [
    {
     "data": {
      "text/plain": [
       "213"
      ]
     },
     "execution_count": 10,
     "metadata": {},
     "output_type": "execute_result"
    }
   ],
   "source": [
    "len(pdb_sequence)"
   ]
  },
  {
   "cell_type": "code",
   "execution_count": 11,
   "metadata": {},
   "outputs": [
    {
     "data": {
      "text/plain": [
       "'CADH1_HUMAN'"
      ]
     },
     "execution_count": 11,
     "metadata": {},
     "output_type": "execute_result"
    }
   ],
   "source": [
    "pdb_uniprot_info = requests.get('https://www.ebi.ac.uk/pdbe/api/mappings/uniprot/' + pdb_id).json()[pdb_id]['UniProt']\n",
    "key_id = list(pdb_uniprot_info.keys())[0]\n",
    "\n",
    "pdb_name = pdb_uniprot_info[key_id]['name']\n",
    "pdb_name  # Uniprot entry name"
   ]
  },
  {
   "cell_type": "code",
   "execution_count": 12,
   "metadata": {},
   "outputs": [],
   "source": [
    "# find sequence corresponding to PDB in the MSA\n",
    "# MSA record name contains uniprot residue range of sequence that is aligned,\n",
    "# so we only return the record if it contains our query start and end range\n",
    "def find_seq_in_MSA(msa, target_name, start=-1, end=-1):\n",
    "\n",
    "    records = []\n",
    "    for record in msa:\n",
    "\n",
    "        rec_split = record.id.split('/')\n",
    "\n",
    "        rec_name = rec_split[0]\n",
    "        rec_range = rec_split[1].split('-')\n",
    "        rec_start = int(rec_range[0])\n",
    "        rec_end = int(rec_range[1])\n",
    "\n",
    "        if rec_name == target_name:\n",
    "            records.append(record)\n",
    "\n",
    "            \n",
    "    return records"
   ]
  },
  {
   "cell_type": "code",
   "execution_count": 13,
   "metadata": {},
   "outputs": [
    {
     "data": {
      "text/plain": [
       "[SeqRecord(seq=Seq('------------------------------------------------------...---'), id='CADH1_HUMAN/491-585', name='CADH1_HUMAN', description='CADH1_HUMAN/491-585', dbxrefs=['PDB; 7STZ C; 444-532;', 'PDB; 7STZ D; 337-430;']),\n",
       " SeqRecord(seq=Seq('------------------------------------------------------...---'), id='CADH1_HUMAN/380-478', name='CADH1_HUMAN', description='CADH1_HUMAN/380-478', dbxrefs=['PDB; 7STZ D; 337-430;', 'PDB; 7STZ C; 444-532;']),\n",
       " SeqRecord(seq=Seq('------------------------------------------------------...---'), id='CADH1_HUMAN/267-366', name='CADH1_HUMAN', description='CADH1_HUMAN/267-366', dbxrefs=['PDB; 8H62 B; 113-212;', 'PDB; 2O72 A; 113-212;', 'PDB; 7STZ D; 337-430;', 'PDB; 4ZTE A; 113-212;', 'PDB; 4ZTE B; 113-212;', 'PDB; 7STZ C; 444-532;', 'PDB; 6CXY C; 113-212;', 'PDB; 4ZT1 A; 113-212;', 'PDB; 4ZT1 B; 113-212;', 'PDB; 6VEL C; 214-313;']),\n",
       " SeqRecord(seq=Seq('------------------------------------------------------...---'), id='CADH1_HUMAN/598-686', name='CADH1_HUMAN', description='CADH1_HUMAN/598-686', dbxrefs=['PDB; 7STZ C; 444-532;']),\n",
       " SeqRecord(seq=Seq('------------------------------------------------------...---'), id='CADH1_HUMAN/159-253', name='CADH1_HUMAN', description='CADH1_HUMAN/159-253', dbxrefs=['PDB; 4ZT1 B; 113-212;', 'PDB; 4ZT1 A; 113-212;', 'PDB; 3FF8 A; 5-99;', 'PDB; 6VEL C; 214-313;', 'PDB; 2OMU B; 5-99;', 'PDB; 7STZ C; 444-532;', 'PDB; 2OMT B; 5-99;', 'PDB; 2OMY B; 5-99;', 'PDB; 6CXY C; 113-212;', 'PDB; 1O6S B; 5-99;', 'PDB; 3FF7 A; 5-99;', 'PDB; 3FF8 B; 5-99;', 'PDB; 2OMZ B; 5-99;', 'PDB; 2OMV B; 5-99;', 'PDB; 3FF7 B; 5-99;', 'PDB; 2O72 A; 113-212;', 'PDB; 2OMX B; 5-99;', 'PDB; 8H62 B; 113-212;', 'PDB; 4ZTE B; 113-212;', 'PDB; 7STZ D; 337-430;', 'PDB; 4ZTE A; 113-212;'])]"
      ]
     },
     "execution_count": 13,
     "metadata": {},
     "output_type": "execute_result"
    }
   ],
   "source": [
    "records = find_seq_in_MSA(msa, pdb_name)\n",
    "records"
   ]
  },
  {
   "cell_type": "code",
   "execution_count": 14,
   "metadata": {},
   "outputs": [
    {
     "data": {
      "text/plain": [
       "SeqRecord(seq=Seq('------------------------------------------------------...---'), id='CADH1_HUMAN/267-366', name='CADH1_HUMAN', description='CADH1_HUMAN/267-366', dbxrefs=['PDB; 8H62 B; 113-212;', 'PDB; 2O72 A; 113-212;', 'PDB; 7STZ D; 337-430;', 'PDB; 4ZTE A; 113-212;', 'PDB; 4ZTE B; 113-212;', 'PDB; 7STZ C; 444-532;', 'PDB; 6CXY C; 113-212;', 'PDB; 4ZT1 A; 113-212;', 'PDB; 4ZT1 B; 113-212;', 'PDB; 6VEL C; 214-313;'])"
      ]
     },
     "execution_count": 14,
     "metadata": {},
     "output_type": "execute_result"
    }
   ],
   "source": [
    "selected_record = records[2]\n",
    "selected_record"
   ]
  },
  {
   "cell_type": "code",
   "execution_count": 18,
   "metadata": {},
   "outputs": [
    {
     "data": {
      "text/plain": [
       "[' 113', '212']"
      ]
     },
     "execution_count": 18,
     "metadata": {},
     "output_type": "execute_result"
    }
   ],
   "source": [
    "seq_range = selected_record.dbxrefs[1].split(';')[2].split('-')\n",
    "seq_range\n"
   ]
  },
  {
   "cell_type": "code",
   "execution_count": 23,
   "metadata": {},
   "outputs": [
    {
     "data": {
      "text/plain": [
       "(112, 212)"
      ]
     },
     "execution_count": 23,
     "metadata": {},
     "output_type": "execute_result"
    }
   ],
   "source": [
    "# SOMETIMEs this mapping is shifted down one WHY\n",
    "seq_start = int(seq_range[0]) - 1\n",
    "seq_end = int(seq_range[1])\n",
    "seq_start,seq_end"
   ]
  },
  {
   "cell_type": "code",
   "execution_count": 24,
   "metadata": {},
   "outputs": [
    {
     "data": {
      "text/plain": [
       "'fKGSVMEGALPGTSVMEVTATDADddvNTYNAAIAYTILSQDPelpdKNMFTINRNTGVISVVTTgLDRESFPTYTLVVQAADLQGEGLSTTATAVITVT'"
      ]
     },
     "execution_count": 24,
     "metadata": {},
     "output_type": "execute_result"
    }
   ],
   "source": [
    "gapped_str = str(selected_record.seq)\n",
    "ungapped_seq = gapped_str.replace('-', '')\n",
    "# raw sequence has same amount of residues as the uniprot range specified\n",
    "# assert len(ungapped_seq) == uniprot_ref_end - uniprot_ref_start + 1\n",
    "ungapped_seq"
   ]
  },
  {
   "cell_type": "code",
   "execution_count": 25,
   "metadata": {},
   "outputs": [
    {
     "data": {
      "text/plain": [
       "'FKGSVMEGALPGTSVMEVTATDADDDVNTYNAAIAYTILSQDPELPDKNMFTINRNTGVISVVTTGLDRESFPTYTLVVQAADLQGEGLSTTATAVITVT'"
      ]
     },
     "execution_count": 25,
     "metadata": {},
     "output_type": "execute_result"
    }
   ],
   "source": [
    "pdb_sequence[seq_start:seq_end]"
   ]
  },
  {
   "cell_type": "code",
   "execution_count": 26,
   "metadata": {},
   "outputs": [
    {
     "data": {
      "text/plain": [
       "'FKGSVMEGALPGTSVMEVTATDADDDVNTYNAAIAYTILSQDPELPDKNMFTINRNTGVISVVTTGLDRESFPTYTLVVQAADLQGEGLSTTATAVITVT'"
      ]
     },
     "execution_count": 26,
     "metadata": {},
     "output_type": "execute_result"
    }
   ],
   "source": [
    "ungapped_seq.upper()  "
   ]
  },
  {
   "cell_type": "code",
   "execution_count": 28,
   "metadata": {},
   "outputs": [],
   "source": [
    "# make sure this doesnt fail\n",
    "assert ungapped_seq.upper() == pdb_sequence[seq_start:seq_end]"
   ]
  },
  {
   "cell_type": "code",
   "execution_count": 30,
   "metadata": {},
   "outputs": [
    {
     "data": {
      "text/plain": [
       "59"
      ]
     },
     "execution_count": 30,
     "metadata": {},
     "output_type": "execute_result"
    }
   ],
   "source": [
    "msa_start = len(gapped_str) - len(gapped_str.lstrip('-'))\n",
    "msa_start # inclusive msa col to start at"
   ]
  },
  {
   "cell_type": "code",
   "execution_count": 31,
   "metadata": {},
   "outputs": [
    {
     "data": {
      "text/plain": [
       "665"
      ]
     },
     "execution_count": 31,
     "metadata": {},
     "output_type": "execute_result"
    }
   ],
   "source": [
    "msa_end = len(gapped_str) - (len(gapped_str) - len(gapped_str.rstrip('-')))\n",
    "msa_end # exclusive msa col to end at"
   ]
  },
  {
   "cell_type": "code",
   "execution_count": 32,
   "metadata": {},
   "outputs": [
    {
     "data": {
      "text/plain": [
       "{'pfam_id': 'PF00028',\n",
       " 'pdb_id': '2o72',\n",
       " 'pdb_name': 'CADH1_HUMAN',\n",
       " 'seq_range': (112, 212),\n",
       " 'msa_range': (59, 665),\n",
       " 'uniprot_range': (155, 367)}"
      ]
     },
     "execution_count": 32,
     "metadata": {},
     "output_type": "execute_result"
    }
   ],
   "source": [
    "meta = {}\n",
    "meta['pfam_id'] = 'PF00028'\n",
    "meta['pdb_id'] = pdb_id\n",
    "meta['pdb_name'] = pdb_name\n",
    "meta['seq_range'] = (seq_start, seq_end)   # range of pdb sequence that MSA entry refers to [start,end) python indexing\n",
    "meta['msa_range'] = (msa_start,msa_end)    # range of msa cols to crop msa to to include the MSA entry of interest [start,end) python indexing\n",
    "meta['uniprot_range'] = (155,367)           # Uniprot residue range covered by the entire pdb structure [start,end] (for record purposes), find on https://www.ebi.ac.uk/interpro/structure/PDB/\n",
    "\n",
    "meta\n"
   ]
  },
  {
   "cell_type": "code",
   "execution_count": 34,
   "metadata": {},
   "outputs": [],
   "source": [
    "import json\n",
    "import os\n",
    "\n",
    "output_dir = '../data/cadherin'\n",
    "\n",
    "with open(os.path.join(output_dir, f'meta_{pdb_name}.json'), 'w') as f:\n",
    "    json.dump(meta, f)"
   ]
  },
  {
   "cell_type": "code",
   "execution_count": 37,
   "metadata": {},
   "outputs": [],
   "source": [
    "# Parameters\n",
    "msa_path = '/nfshomes/vla/cmsc702-protein-lm/PF00028_full' # path to FULL msa stockholm file\n",
    "N = 10000 # number of sequences to select\n",
    "L = msa_start # left msa index\n",
    "R = msa_end # right msa index \n",
    "output_path = f'/nfshomes/vla/cmsc702-protein-lm/data/cadherin/PF00028_{N}_msa.faa' # output path for new fasta file\n",
    "threshold = 0 # minimal gap ratio to accept [0-1]"
   ]
  },
  {
   "cell_type": "code",
   "execution_count": 38,
   "metadata": {},
   "outputs": [
    {
     "data": {
      "text/plain": [
       "10000"
      ]
     },
     "execution_count": 38,
     "metadata": {},
     "output_type": "execute_result"
    }
   ],
   "source": [
    "random.seed(42)\n",
    "\n",
    "if threshold == None:\n",
    "    threshold = 0\n",
    "try:\n",
    "    seen = set(selected_record[L:R].seq)\n",
    "    records = []\n",
    "\n",
    "    def gap_ratio(seq):\n",
    "        return len(seq.replace('-',''))/len(seq)\n",
    "\n",
    "    for rec in SeqIO.parse(msa_path, 'stockholm'): \n",
    "        if rec[L:R].seq not in seen:\n",
    "            if gap_ratio(rec[L:R].seq) >= threshold:\n",
    "                seen.add(rec[L:R].seq)\n",
    "                records.append(rec[L:R])     \n",
    "except:\n",
    "    print('could not parse file -> not in fasta format')\n",
    "\n",
    "\n",
    "\n",
    "random.shuffle(records) \n",
    "records = [selected_record[L:R]] + records\n",
    "\n",
    "SeqIO.write(records[0:N], output_path, \"fasta\")\n",
    "\n"
   ]
  },
  {
   "cell_type": "code",
   "execution_count": 39,
   "metadata": {},
   "outputs": [
    {
     "data": {
      "text/plain": [
       "SeqRecord(seq=Seq('f-KGSVM-E---G----A---L-------P----G-----T-------S-----...TVT'), id='CADH1_HUMAN/267-366', name='CADH1_HUMAN', description='CADH1_HUMAN/267-366', dbxrefs=[])"
      ]
     },
     "execution_count": 39,
     "metadata": {},
     "output_type": "execute_result"
    }
   ],
   "source": [
    "records[0]"
   ]
  },
  {
   "cell_type": "code",
   "execution_count": 40,
   "metadata": {},
   "outputs": [
    {
     "data": {
      "text/plain": [
       "10000"
      ]
     },
     "execution_count": 40,
     "metadata": {},
     "output_type": "execute_result"
    }
   ],
   "source": [
    "SeqIO.write(records[0:N], output_path, \"fasta\")"
   ]
  }
 ],
 "metadata": {
  "kernelspec": {
   "display_name": "base",
   "language": "python",
   "name": "python3"
  },
  "language_info": {
   "codemirror_mode": {
    "name": "ipython",
    "version": 3
   },
   "file_extension": ".py",
   "mimetype": "text/x-python",
   "name": "python",
   "nbconvert_exporter": "python",
   "pygments_lexer": "ipython3",
   "version": "3.10.0"
  }
 },
 "nbformat": 4,
 "nbformat_minor": 2
}
