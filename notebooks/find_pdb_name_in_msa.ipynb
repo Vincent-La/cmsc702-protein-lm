{
 "cells": [
  {
   "cell_type": "code",
   "execution_count": 33,
   "metadata": {},
   "outputs": [],
   "source": [
    "from Bio import AlignIO\n",
    "from Bio.Seq import Seq\n",
    "from Bio.PDB import PDBParser\n",
    "from Bio import SeqIO\n",
    "import random\n",
    "\n",
    "import sys\n",
    "sys.path.append('..')\n",
    "from utils.pdb import seq_from_structure\n",
    "import requests\n",
    "import re"
   ]
  },
  {
   "cell_type": "code",
   "execution_count": 36,
   "metadata": {},
   "outputs": [
    {
     "data": {
      "text/plain": [
       "<<class 'Bio.Align.MultipleSeqAlignment'> instance (43064 records of length 690) at 7f0c1beb0f70>"
      ]
     },
     "execution_count": 36,
     "metadata": {},
     "output_type": "execute_result"
    }
   ],
   "source": [
    "# path to FULL msa stockholm file\n",
    "msa_path = '/nfshomes/vla/cmsc702-protein-lm/PF00011_full'\n",
    "msa = AlignIO.read(msa_path, 'stockholm')\n",
    "\n",
    "msa"
   ]
  },
  {
   "cell_type": "code",
   "execution_count": 37,
   "metadata": {},
   "outputs": [
    {
     "data": {
      "text/plain": [
       "23"
      ]
     },
     "execution_count": 37,
     "metadata": {},
     "output_type": "execute_result"
    }
   ],
   "source": [
    "refs = []\n",
    "for rec in msa:\n",
    "    if rec.dbxrefs:\n",
    "        refs.append((rec.name, rec.dbxrefs))\n",
    "\n",
    "len(refs)"
   ]
  },
  {
   "cell_type": "code",
   "execution_count": 38,
   "metadata": {},
   "outputs": [
    {
     "data": {
      "text/plain": [
       "[('HSPS_METJA',\n",
       "  ['PDB; 1SHS E; 46-147;',\n",
       "   'PDB; 1SHS C; 46-147;',\n",
       "   'PDB; 1SHS B; 46-147;',\n",
       "   'PDB; 4I88 C; 46-147;',\n",
       "   'PDB; 1SHS A; 46-147;',\n",
       "   'PDB; 4I88 G; 46-147;',\n",
       "   'PDB; 1SHS G; 46-147;',\n",
       "   'PDB; 4I88 H; 46-147;',\n",
       "   'PDB; 4ELD B; 60-161;',\n",
       "   'PDB; 4I88 D; 46-147;',\n",
       "   'PDB; 4ELD A; 60-161;',\n",
       "   'PDB; 4I88 A; 46-147;',\n",
       "   'PDB; 1SHS F; 46-147;',\n",
       "   'PDB; 1SHS D; 46-147;',\n",
       "   'PDB; 4I88 B; 46-147;',\n",
       "   'PDB; 1SHS H; 46-147;',\n",
       "   'PDB; 4I88 F; 46-147;',\n",
       "   'PDB; 4I88 E; 46-147;']),\n",
       " ('Q9RTR5_DEIRA', ['PDB; 4FEI A; 55-147;']),\n",
       " ('HS25P_ARATH',\n",
       "  ['PDB; 5NMS F; 87-184;',\n",
       "   'PDB; 5NMS A; 87-184;',\n",
       "   'PDB; 5NMS B; 87-184;',\n",
       "   'PDB; 5NMS I; 87-184;',\n",
       "   'PDB; 5NMS C; 87-184;',\n",
       "   'PDB; 5NMS H; 87-184;',\n",
       "   'PDB; 5NMS G; 87-184;',\n",
       "   'PDB; 5NMS J; 87-184;',\n",
       "   'PDB; 5NMS L; 87-184;',\n",
       "   'PDB; 5NMS E; 87-184;',\n",
       "   'PDB; 5NMS D; 87-184;',\n",
       "   'PDB; 5NMS K; 87-184;']),\n",
       " ('Q7JP52_CAEEL', ['PDB; 7PE3 B; 24-119;', 'PDB; 7PE3 A; 48-143;']),\n",
       " ('HSPB6_HUMAN',\n",
       "  ['PDB; 4JUS G; 66-147;',\n",
       "   'PDB; 5LUM B; 72-149;',\n",
       "   'PDB; 4JUS A; 66-148;',\n",
       "   'PDB; 4JUT C; 66-149;',\n",
       "   'PDB; 5LTW K; 69-149;',\n",
       "   'PDB; 4JUS F; 66-147;',\n",
       "   'PDB; 5LTW H; 72-149;',\n",
       "   'PDB; 5LTW D; 72-149;',\n",
       "   'PDB; 4JUS H; 66-147;',\n",
       "   'PDB; 5LUM E; 72-149;',\n",
       "   'PDB; 4JUS E; 66-146;',\n",
       "   'PDB; 5LTW C; 70-149;',\n",
       "   'PDB; 4JUT H; 66-147;',\n",
       "   'PDB; 4JUT B; 66-146;',\n",
       "   'PDB; 5LUM A; 72-149;',\n",
       "   'PDB; 5LUM C; 72-149;',\n",
       "   'PDB; 5LTW G; 70-149;',\n",
       "   'PDB; 4JUS D; 66-146;',\n",
       "   'PDB; 4JUT A; 66-148;',\n",
       "   'PDB; 4JUS C; 66-146;',\n",
       "   'PDB; 4JUS B; 66-154;',\n",
       "   'PDB; 4JUT F; 66-147;',\n",
       "   'PDB; 5LTW L; 70-149;',\n",
       "   'PDB; 4JUT E; 66-148;',\n",
       "   'PDB; 5LUM D; 72-149;',\n",
       "   'PDB; 4JUT D; 66-147;',\n",
       "   'PDB; 4JUT G; 66-148;']),\n",
       " ('HSPB2_HUMAN',\n",
       "  ['PDB; 6F2R D; 70-149;',\n",
       "   'PDB; 6F2R J; 70-148;',\n",
       "   'PDB; 6F2R A; 66-163;',\n",
       "   'PDB; 6F2R C; 66-163;',\n",
       "   'PDB; 6F2R K; 66-163;',\n",
       "   'PDB; 6F2R E; 66-163;',\n",
       "   'PDB; 6F2R F; 70-148;',\n",
       "   'PDB; 6F2R I; 66-163;',\n",
       "   'PDB; 6F2R G; 66-163;']),\n",
       " ('HSPB6_RAT', ['PDB; 2WJ5 A; 5-96;']),\n",
       " ('HS16B_WHEAT',\n",
       "  ['PDB; 2H50 J; 47-136;',\n",
       "   'PDB; 2H50 K; 47-136;',\n",
       "   'PDB; 1GME B; 47-150;',\n",
       "   'PDB; 2H50 F; 47-136;',\n",
       "   'PDB; 2BYU G; 47-150;',\n",
       "   'PDB; 2H50 G; 47-136;',\n",
       "   'PDB; 2BYU F; 47-150;',\n",
       "   'PDB; 1GME A; 47-150;',\n",
       "   'PDB; 2H50 A; 47-136;',\n",
       "   'PDB; 2H50 O; 47-136;',\n",
       "   'PDB; 2H50 E; 47-136;',\n",
       "   'PDB; 2H53 O; 47-136;',\n",
       "   'PDB; 2H50 P; 47-136;',\n",
       "   'PDB; 2H53 I; 47-136;',\n",
       "   'PDB; 2H53 S; 47-136;',\n",
       "   'PDB; 2H50 W; 47-136;',\n",
       "   'PDB; 2H53 V; 47-136;',\n",
       "   'PDB; 2H53 G; 47-136;',\n",
       "   'PDB; 2H50 S; 47-136;',\n",
       "   'PDB; 2H50 L; 47-136;',\n",
       "   'PDB; 2H50 T; 47-136;',\n",
       "   'PDB; 2H50 R; 47-136;',\n",
       "   'PDB; 2H53 L; 47-136;',\n",
       "   'PDB; 2H53 H; 47-136;',\n",
       "   'PDB; 2BYU I; 47-150;',\n",
       "   'PDB; 1GME D; 47-150;',\n",
       "   'PDB; 2BYU K; 47-150;',\n",
       "   'PDB; 2H53 K; 47-136;',\n",
       "   'PDB; 2H50 B; 47-136;',\n",
       "   'PDB; 2H50 H; 47-136;',\n",
       "   'PDB; 2H50 N; 47-136;',\n",
       "   'PDB; 2H53 F; 47-136;',\n",
       "   'PDB; 2BYU B; 47-150;',\n",
       "   'PDB; 2H50 U; 47-136;',\n",
       "   'PDB; 2BYU H; 47-150;',\n",
       "   'PDB; 2H53 P; 47-136;',\n",
       "   'PDB; 2H50 M; 47-136;',\n",
       "   'PDB; 2BYU E; 47-150;',\n",
       "   'PDB; 2H53 A; 47-136;',\n",
       "   'PDB; 2H50 Q; 47-136;',\n",
       "   'PDB; 2BYU C; 47-150;',\n",
       "   'PDB; 2H50 X; 47-136;',\n",
       "   'PDB; 1GME C; 47-150;',\n",
       "   'PDB; 2H53 E; 47-136;',\n",
       "   'PDB; 2H53 R; 47-136;',\n",
       "   'PDB; 2H50 D; 47-136;',\n",
       "   'PDB; 2H53 D; 47-136;',\n",
       "   'PDB; 2H53 W; 47-136;',\n",
       "   'PDB; 2H53 C; 47-136;',\n",
       "   'PDB; 2H53 N; 47-136;',\n",
       "   'PDB; 2H50 V; 47-136;',\n",
       "   'PDB; 2H53 T; 47-136;',\n",
       "   'PDB; 2H53 M; 47-136;',\n",
       "   'PDB; 2H53 U; 47-136;',\n",
       "   'PDB; 2H50 I; 47-136;',\n",
       "   'PDB; 2BYU L; 47-150;',\n",
       "   'PDB; 2H53 Q; 47-136;',\n",
       "   'PDB; 2H53 B; 47-136;',\n",
       "   'PDB; 2BYU A; 47-150;',\n",
       "   'PDB; 2H53 J; 47-136;',\n",
       "   'PDB; 2BYU D; 47-150;',\n",
       "   'PDB; 2BYU J; 47-150;',\n",
       "   'PDB; 2H50 C; 47-136;',\n",
       "   'PDB; 2H53 X; 47-136;']),\n",
       " ('Q970D9_SULTO',\n",
       "  ['PDB; 3VQM D; 28-115;',\n",
       "   'PDB; 3VQK F; 28-123;',\n",
       "   'PDB; 3VQM M; 28-115;',\n",
       "   'PDB; 3VQM Q; 119-123;',\n",
       "   'PDB; 3AAC A; 28-123;',\n",
       "   'PDB; 3VQM W; 119-123;',\n",
       "   'PDB; 3VQM L; 28-111;',\n",
       "   'PDB; 3VQM A; 28-115;',\n",
       "   'PDB; 3VQM E; 28-114;',\n",
       "   'PDB; 3VQK B; 28-123;',\n",
       "   'PDB; 3VQM S; 119-123;',\n",
       "   'PDB; 3AAB B; 28-114;',\n",
       "   'PDB; 3VQM B; 28-115;',\n",
       "   'PDB; 3VQM C; 28-115;',\n",
       "   'PDB; 3VQM F; 28-114;',\n",
       "   'PDB; 3VQM G; 28-115;',\n",
       "   'PDB; 3VQM K; 28-115;',\n",
       "   'PDB; 3VQM J; 28-115;',\n",
       "   'PDB; 3AAC B; 28-123;',\n",
       "   'PDB; 3VQL B; 28-115;',\n",
       "   'PDB; 3VQL A; 28-115;',\n",
       "   'PDB; 3VQK D; 28-123;',\n",
       "   'PDB; 3VQM O; 119-123;',\n",
       "   'PDB; 3VQM N; 28-111;',\n",
       "   'PDB; 3VQM R; 119-123;',\n",
       "   'PDB; 3VQK C; 28-123;',\n",
       "   'PDB; 3VQK E; 28-123;',\n",
       "   'PDB; 3VQM P; 119-123;',\n",
       "   'PDB; 3VQM I; 28-115;',\n",
       "   'PDB; 3VQM H; 28-115;',\n",
       "   'PDB; 3AAB A; 28-123;',\n",
       "   'PDB; 3VQK A; 28-123;']),\n",
       " ('HSPB1_HUMAN',\n",
       "  ['PDB; 6DV5 U; 94-184;',\n",
       "   'PDB; 6DV5 K; 94-184;',\n",
       "   'PDB; 6DV5 S; 94-184;',\n",
       "   'PDB; 4MJH B; 179-184;',\n",
       "   'PDB; 2N3J A; 87-176;',\n",
       "   'PDB; 3Q9P A; 90-171;',\n",
       "   'PDB; 6DV5 E; 93-184;',\n",
       "   'PDB; 6GJH E; 87-170;',\n",
       "   'PDB; 6DV5 O; 94-184;',\n",
       "   'PDB; 4MJH A; 87-170;',\n",
       "   'PDB; 6DV5 F; 94-184;',\n",
       "   'PDB; 6DV5 I; 94-184;',\n",
       "   'PDB; 6DV5 B; 94-184;',\n",
       "   'PDB; 6DV5 J; 94-184;',\n",
       "   'PDB; 6GJH F; 87-170;',\n",
       "   'PDB; 2N3J B; 87-176;',\n",
       "   'PDB; 6DV5 M; 94-184;',\n",
       "   'PDB; 6DV5 H; 94-184;',\n",
       "   'PDB; 6GJH A; 87-170;',\n",
       "   'PDB; 3Q9Q A; 90-170;',\n",
       "   'PDB; 6DV5 T; 94-184;',\n",
       "   'PDB; 6DV5 P; 94-184;',\n",
       "   'PDB; 6DV5 D; 89-184;',\n",
       "   'PDB; 6GJH C; 87-170;',\n",
       "   'PDB; 6DV5 Q; 94-184;',\n",
       "   'PDB; 6DV5 C; 93-184;',\n",
       "   'PDB; 6DV5 V; 94-184;',\n",
       "   'PDB; 4MJH D; 179-184;',\n",
       "   'PDB; 6DV5 G; 94-184;',\n",
       "   'PDB; 6GJH D; 87-170;',\n",
       "   'PDB; 6GJH B; 87-170;',\n",
       "   'PDB; 6DV5 X; 94-184;',\n",
       "   'PDB; 3Q9Q B; 94-170;',\n",
       "   'PDB; 6GJH G; 87-170;',\n",
       "   'PDB; 6GJH H; 87-170;',\n",
       "   'PDB; 6DV5 R; 94-184;',\n",
       "   'PDB; 6DV5 N; 94-184;',\n",
       "   'PDB; 6DV5 L; 94-184;',\n",
       "   'PDB; 6DV5 W; 94-184;',\n",
       "   'PDB; 4MJH C; 87-169;',\n",
       "   'PDB; 6DV5 A; 94-184;']),\n",
       " ('CRYAB_HUMAN',\n",
       "  ['PDB; 3J07 A; 67-162;',\n",
       "   'PDB; 2YGD M; 67-162;',\n",
       "   'PDB; 3J07 W; 67-162;',\n",
       "   'PDB; 2Y22 A; 67-151;',\n",
       "   'PDB; 2Y1Z B; 67-150;',\n",
       "   'PDB; 7ROJ E; 1-11;',\n",
       "   'PDB; 3J07 F; 67-162;',\n",
       "   'PDB; 4M5T A; 68-152;',\n",
       "   'PDB; 2N0K B; 67-152;',\n",
       "   'PDB; 4M5T G; 68-152;',\n",
       "   'PDB; 2WJ7 A; 4-87;',\n",
       "   'PDB; 2WJ7 B; 12-83;',\n",
       "   'PDB; 3SGN B; 1-11;',\n",
       "   'PDB; 7ROJ L; 1-11;',\n",
       "   'PDB; 7ROJ A; 1-11;',\n",
       "   'PDB; 2YGD N; 67-162;',\n",
       "   'PDB; 3J07 U; 67-162;',\n",
       "   'PDB; 3SGR F; 14-24;',\n",
       "   'PDB; 3J07 E; 67-162;',\n",
       "   'PDB; 4M5T D; 156-162;',\n",
       "   'PDB; 3J07 K; 67-162;',\n",
       "   'PDB; 2YGD X; 67-162;',\n",
       "   'PDB; 3SGM B; 1-11;',\n",
       "   'PDB; 2WJ7 D; 14-84;',\n",
       "   'PDB; 3J07 B; 67-162;',\n",
       "   'PDB; 7ROJ B; 1-11;',\n",
       "   'PDB; 2YGD A; 67-162;',\n",
       "   'PDB; 2YGD F; 67-162;',\n",
       "   'PDB; 7ROJ H; 1-11;',\n",
       "   'PDB; 6BP9 A; 67-152;',\n",
       "   'PDB; 7ROJ J; 1-11;',\n",
       "   'PDB; 2WJ7 E; 12-85;',\n",
       "   'PDB; 3J07 C; 67-162;',\n",
       "   'PDB; 2YGD D; 67-162;',\n",
       "   'PDB; 2YGD Q; 67-162;',\n",
       "   'PDB; 2YGD O; 67-162;',\n",
       "   'PDB; 2Y1Y A; 73-150;',\n",
       "   'PDB; 2YGD V; 67-162;',\n",
       "   'PDB; 2Y22 C; 75-148;',\n",
       "   'PDB; 6BP9 B; 67-152;',\n",
       "   'PDB; 3J07 X; 67-162;',\n",
       "   'PDB; 3J07 R; 67-162;',\n",
       "   'PDB; 2YGD K; 67-162;',\n",
       "   'PDB; 2YGD C; 67-162;',\n",
       "   'PDB; 3SGR D; 14-24;',\n",
       "   'PDB; 3SGM C; 1-11;',\n",
       "   'PDB; 4M5T H; 156-162;',\n",
       "   'PDB; 4M5T F; 156-162;',\n",
       "   'PDB; 3J07 I; 67-162;',\n",
       "   'PDB; 3J07 M; 67-162;',\n",
       "   'PDB; 2YGD H; 67-162;',\n",
       "   'PDB; 7ROJ I; 1-11;',\n",
       "   'PDB; 3J07 L; 67-162;',\n",
       "   'PDB; 3J07 S; 67-162;',\n",
       "   'PDB; 3SGP D; 1-11;',\n",
       "   'PDB; 2Y22 B; 74-149;',\n",
       "   'PDB; 3J07 H; 67-162;',\n",
       "   'PDB; 2YGD B; 67-162;',\n",
       "   'PDB; 2YGD P; 67-162;',\n",
       "   'PDB; 3J07 N; 67-162;',\n",
       "   'PDB; 3SGM A; 1-11;',\n",
       "   'PDB; 3J07 Q; 67-162;',\n",
       "   'PDB; 3SGN A; 1-11;',\n",
       "   'PDB; 2YGD G; 67-162;',\n",
       "   'PDB; 3SGR C; 14-24;',\n",
       "   'PDB; 3J07 D; 67-162;',\n",
       "   'PDB; 4M5S B; 156-162;',\n",
       "   'PDB; 2Y22 E; 73-149;',\n",
       "   'PDB; 7ROJ G; 1-11;',\n",
       "   'PDB; 2Y22 D; 69-148;',\n",
       "   'PDB; 2WJ7 C; 4-87;',\n",
       "   'PDB; 4M5T E; 68-151;',\n",
       "   'PDB; 2YGD S; 67-162;',\n",
       "   'PDB; 2YGD I; 67-162;',\n",
       "   'PDB; 2Y22 F; 76-149;',\n",
       "   'PDB; 3J07 P; 67-162;',\n",
       "   'PDB; 2YGD R; 67-162;',\n",
       "   'PDB; 3J07 J; 67-162;',\n",
       "   'PDB; 2YGD W; 67-162;',\n",
       "   'PDB; 3J07 V; 67-162;',\n",
       "   'PDB; 7ROJ D; 1-11;',\n",
       "   'PDB; 3SGP A; 1-11;',\n",
       "   'PDB; 2YGD L; 67-162;',\n",
       "   'PDB; 4M5T C; 68-152;',\n",
       "   'PDB; 4M5T B; 156-162;',\n",
       "   'PDB; 3J07 T; 67-162;',\n",
       "   'PDB; 7ROJ K; 1-11;',\n",
       "   'PDB; 2KLR A; 69-150;',\n",
       "   'PDB; 2Y1Z A; 67-151;',\n",
       "   'PDB; 3SGR B; 14-24;',\n",
       "   'PDB; 3J07 O; 67-162;',\n",
       "   'PDB; 3J07 G; 67-162;',\n",
       "   'PDB; 3SGR E; 14-24;',\n",
       "   'PDB; 2YGD J; 67-162;',\n",
       "   'PDB; 3L1G A; 68-162;',\n",
       "   'PDB; 3SGR A; 14-24;',\n",
       "   'PDB; 7ROJ C; 1-11;',\n",
       "   'PDB; 2KLR B; 69-150;',\n",
       "   'PDB; 2N0K A; 67-152;',\n",
       "   'PDB; 3SGP B; 1-11;',\n",
       "   'PDB; 4M5S A; 68-153;',\n",
       "   'PDB; 3SGM D; 1-11;',\n",
       "   'PDB; 2YGD E; 67-162;',\n",
       "   'PDB; 3SGP C; 1-11;',\n",
       "   'PDB; 7ROJ F; 1-11;',\n",
       "   'PDB; 2YGD U; 67-162;',\n",
       "   'PDB; 2YGD T; 67-162;']),\n",
       " ('SIP1_CAEEL',\n",
       "  ['PDB; 4YDZ A; 45-139;',\n",
       "   'PDB; 4YDZ B; 45-139;',\n",
       "   'PDB; 4YE0 B; 45-139;',\n",
       "   'PDB; 4YDZ C; 45-139;',\n",
       "   'PDB; 4YE0 A; 45-139;',\n",
       "   'PDB; 4YDZ D; 45-139;']),\n",
       " ('C4M4U3_ENTH1',\n",
       "  ['PDB; 6L6M B; 67-163;',\n",
       "   'PDB; 6L6M C; 67-163;',\n",
       "   'PDB; 6L6M D; 67-163;',\n",
       "   'PDB; 6L6M A; 67-163;']),\n",
       " ('CRYAA_HUMAN',\n",
       "  ['PDB; 6T1R D; 63-162;',\n",
       "   'PDB; 6T1R F; 63-162;',\n",
       "   'PDB; 6T1R C; 63-162;',\n",
       "   'PDB; 6T1R H; 63-162;',\n",
       "   'PDB; 6T1R E; 63-162;',\n",
       "   'PDB; 6T1R J; 63-162;',\n",
       "   'PDB; 6T1R G; 63-162;',\n",
       "   'PDB; 6T1R M; 63-162;',\n",
       "   'PDB; 6T1R N; 63-162;',\n",
       "   'PDB; 6T1R L; 63-162;',\n",
       "   'PDB; 6T1R A; 63-162;',\n",
       "   'PDB; 6T1R P; 63-162;',\n",
       "   'PDB; 6T1R O; 63-162;',\n",
       "   'PDB; 6T1R I; 63-162;',\n",
       "   'PDB; 6T1R K; 63-162;',\n",
       "   'PDB; 6T1R B; 63-162;']),\n",
       " ('B2HF11_MYCMM',\n",
       "  ['PDB; 5ZS6 A; 31-129;',\n",
       "   'PDB; 5ZUL D; 31-129;',\n",
       "   'PDB; 5ZUL E; 31-117;',\n",
       "   'PDB; 5ZUL F; 31-128;',\n",
       "   'PDB; 5ZUL B; 31-129;',\n",
       "   'PDB; 5ZUL C; 31-118;',\n",
       "   'PDB; 5ZS3 A; 31-129;',\n",
       "   'PDB; 5ZUL A; 31-117;']),\n",
       " ('Q8ZPY6_SALTY',\n",
       "  ['PDB; 4ZJD B; 46-132;',\n",
       "   'PDB; 4ZJD E; 46-132;',\n",
       "   'PDB; 4ZJ9 A; 46-132;',\n",
       "   'PDB; 4ZJD F; 46-132;',\n",
       "   'PDB; 4ZJD D; 46-132;',\n",
       "   'PDB; 4ZJD C; 46-132;',\n",
       "   'PDB; 4ZJD A; 46-132;']),\n",
       " ('Q8UUZ6_DANRE', ['PDB; 3N3E A; 64-162;', 'PDB; 3N3E B; 64-162;']),\n",
       " ('HSP26_YEAST',\n",
       "  ['PDB; 7OA6 X; 201-207;',\n",
       "   'PDB; 7OA6 B; 96-207;',\n",
       "   'PDB; 7OA6 I; 96-207;',\n",
       "   'PDB; 7OA6 J; 96-191;',\n",
       "   'PDB; 7OA6 A; 96-207;']),\n",
       " ('HSP16_SCHPO',\n",
       "  ['PDB; 3W1Z C; 40-143;',\n",
       "   'PDB; 3W1Z D; 40-143;',\n",
       "   'PDB; 3W1Z A; 40-143;',\n",
       "   'PDB; 3W1Z B; 40-143;']),\n",
       " ('Q97W19_SACS2', ['PDB; 4RZK A; 88-164;', 'PDB; 4RZK B; 88-163;']),\n",
       " ('CRYAA_BOVIN', ['PDB; 3L1F A; 63-162;', 'PDB; 3L1E A; 63-162;']),\n",
       " ('E3SJI7_9CAUD',\n",
       "  ['PDB; 7CK4 D; 50-149;',\n",
       "   'PDB; 7CK4 C; 50-149;',\n",
       "   'PDB; 7CK4 B; 50-141;',\n",
       "   'PDB; 7CK4 A; 50-149;',\n",
       "   'PDB; 7CK4 E; 50-149;',\n",
       "   'PDB; 7CK4 F; 50-142;']),\n",
       " ('HSPB3_HUMAN',\n",
       "  ['PDB; 6F2R Q; 66-144;', 'PDB; 6F2R T; 67-144;', 'PDB; 6F2R V; 67-144;'])]"
      ]
     },
     "execution_count": 38,
     "metadata": {},
     "output_type": "execute_result"
    }
   ],
   "source": [
    "refs"
   ]
  },
  {
   "cell_type": "code",
   "execution_count": 82,
   "metadata": {},
   "outputs": [],
   "source": [
    "pdb_id = \"3L1E\""
   ]
  },
  {
   "cell_type": "code",
   "execution_count": 83,
   "metadata": {},
   "outputs": [
    {
     "data": {
      "text/plain": [
       "<Structure id=3L1E>"
      ]
     },
     "execution_count": 83,
     "metadata": {},
     "output_type": "execute_result"
    }
   ],
   "source": [
    "# path to pdb file\n",
    "pdb_path = '/nfshomes/vla/cmsc702-protein-lm/data/pf00011/pdb3l1e.ent'\n",
    "\n",
    "\n",
    "parser = PDBParser()\n",
    "structure = parser.get_structure(pdb_id, pdb_path)\n",
    "structure"
   ]
  },
  {
   "cell_type": "code",
   "execution_count": 84,
   "metadata": {},
   "outputs": [
    {
     "data": {
      "text/plain": [
       "'SGISEVRSDRDKFVIFLDVKHFSPEDLTVKVQEDFVEIHGKHNERQDDHGYISREFHRRYRLPSNVDQSALSCSLSADGMLTFSGPKIPSGVDAGHSERAIPVSR'"
      ]
     },
     "execution_count": 84,
     "metadata": {},
     "output_type": "execute_result"
    }
   ],
   "source": [
    "pdb_sequence = seq_from_structure(structure)\n",
    "pdb_sequence"
   ]
  },
  {
   "cell_type": "code",
   "execution_count": 85,
   "metadata": {},
   "outputs": [
    {
     "data": {
      "text/plain": [
       "105"
      ]
     },
     "execution_count": 85,
     "metadata": {},
     "output_type": "execute_result"
    }
   ],
   "source": [
    "len(pdb_sequence)"
   ]
  },
  {
   "cell_type": "code",
   "execution_count": 86,
   "metadata": {},
   "outputs": [
    {
     "ename": "KeyError",
     "evalue": "'3L1E'",
     "output_type": "error",
     "traceback": [
      "\u001b[0;31m---------------------------------------------------------------------------\u001b[0m",
      "\u001b[0;31mKeyError\u001b[0m                                  Traceback (most recent call last)",
      "Cell \u001b[0;32mIn[86], line 1\u001b[0m\n\u001b[0;32m----> 1\u001b[0m pdb_uniprot_info \u001b[38;5;241m=\u001b[39m \u001b[43mrequests\u001b[49m\u001b[38;5;241;43m.\u001b[39;49m\u001b[43mget\u001b[49m\u001b[43m(\u001b[49m\u001b[38;5;124;43m'\u001b[39;49m\u001b[38;5;124;43mhttps://www.ebi.ac.uk/pdbe/api/mappings/uniprot/\u001b[39;49m\u001b[38;5;124;43m'\u001b[39;49m\u001b[43m \u001b[49m\u001b[38;5;241;43m+\u001b[39;49m\u001b[43m \u001b[49m\u001b[43mpdb_id\u001b[49m\u001b[43m)\u001b[49m\u001b[38;5;241;43m.\u001b[39;49m\u001b[43mjson\u001b[49m\u001b[43m(\u001b[49m\u001b[43m)\u001b[49m\u001b[43m[\u001b[49m\u001b[43mpdb_id\u001b[49m\u001b[43m]\u001b[49m[\u001b[38;5;124m'\u001b[39m\u001b[38;5;124mUniProt\u001b[39m\u001b[38;5;124m'\u001b[39m]\n\u001b[1;32m      2\u001b[0m key_id \u001b[38;5;241m=\u001b[39m \u001b[38;5;28mlist\u001b[39m(pdb_uniprot_info\u001b[38;5;241m.\u001b[39mkeys())[\u001b[38;5;241m0\u001b[39m]\n\u001b[1;32m      4\u001b[0m pdb_name \u001b[38;5;241m=\u001b[39m pdb_uniprot_info[key_id][\u001b[38;5;124m'\u001b[39m\u001b[38;5;124mname\u001b[39m\u001b[38;5;124m'\u001b[39m]\n",
      "\u001b[0;31mKeyError\u001b[0m: '3L1E'"
     ]
    }
   ],
   "source": [
    "pdb_uniprot_info = requests.get('https://www.ebi.ac.uk/pdbe/api/mappings/uniprot/' + pdb_id).json()[pdb_id]['UniProt']\n",
    "key_id = list(pdb_uniprot_info.keys())[0]\n",
    "\n",
    "pdb_name = pdb_uniprot_info[key_id]['name']\n",
    "pdb_name  # Uniprot entry name"
   ]
  },
  {
   "cell_type": "code",
   "execution_count": 87,
   "metadata": {},
   "outputs": [],
   "source": [
    "pdb_name = 'CRYAA_BOVIN'"
   ]
  },
  {
   "cell_type": "code",
   "execution_count": 88,
   "metadata": {},
   "outputs": [],
   "source": [
    "# find sequence corresponding to PDB in the MSA\n",
    "# MSA record name contains uniprot residue range of sequence that is aligned,\n",
    "# so we only return the record if it contains our query start and end range\n",
    "def find_seq_in_MSA(msa, target_name, start=-1, end=-1):\n",
    "\n",
    "    records = []\n",
    "    for record in msa:\n",
    "\n",
    "        rec_split = record.id.split('/')\n",
    "\n",
    "        rec_name = rec_split[0]\n",
    "        rec_range = rec_split[1].split('-')\n",
    "        rec_start = int(rec_range[0])\n",
    "        rec_end = int(rec_range[1])\n",
    "\n",
    "        if rec_name == target_name:\n",
    "            records.append(record)\n",
    "\n",
    "            \n",
    "    return records"
   ]
  },
  {
   "cell_type": "code",
   "execution_count": 89,
   "metadata": {},
   "outputs": [
    {
     "data": {
      "text/plain": [
       "[SeqRecord(seq=Seq('------------------------------------------------------...---'), id='CRYAA_BOVIN/63-162', name='CRYAA_BOVIN', description='CRYAA_BOVIN/63-162', dbxrefs=['PDB; 3L1F A; 63-162;', 'PDB; 3L1E A; 63-162;'])]"
      ]
     },
     "execution_count": 89,
     "metadata": {},
     "output_type": "execute_result"
    }
   ],
   "source": [
    "records = find_seq_in_MSA(msa, pdb_name)\n",
    "records"
   ]
  },
  {
   "cell_type": "code",
   "execution_count": 90,
   "metadata": {},
   "outputs": [
    {
     "data": {
      "text/plain": [
       "SeqRecord(seq=Seq('------------------------------------------------------...---'), id='CRYAA_BOVIN/63-162', name='CRYAA_BOVIN', description='CRYAA_BOVIN/63-162', dbxrefs=['PDB; 3L1F A; 63-162;', 'PDB; 3L1E A; 63-162;'])"
      ]
     },
     "execution_count": 90,
     "metadata": {},
     "output_type": "execute_result"
    }
   ],
   "source": [
    "selected_record = records[0]\n",
    "selected_record"
   ]
  },
  {
   "cell_type": "code",
   "execution_count": 91,
   "metadata": {},
   "outputs": [
    {
     "data": {
      "text/plain": [
       "[' 63', '162']"
      ]
     },
     "execution_count": 91,
     "metadata": {},
     "output_type": "execute_result"
    }
   ],
   "source": [
    "seq_range = selected_record.dbxrefs[1].split(';')[2].split('-')\n",
    "seq_range\n"
   ]
  },
  {
   "cell_type": "code",
   "execution_count": 92,
   "metadata": {},
   "outputs": [
    {
     "data": {
      "text/plain": [
       "(62, 162)"
      ]
     },
     "execution_count": 92,
     "metadata": {},
     "output_type": "execute_result"
    }
   ],
   "source": [
    "# SOMETIMEs this mapping is shifted down one WHY\n",
    "seq_start = int(seq_range[0]) - 1\n",
    "seq_end = int(seq_range[1])\n",
    "seq_start,seq_end"
   ]
  },
  {
   "cell_type": "code",
   "execution_count": 93,
   "metadata": {},
   "outputs": [
    {
     "data": {
      "text/plain": [
       "'eVRSDRDKFVIFLDVKHFSPEDLTVKVQEDFVEIHGKHNERQDDHGYISREFHRRYRLPSNVDQSALSCSLsADGMLTFSGPKIPSGVDagHSERAIPVs'"
      ]
     },
     "execution_count": 93,
     "metadata": {},
     "output_type": "execute_result"
    }
   ],
   "source": [
    "gapped_str = str(selected_record.seq)\n",
    "ungapped_seq = gapped_str.replace('-', '')\n",
    "# raw sequence has same amount of residues as the uniprot range specified\n",
    "# assert len(ungapped_seq) == uniprot_ref_end - uniprot_ref_start + 1\n",
    "ungapped_seq"
   ]
  },
  {
   "cell_type": "code",
   "execution_count": 94,
   "metadata": {},
   "outputs": [
    {
     "data": {
      "text/plain": [
       "'SGISEVRSDRDKFVIFLDVKHFSPEDLTVKVQEDFVEIHGKHNERQDDHGYISREFHRRYRLPSNVDQSALSCSLSADGMLTFSGPKIPSGVDAGHSERAIPVSR'"
      ]
     },
     "execution_count": 94,
     "metadata": {},
     "output_type": "execute_result"
    }
   ],
   "source": [
    "pdb_sequence"
   ]
  },
  {
   "cell_type": "code",
   "execution_count": 95,
   "metadata": {},
   "outputs": [
    {
     "data": {
      "text/plain": [
       "4"
      ]
     },
     "execution_count": 95,
     "metadata": {},
     "output_type": "execute_result"
    }
   ],
   "source": [
    "pdb_sequence.find('eVRSDRDKFVIFLDVKHFSPEDLTVKVQEDFVEIHGKHNERQDDHGYISREFHRRYRLPSNVDQSALSCSLsADGMLTFSGPKIPSGVDagHSERAIPVs'.upper())"
   ]
  },
  {
   "cell_type": "code",
   "execution_count": 96,
   "metadata": {},
   "outputs": [
    {
     "data": {
      "text/plain": [
       "'EVRSDRDKFVIFLDVKHFSPEDLTVKVQEDFVEIHGKHNERQDDHGYISREFHRRYRLPSNVDQSALSCSLSADGMLTFSGPKIPSGVDAGHSERAIPVSR'"
      ]
     },
     "execution_count": 96,
     "metadata": {},
     "output_type": "execute_result"
    }
   ],
   "source": [
    "pdb_sequence[4:]"
   ]
  },
  {
   "cell_type": "code",
   "execution_count": 103,
   "metadata": {},
   "outputs": [],
   "source": [
    "seq_start = 4\n",
    "seq_end = len(pdb_sequence) - 1"
   ]
  },
  {
   "cell_type": "code",
   "execution_count": 111,
   "metadata": {},
   "outputs": [
    {
     "data": {
      "text/plain": [
       "'EVRSDRDKFVIFLDVKHFSPEDLTVKVQEDFVEIHGKHNERQDDHGYISREFHRRYRLPSNVDQSALSCSLSADGMLTFSGPKIPSGVDAGHSERAIPVS'"
      ]
     },
     "execution_count": 111,
     "metadata": {},
     "output_type": "execute_result"
    }
   ],
   "source": [
    "ungapped_seq.upper()  "
   ]
  },
  {
   "cell_type": "code",
   "execution_count": 112,
   "metadata": {},
   "outputs": [
    {
     "data": {
      "text/plain": [
       "'EVRSDRDKFVIFLDVKHFSPEDLTVKVQEDFVEIHGKHNERQDDHGYISREFHRRYRLPSNVDQSALSCSLSADGMLTFSGPKIPSGVDAGHSERAIPVS'"
      ]
     },
     "execution_count": 112,
     "metadata": {},
     "output_type": "execute_result"
    }
   ],
   "source": [
    "pdb_sequence[seq_start:seq_end]"
   ]
  },
  {
   "cell_type": "code",
   "execution_count": 113,
   "metadata": {},
   "outputs": [],
   "source": [
    "# make sure this doesnt fail\n",
    "assert ungapped_seq.upper() == pdb_sequence[seq_start:seq_end]"
   ]
  },
  {
   "cell_type": "code",
   "execution_count": 114,
   "metadata": {},
   "outputs": [
    {
     "data": {
      "text/plain": [
       "109"
      ]
     },
     "execution_count": 114,
     "metadata": {},
     "output_type": "execute_result"
    }
   ],
   "source": [
    "msa_start = len(gapped_str) - len(gapped_str.lstrip('-'))\n",
    "msa_start # inclusive msa col to start at"
   ]
  },
  {
   "cell_type": "code",
   "execution_count": 115,
   "metadata": {},
   "outputs": [
    {
     "data": {
      "text/plain": [
       "635"
      ]
     },
     "execution_count": 115,
     "metadata": {},
     "output_type": "execute_result"
    }
   ],
   "source": [
    "msa_end = len(gapped_str) - (len(gapped_str) - len(gapped_str.rstrip('-')))\n",
    "msa_end # exclusive msa col to end at"
   ]
  },
  {
   "cell_type": "code",
   "execution_count": 116,
   "metadata": {},
   "outputs": [
    {
     "data": {
      "text/plain": [
       "{'pfam_id': 'PF00011',\n",
       " 'pdb_id': '3L1E',\n",
       " 'pdb_name': 'CRYAA_BOVIN',\n",
       " 'seq_range': (4, 104),\n",
       " 'msa_range': (109, 635),\n",
       " 'uniprot_range': (59, 163)}"
      ]
     },
     "execution_count": 116,
     "metadata": {},
     "output_type": "execute_result"
    }
   ],
   "source": [
    "meta = {}\n",
    "meta['pfam_id'] = 'PF00011'\n",
    "meta['pdb_id'] = pdb_id\n",
    "meta['pdb_name'] = pdb_name\n",
    "meta['seq_range'] = (seq_start, seq_end)   # range of pdb sequence that MSA entry refers to [start,end) python indexing\n",
    "meta['msa_range'] = (msa_start,msa_end)    # range of msa cols to crop msa to to include the MSA entry of interest [start,end) python indexing\n",
    "meta['uniprot_range'] = (59,163)           # Uniprot residue range covered by the entire pdb structure [start,end] (for record purposes), find on https://www.ebi.ac.uk/interpro/structure/PDB/\n",
    "\n",
    "meta\n"
   ]
  },
  {
   "cell_type": "code",
   "execution_count": 117,
   "metadata": {},
   "outputs": [],
   "source": [
    "import json\n",
    "import os\n",
    "\n",
    "output_dir = '../data/pf00011'\n",
    "\n",
    "with open(os.path.join(output_dir, f'meta_{pdb_name}.json'), 'w') as f:\n",
    "    json.dump(meta, f)"
   ]
  },
  {
   "cell_type": "code",
   "execution_count": 118,
   "metadata": {},
   "outputs": [],
   "source": [
    "# Parameters\n",
    "msa_path = '/nfshomes/vla/cmsc702-protein-lm/PF00011_full' # path to FULL msa stockholm file\n",
    "N = 10000 # number of sequences to select\n",
    "L = msa_start # left msa index\n",
    "R = msa_end # right msa index \n",
    "output_path = f'/nfshomes/vla/cmsc702-protein-lm/data/pf00011/PF00011_{N}_msa.faa' # output path for new fasta file\n",
    "threshold = 0 # minimal gap ratio to accept [0-1]"
   ]
  },
  {
   "cell_type": "code",
   "execution_count": 119,
   "metadata": {},
   "outputs": [
    {
     "data": {
      "text/plain": [
       "10000"
      ]
     },
     "execution_count": 119,
     "metadata": {},
     "output_type": "execute_result"
    }
   ],
   "source": [
    "random.seed(42)\n",
    "\n",
    "if threshold == None:\n",
    "    threshold = 0\n",
    "try:\n",
    "    seen = set(selected_record[L:R].seq)\n",
    "    records = []\n",
    "\n",
    "    def gap_ratio(seq):\n",
    "        return len(seq.replace('-',''))/len(seq)\n",
    "\n",
    "    for rec in SeqIO.parse(msa_path, 'stockholm'): \n",
    "        if rec[L:R].seq not in seen:\n",
    "            if gap_ratio(rec[L:R].seq) >= threshold:\n",
    "                seen.add(rec[L:R].seq)\n",
    "                records.append(rec[L:R])     \n",
    "except:\n",
    "    print('could not parse file -> not in fasta format')\n",
    "\n",
    "\n",
    "\n",
    "random.shuffle(records) \n",
    "records = [selected_record[L:R]] + records\n",
    "\n",
    "SeqIO.write(records[0:N], output_path, \"fasta\")\n",
    "\n"
   ]
  },
  {
   "cell_type": "code",
   "execution_count": 120,
   "metadata": {},
   "outputs": [
    {
     "data": {
      "text/plain": [
       "SeqRecord(seq=Seq('e-VRSDRDKF-V-I-F-L-D--V----K---H----F----S-------P----...V-s'), id='CRYAA_BOVIN/63-162', name='CRYAA_BOVIN', description='CRYAA_BOVIN/63-162', dbxrefs=[])"
      ]
     },
     "execution_count": 120,
     "metadata": {},
     "output_type": "execute_result"
    }
   ],
   "source": [
    "records[0]"
   ]
  },
  {
   "cell_type": "code",
   "execution_count": 121,
   "metadata": {},
   "outputs": [
    {
     "data": {
      "text/plain": [
       "'s'"
      ]
     },
     "execution_count": 121,
     "metadata": {},
     "output_type": "execute_result"
    }
   ],
   "source": [
    "records[0].seq[-1]"
   ]
  },
  {
   "cell_type": "code",
   "execution_count": 122,
   "metadata": {},
   "outputs": [
    {
     "data": {
      "text/plain": [
       "10000"
      ]
     },
     "execution_count": 122,
     "metadata": {},
     "output_type": "execute_result"
    }
   ],
   "source": [
    "SeqIO.write(records[0:N], output_path, \"fasta\")"
   ]
  }
 ],
 "metadata": {
  "kernelspec": {
   "display_name": "base",
   "language": "python",
   "name": "python3"
  },
  "language_info": {
   "codemirror_mode": {
    "name": "ipython",
    "version": 3
   },
   "file_extension": ".py",
   "mimetype": "text/x-python",
   "name": "python",
   "nbconvert_exporter": "python",
   "pygments_lexer": "ipython3",
   "version": "3.10.0"
  }
 },
 "nbformat": 4,
 "nbformat_minor": 2
}
