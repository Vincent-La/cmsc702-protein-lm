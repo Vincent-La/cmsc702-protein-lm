{
 "cells": [
  {
   "cell_type": "code",
   "execution_count": 6,
   "metadata": {},
   "outputs": [],
   "source": [
    "import pandas as pd\n",
    "import numpy as np\n",
    "import os"
   ]
  },
  {
   "cell_type": "code",
   "execution_count": 7,
   "metadata": {},
   "outputs": [],
   "source": [
    "cols = ['index', 'seqid', 'MSA_i', 'MSA_j', 'seq_i', 'seq_j', 'score']"
   ]
  },
  {
   "cell_type": "code",
   "execution_count": 8,
   "metadata": {},
   "outputs": [],
   "source": [
    "def recall_at_k(contact_matrix, df_dca, k, seq_separation_cutoff = 4.0):\n",
    "    paired_probs = {}\n",
    "    L = contact_matrix.shape[0]\n",
    "    for i in range(L):\n",
    "        for j in range(i):\n",
    "            if abs(i - j) > seq_separation_cutoff:\n",
    "                paired_probs[(i,j)] = contact_matrix[i,j]\n",
    "\n",
    "    # sorted key,val pairs (decending by prob)\n",
    "    # print(sorted(paired_probs.items(), key = lambda item: -item[1]))\n",
    "\n",
    "    # top_k_pairs ESM predictions\n",
    "    top_k_pairs = [k for k,v in sorted(paired_probs.items(), key = lambda item: -item[1])][:k]\n",
    "\n",
    "    # top L dca pairs that exist in sequence\n",
    "    dca_pairs = [(i,j) for i,j in zip(df_dca.seq_i, df_dca.seq_j)]\n",
    "\n",
    "    TP = 0\n",
    "    for esm_pair in top_k_pairs:\n",
    "        if esm_pair in dca_pairs:\n",
    "            TP += 1\n",
    "    \n",
    "    recall = TP / len(dca_pairs)\n",
    "    return recall\n",
    "\n",
    "\n",
    "def compute_average_recall(esm_matrices, df_map):\n",
    "\n",
    "    msa_rows = df_map['index'].unique()\n",
    "    total = 0\n",
    "\n",
    "    for i in msa_rows:\n",
    "        df = df_map[df_map['index'] == i]\n",
    "        contact_matrix = esm_matrices[f'arr_{i}']\n",
    "\n",
    "        L = contact_matrix.shape[0]\n",
    "        # recall at L \n",
    "        recall = recall_at_k(contact_matrix, df, k = L)\n",
    "        total += recall\n",
    "\n",
    "    return total / len(msa_rows)"
   ]
  },
  {
   "cell_type": "code",
   "execution_count": 9,
   "metadata": {},
   "outputs": [
    {
     "data": {
      "text/plain": [
       "'/fs/nexus-scratch/vla'"
      ]
     },
     "execution_count": 9,
     "metadata": {},
     "output_type": "execute_result"
    }
   ],
   "source": [
    "scratch_dir = os.path.join('/fs/nexus-scratch/vla')\n",
    "scratch_dir"
   ]
  },
  {
   "cell_type": "markdown",
   "metadata": {},
   "source": [
    "## Cadherin"
   ]
  },
  {
   "cell_type": "code",
   "execution_count": 10,
   "metadata": {},
   "outputs": [],
   "source": [
    "esm_contacthead_results = np.load(os.path.join(scratch_dir,'cadherin_contacthead.npz'))\n",
    "esmfold_results = np.load(os.path.join(scratch_dir, 'cadherin_esmfold.npz'))"
   ]
  },
  {
   "cell_type": "code",
   "execution_count": 11,
   "metadata": {},
   "outputs": [
    {
     "data": {
      "text/html": [
       "<div>\n",
       "<style scoped>\n",
       "    .dataframe tbody tr th:only-of-type {\n",
       "        vertical-align: middle;\n",
       "    }\n",
       "\n",
       "    .dataframe tbody tr th {\n",
       "        vertical-align: top;\n",
       "    }\n",
       "\n",
       "    .dataframe thead th {\n",
       "        text-align: right;\n",
       "    }\n",
       "</style>\n",
       "<table border=\"1\" class=\"dataframe\">\n",
       "  <thead>\n",
       "    <tr style=\"text-align: right;\">\n",
       "      <th></th>\n",
       "      <th>index</th>\n",
       "      <th>seqid</th>\n",
       "      <th>MSA_i</th>\n",
       "      <th>MSA_j</th>\n",
       "      <th>seq_i</th>\n",
       "      <th>seq_j</th>\n",
       "      <th>score</th>\n",
       "    </tr>\n",
       "  </thead>\n",
       "  <tbody>\n",
       "    <tr>\n",
       "      <th>0</th>\n",
       "      <td>0</td>\n",
       "      <td>CADH1_HUMAN/267-366</td>\n",
       "      <td>283</td>\n",
       "      <td>276</td>\n",
       "      <td>69</td>\n",
       "      <td>67</td>\n",
       "      <td>1.954369</td>\n",
       "    </tr>\n",
       "  </tbody>\n",
       "</table>\n",
       "</div>"
      ],
      "text/plain": [
       "   index                seqid  MSA_i  MSA_j  seq_i  seq_j     score\n",
       "0      0  CADH1_HUMAN/267-366    283    276     69     67  1.954369"
      ]
     },
     "execution_count": 11,
     "metadata": {},
     "output_type": "execute_result"
    }
   ],
   "source": [
    "df_plmdca_by_seq = pd.read_csv('/nfshomes/vla/cmsc702-protein-lm/results/cadherin/PF00028_all_plmdca_mapped.csv', header = None)\n",
    "df_plmdca_by_seq.columns = cols\n",
    "df_plmdca_by_seq[:1]"
   ]
  },
  {
   "cell_type": "code",
   "execution_count": 12,
   "metadata": {},
   "outputs": [
    {
     "data": {
      "text/plain": [
       "0.22034388731658433"
      ]
     },
     "execution_count": 12,
     "metadata": {},
     "output_type": "execute_result"
    }
   ],
   "source": [
    "# plmdca - esm+contacthead\n",
    "compute_average_recall(esm_contacthead_results, df_plmdca_by_seq)"
   ]
  },
  {
   "cell_type": "code",
   "execution_count": 13,
   "metadata": {},
   "outputs": [
    {
     "data": {
      "text/plain": [
       "0.16968297561300383"
      ]
     },
     "execution_count": 13,
     "metadata": {},
     "output_type": "execute_result"
    }
   ],
   "source": [
    "# plmdca - esmfold\n",
    "compute_average_recall(esmfold_results, df_plmdca_by_seq)"
   ]
  },
  {
   "cell_type": "code",
   "execution_count": null,
   "metadata": {},
   "outputs": [],
   "source": [
    "# df_mfdca_by_seq = pd.read_csv('/nfshomes/vla/cmsc702-protein-lm/results/cadherin/PF00028_plmdca_mapped.csv', header = None)\n",
    "# df_mfdca_by_seq.columns = cols\n",
    "# df_mfdca_by_seq[:1]"
   ]
  },
  {
   "cell_type": "markdown",
   "metadata": {},
   "source": [
    "## RRM"
   ]
  },
  {
   "cell_type": "code",
   "execution_count": 17,
   "metadata": {},
   "outputs": [],
   "source": [
    "esm_contacthead_results = np.load(os.path.join(scratch_dir,'rrm_contacthead.npz'))\n",
    "esmfold_results = np.load(os.path.join(scratch_dir, 'rrm_esmfold.npz'))"
   ]
  },
  {
   "cell_type": "code",
   "execution_count": 18,
   "metadata": {},
   "outputs": [
    {
     "data": {
      "text/html": [
       "<div>\n",
       "<style scoped>\n",
       "    .dataframe tbody tr th:only-of-type {\n",
       "        vertical-align: middle;\n",
       "    }\n",
       "\n",
       "    .dataframe tbody tr th {\n",
       "        vertical-align: top;\n",
       "    }\n",
       "\n",
       "    .dataframe thead th {\n",
       "        text-align: right;\n",
       "    }\n",
       "</style>\n",
       "<table border=\"1\" class=\"dataframe\">\n",
       "  <thead>\n",
       "    <tr style=\"text-align: right;\">\n",
       "      <th></th>\n",
       "      <th>index</th>\n",
       "      <th>seqid</th>\n",
       "      <th>MSA_i</th>\n",
       "      <th>MSA_j</th>\n",
       "      <th>seq_i</th>\n",
       "      <th>seq_j</th>\n",
       "      <th>score</th>\n",
       "    </tr>\n",
       "  </thead>\n",
       "  <tbody>\n",
       "    <tr>\n",
       "      <th>0</th>\n",
       "      <td>0</td>\n",
       "      <td>ELAV3_MOUSE/41-111</td>\n",
       "      <td>390</td>\n",
       "      <td>368</td>\n",
       "      <td>51</td>\n",
       "      <td>48</td>\n",
       "      <td>0.937223</td>\n",
       "    </tr>\n",
       "  </tbody>\n",
       "</table>\n",
       "</div>"
      ],
      "text/plain": [
       "   index               seqid  MSA_i  MSA_j  seq_i  seq_j     score\n",
       "0      0  ELAV3_MOUSE/41-111    390    368     51     48  0.937223"
      ]
     },
     "execution_count": 18,
     "metadata": {},
     "output_type": "execute_result"
    }
   ],
   "source": [
    "df_plmdca_by_seq = pd.read_csv('/nfshomes/vla/cmsc702-protein-lm/results/rrm/rrm_all_plmdca_mapped.csv', header = None)\n",
    "df_plmdca_by_seq.columns = cols\n",
    "df_plmdca_by_seq[:1]"
   ]
  },
  {
   "cell_type": "code",
   "execution_count": 19,
   "metadata": {},
   "outputs": [
    {
     "data": {
      "text/plain": [
       "0.14701365413803674"
      ]
     },
     "execution_count": 19,
     "metadata": {},
     "output_type": "execute_result"
    }
   ],
   "source": [
    "# plmdca - esm+contacthead\n",
    "compute_average_recall(esm_contacthead_results, df_plmdca_by_seq)"
   ]
  },
  {
   "cell_type": "code",
   "execution_count": 20,
   "metadata": {},
   "outputs": [
    {
     "data": {
      "text/plain": [
       "0.1220521120145991"
      ]
     },
     "execution_count": 20,
     "metadata": {},
     "output_type": "execute_result"
    }
   ],
   "source": [
    "# plmdca - esmfold\n",
    "compute_average_recall(esmfold_results, df_plmdca_by_seq)"
   ]
  },
  {
   "cell_type": "markdown",
   "metadata": {},
   "source": [
    "## PF00011 "
   ]
  },
  {
   "cell_type": "code",
   "execution_count": 21,
   "metadata": {},
   "outputs": [],
   "source": [
    "esm_contacthead_results = np.load(os.path.join(scratch_dir, 'pf00011_contacthead.npz'))\n",
    "esmfold_results = np.load(os.path.join(scratch_dir, 'pf00011_esmfold.npz'))"
   ]
  },
  {
   "cell_type": "code",
   "execution_count": 22,
   "metadata": {},
   "outputs": [
    {
     "data": {
      "text/html": [
       "<div>\n",
       "<style scoped>\n",
       "    .dataframe tbody tr th:only-of-type {\n",
       "        vertical-align: middle;\n",
       "    }\n",
       "\n",
       "    .dataframe tbody tr th {\n",
       "        vertical-align: top;\n",
       "    }\n",
       "\n",
       "    .dataframe thead th {\n",
       "        text-align: right;\n",
       "    }\n",
       "</style>\n",
       "<table border=\"1\" class=\"dataframe\">\n",
       "  <thead>\n",
       "    <tr style=\"text-align: right;\">\n",
       "      <th></th>\n",
       "      <th>index</th>\n",
       "      <th>seqid</th>\n",
       "      <th>MSA_i</th>\n",
       "      <th>MSA_j</th>\n",
       "      <th>seq_i</th>\n",
       "      <th>seq_j</th>\n",
       "      <th>score</th>\n",
       "    </tr>\n",
       "  </thead>\n",
       "  <tbody>\n",
       "    <tr>\n",
       "      <th>0</th>\n",
       "      <td>0</td>\n",
       "      <td>CRYAA_BOVIN/63-162</td>\n",
       "      <td>281</td>\n",
       "      <td>135</td>\n",
       "      <td>51</td>\n",
       "      <td>35</td>\n",
       "      <td>0.996449</td>\n",
       "    </tr>\n",
       "  </tbody>\n",
       "</table>\n",
       "</div>"
      ],
      "text/plain": [
       "   index               seqid  MSA_i  MSA_j  seq_i  seq_j     score\n",
       "0      0  CRYAA_BOVIN/63-162    281    135     51     35  0.996449"
      ]
     },
     "execution_count": 22,
     "metadata": {},
     "output_type": "execute_result"
    }
   ],
   "source": [
    "df_plmdca_by_seq = pd.read_csv('/nfshomes/vla/cmsc702-protein-lm/results/pf00011/PF00011_all_plmdca_mapped.csv', header = None)\n",
    "df_plmdca_by_seq.columns = cols\n",
    "df_plmdca_by_seq[:1]"
   ]
  },
  {
   "cell_type": "code",
   "execution_count": 23,
   "metadata": {},
   "outputs": [
    {
     "data": {
      "text/plain": [
       "0.13304799501892345"
      ]
     },
     "execution_count": 23,
     "metadata": {},
     "output_type": "execute_result"
    }
   ],
   "source": [
    "compute_average_recall(esm_contacthead_results, df_plmdca_by_seq)"
   ]
  },
  {
   "cell_type": "code",
   "execution_count": 24,
   "metadata": {},
   "outputs": [
    {
     "data": {
      "text/plain": [
       "0.09815407899759249"
      ]
     },
     "execution_count": 24,
     "metadata": {},
     "output_type": "execute_result"
    }
   ],
   "source": [
    "compute_average_recall(esmfold_results, df_plmdca_by_seq)"
   ]
  },
  {
   "cell_type": "markdown",
   "metadata": {},
   "source": [
    "## PF00043"
   ]
  },
  {
   "cell_type": "code",
   "execution_count": 25,
   "metadata": {},
   "outputs": [],
   "source": [
    "esm_contacthead_results = np.load(os.path.join(scratch_dir, 'pf00043_contacthead.npz'))\n",
    "esmfold_results = np.load(os.path.join(scratch_dir, 'pf00043_esmfold.npz'))"
   ]
  },
  {
   "cell_type": "code",
   "execution_count": 26,
   "metadata": {},
   "outputs": [
    {
     "data": {
      "text/html": [
       "<div>\n",
       "<style scoped>\n",
       "    .dataframe tbody tr th:only-of-type {\n",
       "        vertical-align: middle;\n",
       "    }\n",
       "\n",
       "    .dataframe tbody tr th {\n",
       "        vertical-align: top;\n",
       "    }\n",
       "\n",
       "    .dataframe thead th {\n",
       "        text-align: right;\n",
       "    }\n",
       "</style>\n",
       "<table border=\"1\" class=\"dataframe\">\n",
       "  <thead>\n",
       "    <tr style=\"text-align: right;\">\n",
       "      <th></th>\n",
       "      <th>index</th>\n",
       "      <th>seqid</th>\n",
       "      <th>MSA_i</th>\n",
       "      <th>MSA_j</th>\n",
       "      <th>seq_i</th>\n",
       "      <th>seq_j</th>\n",
       "      <th>score</th>\n",
       "    </tr>\n",
       "  </thead>\n",
       "  <tbody>\n",
       "    <tr>\n",
       "      <th>0</th>\n",
       "      <td>0</td>\n",
       "      <td>GSTM2_RAT/104-192</td>\n",
       "      <td>280</td>\n",
       "      <td>276</td>\n",
       "      <td>83</td>\n",
       "      <td>79</td>\n",
       "      <td>1.891365</td>\n",
       "    </tr>\n",
       "  </tbody>\n",
       "</table>\n",
       "</div>"
      ],
      "text/plain": [
       "   index              seqid  MSA_i  MSA_j  seq_i  seq_j     score\n",
       "0      0  GSTM2_RAT/104-192    280    276     83     79  1.891365"
      ]
     },
     "execution_count": 26,
     "metadata": {},
     "output_type": "execute_result"
    }
   ],
   "source": [
    "df_plmdca_by_seq = pd.read_csv('/nfshomes/vla/cmsc702-protein-lm/results/pf00043/PF00043_all_plmdca_mapped.csv', header = None)\n",
    "df_plmdca_by_seq.columns = cols\n",
    "df_plmdca_by_seq[:1]"
   ]
  },
  {
   "cell_type": "code",
   "execution_count": 27,
   "metadata": {},
   "outputs": [
    {
     "data": {
      "text/plain": [
       "0.17833629277591623"
      ]
     },
     "execution_count": 27,
     "metadata": {},
     "output_type": "execute_result"
    }
   ],
   "source": [
    "compute_average_recall(esm_contacthead_results, df_plmdca_by_seq)"
   ]
  },
  {
   "cell_type": "code",
   "execution_count": 28,
   "metadata": {},
   "outputs": [
    {
     "data": {
      "text/plain": [
       "0.15238377590988322"
      ]
     },
     "execution_count": 28,
     "metadata": {},
     "output_type": "execute_result"
    }
   ],
   "source": [
    "compute_average_recall(esmfold_results, df_plmdca_by_seq)"
   ]
  }
 ],
 "metadata": {
  "kernelspec": {
   "display_name": "Python 3",
   "language": "python",
   "name": "python3"
  },
  "language_info": {
   "codemirror_mode": {
    "name": "ipython",
    "version": 3
   },
   "file_extension": ".py",
   "mimetype": "text/x-python",
   "name": "python",
   "nbconvert_exporter": "python",
   "pygments_lexer": "ipython3",
   "version": "3.10.0"
  }
 },
 "nbformat": 4,
 "nbformat_minor": 2
}
