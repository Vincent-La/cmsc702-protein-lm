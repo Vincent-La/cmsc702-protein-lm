{
 "cells": [
  {
   "cell_type": "code",
   "execution_count": 48,
   "metadata": {},
   "outputs": [],
   "source": [
    "import pandas as pd\n",
    "import numpy as np\n",
    "import os"
   ]
  },
  {
   "cell_type": "code",
   "execution_count": 3,
   "metadata": {},
   "outputs": [],
   "source": [
    "cols = ['index', 'seqid', 'MSA_i', 'MSA_j', 'seq_i', 'seq_j', 'score']"
   ]
  },
  {
   "cell_type": "code",
   "execution_count": 23,
   "metadata": {},
   "outputs": [],
   "source": [
    "def recall_at_k(contact_matrix, df_dca, k, seq_separation_cutoff = 4.0):\n",
    "    paired_probs = {}\n",
    "    L = contact_matrix.shape[0]\n",
    "    for i in range(L):\n",
    "        for j in range(i):\n",
    "            if abs(i - j) > seq_separation_cutoff:\n",
    "                paired_probs[(i,j)] = contact_matrix[i,j]\n",
    "\n",
    "    # sorted key,val pairs (decending by prob)\n",
    "    # print(sorted(paired_probs.items(), key = lambda item: -item[1]))\n",
    "\n",
    "    # top_k_pairs ESM predictions\n",
    "    top_k_pairs = [k for k,v in sorted(paired_probs.items(), key = lambda item: -item[1])][:k]\n",
    "\n",
    "    # top L dca pairs that exist in sequence\n",
    "    dca_pairs = [(i,j) for i,j in zip(df_dca.seq_i, df_dca.seq_j)]\n",
    "\n",
    "    TP = 0\n",
    "    for esm_pair in top_k_pairs:\n",
    "        if esm_pair in dca_pairs:\n",
    "            TP += 1\n",
    "    \n",
    "    recall = TP / len(dca_pairs)\n",
    "    return recall\n",
    "\n",
    "\n",
    "def compute_average_recall(esm_matrices, df_map):\n",
    "\n",
    "    msa_rows = df_map['index'].unique()\n",
    "    total = 0\n",
    "\n",
    "    for i in msa_rows:\n",
    "        df = df_map[df_map['index'] == i]\n",
    "        contact_matrix = esm_matrices[f'arr_{i}']\n",
    "\n",
    "        L = contact_matrix.shape[0]\n",
    "        # recall at L \n",
    "        recall = recall_at_k(contact_matrix, df, k = L)\n",
    "        total += recall\n",
    "\n",
    "    return total / len(msa_rows)"
   ]
  },
  {
   "cell_type": "code",
   "execution_count": 49,
   "metadata": {},
   "outputs": [
    {
     "data": {
      "text/plain": [
       "'/fs/nexus-scratch/vla'"
      ]
     },
     "execution_count": 49,
     "metadata": {},
     "output_type": "execute_result"
    }
   ],
   "source": [
    "scratch_dir = os.path.join('/fs/nexus-scratch/vla')\n",
    "scratch_dir"
   ]
  },
  {
   "cell_type": "markdown",
   "metadata": {},
   "source": [
    "## Cadherin"
   ]
  },
  {
   "cell_type": "code",
   "execution_count": 50,
   "metadata": {},
   "outputs": [],
   "source": [
    "esm_contacthead_results = np.load(os.path.join(scratch_dir,'cadherin_contacthead.npz'))\n",
    "esmfold_results = np.load(os.path.join(scratch_dir, 'cadherin_esmfold.npz'))"
   ]
  },
  {
   "cell_type": "code",
   "execution_count": 53,
   "metadata": {},
   "outputs": [
    {
     "data": {
      "text/html": [
       "<div>\n",
       "<style scoped>\n",
       "    .dataframe tbody tr th:only-of-type {\n",
       "        vertical-align: middle;\n",
       "    }\n",
       "\n",
       "    .dataframe tbody tr th {\n",
       "        vertical-align: top;\n",
       "    }\n",
       "\n",
       "    .dataframe thead th {\n",
       "        text-align: right;\n",
       "    }\n",
       "</style>\n",
       "<table border=\"1\" class=\"dataframe\">\n",
       "  <thead>\n",
       "    <tr style=\"text-align: right;\">\n",
       "      <th></th>\n",
       "      <th>index</th>\n",
       "      <th>seqid</th>\n",
       "      <th>MSA_i</th>\n",
       "      <th>MSA_j</th>\n",
       "      <th>seq_i</th>\n",
       "      <th>seq_j</th>\n",
       "      <th>score</th>\n",
       "    </tr>\n",
       "  </thead>\n",
       "  <tbody>\n",
       "    <tr>\n",
       "      <th>0</th>\n",
       "      <td>0</td>\n",
       "      <td>CADH1_HUMAN/267-366</td>\n",
       "      <td>232</td>\n",
       "      <td>198</td>\n",
       "      <td>59</td>\n",
       "      <td>57</td>\n",
       "      <td>0.686212</td>\n",
       "    </tr>\n",
       "  </tbody>\n",
       "</table>\n",
       "</div>"
      ],
      "text/plain": [
       "   index                seqid  MSA_i  MSA_j  seq_i  seq_j     score\n",
       "0      0  CADH1_HUMAN/267-366    232    198     59     57  0.686212"
      ]
     },
     "execution_count": 53,
     "metadata": {},
     "output_type": "execute_result"
    }
   ],
   "source": [
    "df_plmdca_by_seq = pd.read_csv('/nfshomes/vla/cmsc702-protein-lm/results/cadherin/PF00028_plmdca_mapped.csv', header = None)\n",
    "df_plmdca_by_seq.columns = cols\n",
    "df_plmdca_by_seq[:1]"
   ]
  },
  {
   "cell_type": "code",
   "execution_count": 54,
   "metadata": {},
   "outputs": [
    {
     "data": {
      "text/plain": [
       "0.0098"
      ]
     },
     "execution_count": 54,
     "metadata": {},
     "output_type": "execute_result"
    }
   ],
   "source": [
    "# plmdca - esm+contacthead\n",
    "compute_average_recall(esm_contacthead_results, df_plmdca_by_seq)"
   ]
  },
  {
   "cell_type": "code",
   "execution_count": 55,
   "metadata": {},
   "outputs": [
    {
     "data": {
      "text/plain": [
       "0.01"
      ]
     },
     "execution_count": 55,
     "metadata": {},
     "output_type": "execute_result"
    }
   ],
   "source": [
    "# plmdca - esmfold\n",
    "compute_average_recall(esmfold_results, df_plmdca_by_seq)"
   ]
  },
  {
   "cell_type": "code",
   "execution_count": null,
   "metadata": {},
   "outputs": [],
   "source": [
    "df_mfdca_by_seq = pd.read_csv('/nfshomes/vla/cmsc702-protein-lm/results/cadherin/PF00028_plmdca_mapped.csv', header = None)\n",
    "df_mfdca_by_seq.columns = cols\n",
    "df_mfdca_by_seq[:1]"
   ]
  },
  {
   "cell_type": "markdown",
   "metadata": {},
   "source": [
    "## RRM"
   ]
  },
  {
   "cell_type": "code",
   "execution_count": 56,
   "metadata": {},
   "outputs": [],
   "source": [
    "esm_contacthead_results = np.load(os.path.join(scratch_dir,'rrm_contacthead.npz'))\n",
    "esmfold_results = np.load(os.path.join(scratch_dir, 'rrm_esmfold.npz'))"
   ]
  },
  {
   "cell_type": "code",
   "execution_count": 29,
   "metadata": {},
   "outputs": [],
   "source": [
    "# df_plmdca_by_seq = pd.read_csv('/nfshomes/vla/cmsc702-protein-lm/results/rrm/plmdca_rrm_output.csv', header = None)\n",
    "# df_plmdca_by_seq\n",
    "# # df_plmdca_by_seq.columns = cols"
   ]
  },
  {
   "cell_type": "code",
   "execution_count": null,
   "metadata": {},
   "outputs": [],
   "source": [
    "# plmdca - esm+contacthead\n",
    "esm_contacthead_results = np.load('/fs/nexus-scratch/vla/rrm_contacthead.npz')\n",
    "compute_average_recall(esm_contacthead_results)\n"
   ]
  },
  {
   "cell_type": "markdown",
   "metadata": {},
   "source": [
    "## PF00011 "
   ]
  },
  {
   "cell_type": "code",
   "execution_count": 57,
   "metadata": {},
   "outputs": [],
   "source": [
    "esm_contacthead_results = np.load(os.path.join(scratch_dir, 'pf00011_contacthead.npz'))\n",
    "esmfold_results = np.load(os.path.join(scratch_dir, 'pf00011_esmfold.npz'))"
   ]
  },
  {
   "cell_type": "code",
   "execution_count": 33,
   "metadata": {},
   "outputs": [],
   "source": [
    "df_plmdca_by_seq = pd.read_csv('/nfshomes/vla/cmsc702-protein-lm/results/pf00011/pf00011_plmdca_mapped.csv', header = None)\n",
    "df_plmdca_by_seq.columns = cols"
   ]
  },
  {
   "cell_type": "code",
   "execution_count": 34,
   "metadata": {},
   "outputs": [
    {
     "data": {
      "text/html": [
       "<div>\n",
       "<style scoped>\n",
       "    .dataframe tbody tr th:only-of-type {\n",
       "        vertical-align: middle;\n",
       "    }\n",
       "\n",
       "    .dataframe tbody tr th {\n",
       "        vertical-align: top;\n",
       "    }\n",
       "\n",
       "    .dataframe thead th {\n",
       "        text-align: right;\n",
       "    }\n",
       "</style>\n",
       "<table border=\"1\" class=\"dataframe\">\n",
       "  <thead>\n",
       "    <tr style=\"text-align: right;\">\n",
       "      <th></th>\n",
       "      <th>index</th>\n",
       "      <th>seqid</th>\n",
       "      <th>MSA_i</th>\n",
       "      <th>MSA_j</th>\n",
       "      <th>seq_i</th>\n",
       "      <th>seq_j</th>\n",
       "      <th>score</th>\n",
       "    </tr>\n",
       "  </thead>\n",
       "  <tbody>\n",
       "    <tr>\n",
       "      <th>0</th>\n",
       "      <td>0</td>\n",
       "      <td>CRYAA_BOVIN/63-162</td>\n",
       "      <td>402</td>\n",
       "      <td>3</td>\n",
       "      <td>81</td>\n",
       "      <td>2</td>\n",
       "      <td>0.636316</td>\n",
       "    </tr>\n",
       "  </tbody>\n",
       "</table>\n",
       "</div>"
      ],
      "text/plain": [
       "   index               seqid  MSA_i  MSA_j  seq_i  seq_j     score\n",
       "0      0  CRYAA_BOVIN/63-162    402      3     81      2  0.636316"
      ]
     },
     "execution_count": 34,
     "metadata": {},
     "output_type": "execute_result"
    }
   ],
   "source": [
    "df_plmdca_by_seq[:1]"
   ]
  },
  {
   "cell_type": "code",
   "execution_count": null,
   "metadata": {},
   "outputs": [
    {
     "data": {
      "text/plain": [
       "0.00895650471343101"
      ]
     },
     "execution_count": 32,
     "metadata": {},
     "output_type": "execute_result"
    }
   ],
   "source": [
    "compute_average_recall(esm_contacthead_results, df_plmdca_by_seq)"
   ]
  },
  {
   "cell_type": "code",
   "execution_count": 35,
   "metadata": {},
   "outputs": [
    {
     "data": {
      "text/plain": [
       "0.00633361484979726"
      ]
     },
     "execution_count": 35,
     "metadata": {},
     "output_type": "execute_result"
    }
   ],
   "source": [
    "compute_average_recall(esmfold_results, df_plmdca_by_seq)"
   ]
  },
  {
   "cell_type": "markdown",
   "metadata": {},
   "source": [
    "## PF00043"
   ]
  },
  {
   "cell_type": "code",
   "execution_count": 58,
   "metadata": {},
   "outputs": [],
   "source": [
    "esm_contacthead_results = np.load(os.path.join(scratch_dir, 'pf00043_contacthead.npz'))\n",
    "esmfold_results = np.load(os.path.join(scratch_dir, 'pf00043_esmfold.npz'))"
   ]
  },
  {
   "cell_type": "code",
   "execution_count": 45,
   "metadata": {},
   "outputs": [
    {
     "data": {
      "text/html": [
       "<div>\n",
       "<style scoped>\n",
       "    .dataframe tbody tr th:only-of-type {\n",
       "        vertical-align: middle;\n",
       "    }\n",
       "\n",
       "    .dataframe tbody tr th {\n",
       "        vertical-align: top;\n",
       "    }\n",
       "\n",
       "    .dataframe thead th {\n",
       "        text-align: right;\n",
       "    }\n",
       "</style>\n",
       "<table border=\"1\" class=\"dataframe\">\n",
       "  <thead>\n",
       "    <tr style=\"text-align: right;\">\n",
       "      <th></th>\n",
       "      <th>index</th>\n",
       "      <th>seqid</th>\n",
       "      <th>MSA_i</th>\n",
       "      <th>MSA_j</th>\n",
       "      <th>seq_i</th>\n",
       "      <th>seq_j</th>\n",
       "      <th>score</th>\n",
       "    </tr>\n",
       "  </thead>\n",
       "  <tbody>\n",
       "    <tr>\n",
       "      <th>0</th>\n",
       "      <td>0</td>\n",
       "      <td>GSTM2_RAT/104-192</td>\n",
       "      <td>282</td>\n",
       "      <td>278</td>\n",
       "      <td>85</td>\n",
       "      <td>81</td>\n",
       "      <td>0.734966</td>\n",
       "    </tr>\n",
       "  </tbody>\n",
       "</table>\n",
       "</div>"
      ],
      "text/plain": [
       "   index              seqid  MSA_i  MSA_j  seq_i  seq_j     score\n",
       "0      0  GSTM2_RAT/104-192    282    278     85     81  0.734966"
      ]
     },
     "execution_count": 45,
     "metadata": {},
     "output_type": "execute_result"
    }
   ],
   "source": [
    "df_plmdca_by_seq = pd.read_csv('/nfshomes/vla/cmsc702-protein-lm/results/pf00043/pf00043_plmdca_mapped.csv', header = None)\n",
    "df_plmdca_by_seq.columns = cols\n",
    "df_plmdca_by_seq[:1]"
   ]
  },
  {
   "cell_type": "code",
   "execution_count": 46,
   "metadata": {},
   "outputs": [
    {
     "data": {
      "text/plain": [
       "0.08199790457157424"
      ]
     },
     "execution_count": 46,
     "metadata": {},
     "output_type": "execute_result"
    }
   ],
   "source": [
    "compute_average_recall(esm_contacthead_results, df_plmdca_by_seq)"
   ]
  },
  {
   "cell_type": "code",
   "execution_count": 47,
   "metadata": {},
   "outputs": [
    {
     "data": {
      "text/plain": [
       "0.086425188846375"
      ]
     },
     "execution_count": 47,
     "metadata": {},
     "output_type": "execute_result"
    }
   ],
   "source": [
    "compute_average_recall(esmfold_results, df_plmdca_by_seq)"
   ]
  }
 ],
 "metadata": {
  "kernelspec": {
   "display_name": "Python 3",
   "language": "python",
   "name": "python3"
  },
  "language_info": {
   "codemirror_mode": {
    "name": "ipython",
    "version": 3
   },
   "file_extension": ".py",
   "mimetype": "text/x-python",
   "name": "python",
   "nbconvert_exporter": "python",
   "pygments_lexer": "ipython3",
   "version": "3.10.0"
  }
 },
 "nbformat": 4,
 "nbformat_minor": 2
}
